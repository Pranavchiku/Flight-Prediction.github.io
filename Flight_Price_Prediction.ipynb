{
  "nbformat": 4,
  "nbformat_minor": 0,
  "metadata": {
    "colab": {
      "name": "Flight Price Prediction.ipynb",
      "provenance": [],
      "collapsed_sections": [
        "_pjZilbE9vQe",
        "hhmA92N9_cwm",
        "xwHA3Rv48EbX",
        "pbed0wPI8a0N",
        "LsLNrs_o_cq7",
        "tY29OsjbBIAe",
        "CJauXaGNBcGB"
      ]
    },
    "kernelspec": {
      "name": "python3",
      "display_name": "Python 3"
    },
    "language_info": {
      "name": "python"
    }
  },
  "cells": [
    {
      "cell_type": "code",
      "execution_count": null,
      "metadata": {
        "id": "SRIEaqkxnb7I"
      },
      "outputs": [],
      "source": [
        "import pandas as pd\n",
        "import numpy as np\n",
        "import matplotlib.pyplot as plt\n",
        "import sys\n",
        "import seaborn as sns\n",
        "from sklearn.metrics import precision_score as ps\n",
        "from sklearn.metrics import recall_score as rs\n",
        "from sklearn.metrics import f1_score as f1s\n",
        "from sklearn.metrics import accuracy_score\n",
        "from sklearn.metrics import mean_squared_error as mse\n",
        "from sklearn.metrics import accuracy_score\n",
        "from tqdm import tqdm\n",
        "import IPython\n",
        "import numpy as np\n",
        "import wave\n",
        "from sklearn.cluster import KMeans\n",
        "import os\n",
        "from PIL import Image\n",
        "from numpy import asarray\n",
        "import cv2\n",
        "from sklearn.decomposition import PCA\n",
        "import tensorflow as tf\n",
        "from sklearn.metrics import accuracy_score\n",
        "from sklearn.tree import DecisionTreeClassifier, DecisionTreeRegressor\n",
        "from sklearn.ensemble import RandomForestClassifier\n",
        "from sklearn.linear_model import LogisticRegression,LinearRegression\n",
        "from sklearn.svm import SVC\n",
        "from sklearn.pipeline import make_pipeline\n",
        "from sklearn.preprocessing import StandardScaler\n",
        "from keras import Input\n",
        "from keras.models import Sequential,Model\n",
        "from keras.layers import Conv2D,Dense,Flatten,MaxPooling2D,AveragePooling2D,GlobalMaxPooling2D,MaxPool2D,UpSampling2D,concatenate,Dropout\n",
        "from sklearn.metrics import *\n",
        "from matplotlib import pyplot\n",
        "from tensorflow.keras.optimizers import Adam\n",
        "from xgboost.sklearn import XGBClassifier\n",
        "from lightgbm import LGBMClassifier\n",
        "from sklearn import preprocessing\n",
        "from datetime import datetime\n",
        "import time\n",
        "from sklearn.metrics import r2_score,mean_absolute_error,mean_squared_error\n",
        "from sklearn.ensemble import RandomForestRegressor\n",
        "from sklearn.model_selection import GridSearchCV\n",
        "from xgboost import XGBRegressor\n",
        "from lightgbm import LGBMRegressor\n",
        "\n"
      ]
    },
    {
      "cell_type": "code",
      "source": [
        "import warnings\n",
        "warnings.filterwarnings('ignore')"
      ],
      "metadata": {
        "id": "U8BrvmyRoTxz"
      },
      "execution_count": null,
      "outputs": []
    },
    {
      "cell_type": "code",
      "source": [
        "from google.colab import drive\n",
        "drive.mount('/content/drive')"
      ],
      "metadata": {
        "colab": {
          "base_uri": "https://localhost:8080/"
        },
        "id": "FQg8vwB0oUXK",
        "outputId": "837d3247-f759-45dc-9523-a2de7fb3e511"
      },
      "execution_count": null,
      "outputs": [
        {
          "output_type": "stream",
          "name": "stdout",
          "text": [
            "Mounted at /content/drive\n"
          ]
        }
      ]
    },
    {
      "cell_type": "markdown",
      "source": [
        "## Importing the dataset"
      ],
      "metadata": {
        "id": "G82YWv3PoYH4"
      }
    },
    {
      "cell_type": "code",
      "source": [
        "data = pd.read_csv('/content/drive/MyDrive/PRML Bonus Project Flight Price Prediction/Data (2).csv')\n",
        "data"
      ],
      "metadata": {
        "colab": {
          "base_uri": "https://localhost:8080/",
          "height": 423
        },
        "id": "WuGwSMmuoZ7Y",
        "outputId": "33ebd6d0-8216-49da-9e7e-bcf658081cfe"
      },
      "execution_count": null,
      "outputs": [
        {
          "output_type": "execute_result",
          "data": {
            "text/plain": [
              "           Airline Date_of_Journey    Source Destination  \\\n",
              "0           IndiGo      24/03/2019  Banglore   New Delhi   \n",
              "1        Air India       1/05/2019   Kolkata    Banglore   \n",
              "2      Jet Airways       9/06/2019     Delhi      Cochin   \n",
              "3           IndiGo      12/05/2019   Kolkata    Banglore   \n",
              "4           IndiGo      01/03/2019  Banglore   New Delhi   \n",
              "...            ...             ...       ...         ...   \n",
              "10678     Air Asia       9/04/2019   Kolkata    Banglore   \n",
              "10679    Air India      27/04/2019   Kolkata    Banglore   \n",
              "10680  Jet Airways      27/04/2019  Banglore       Delhi   \n",
              "10681      Vistara      01/03/2019  Banglore   New Delhi   \n",
              "10682    Air India       9/05/2019     Delhi      Cochin   \n",
              "\n",
              "                       Route Dep_Time  Arrival_Time Duration Total_Stops  \\\n",
              "0                  BLR → DEL    22:20  01:10 22 Mar   2h 50m    non-stop   \n",
              "1      CCU → IXR → BBI → BLR    05:50         13:15   7h 25m     2 stops   \n",
              "2      DEL → LKO → BOM → COK    09:25  04:25 10 Jun      19h     2 stops   \n",
              "3            CCU → NAG → BLR    18:05         23:30   5h 25m      1 stop   \n",
              "4            BLR → NAG → DEL    16:50         21:35   4h 45m      1 stop   \n",
              "...                      ...      ...           ...      ...         ...   \n",
              "10678              CCU → BLR    19:55         22:25   2h 30m    non-stop   \n",
              "10679              CCU → BLR    20:45         23:20   2h 35m    non-stop   \n",
              "10680              BLR → DEL    08:20         11:20       3h    non-stop   \n",
              "10681              BLR → DEL    11:30         14:10   2h 40m    non-stop   \n",
              "10682  DEL → GOI → BOM → COK    10:55         19:15   8h 20m     2 stops   \n",
              "\n",
              "      Additional_Info  Price  \n",
              "0             No info   3897  \n",
              "1             No info   7662  \n",
              "2             No info  13882  \n",
              "3             No info   6218  \n",
              "4             No info  13302  \n",
              "...               ...    ...  \n",
              "10678         No info   4107  \n",
              "10679         No info   4145  \n",
              "10680         No info   7229  \n",
              "10681         No info  12648  \n",
              "10682         No info  11753  \n",
              "\n",
              "[10683 rows x 11 columns]"
            ],
            "text/html": [
              "\n",
              "  <div id=\"df-8b94fa61-39a6-4709-9bce-e5ddcd69e3a9\">\n",
              "    <div class=\"colab-df-container\">\n",
              "      <div>\n",
              "<style scoped>\n",
              "    .dataframe tbody tr th:only-of-type {\n",
              "        vertical-align: middle;\n",
              "    }\n",
              "\n",
              "    .dataframe tbody tr th {\n",
              "        vertical-align: top;\n",
              "    }\n",
              "\n",
              "    .dataframe thead th {\n",
              "        text-align: right;\n",
              "    }\n",
              "</style>\n",
              "<table border=\"1\" class=\"dataframe\">\n",
              "  <thead>\n",
              "    <tr style=\"text-align: right;\">\n",
              "      <th></th>\n",
              "      <th>Airline</th>\n",
              "      <th>Date_of_Journey</th>\n",
              "      <th>Source</th>\n",
              "      <th>Destination</th>\n",
              "      <th>Route</th>\n",
              "      <th>Dep_Time</th>\n",
              "      <th>Arrival_Time</th>\n",
              "      <th>Duration</th>\n",
              "      <th>Total_Stops</th>\n",
              "      <th>Additional_Info</th>\n",
              "      <th>Price</th>\n",
              "    </tr>\n",
              "  </thead>\n",
              "  <tbody>\n",
              "    <tr>\n",
              "      <th>0</th>\n",
              "      <td>IndiGo</td>\n",
              "      <td>24/03/2019</td>\n",
              "      <td>Banglore</td>\n",
              "      <td>New Delhi</td>\n",
              "      <td>BLR → DEL</td>\n",
              "      <td>22:20</td>\n",
              "      <td>01:10 22 Mar</td>\n",
              "      <td>2h 50m</td>\n",
              "      <td>non-stop</td>\n",
              "      <td>No info</td>\n",
              "      <td>3897</td>\n",
              "    </tr>\n",
              "    <tr>\n",
              "      <th>1</th>\n",
              "      <td>Air India</td>\n",
              "      <td>1/05/2019</td>\n",
              "      <td>Kolkata</td>\n",
              "      <td>Banglore</td>\n",
              "      <td>CCU → IXR → BBI → BLR</td>\n",
              "      <td>05:50</td>\n",
              "      <td>13:15</td>\n",
              "      <td>7h 25m</td>\n",
              "      <td>2 stops</td>\n",
              "      <td>No info</td>\n",
              "      <td>7662</td>\n",
              "    </tr>\n",
              "    <tr>\n",
              "      <th>2</th>\n",
              "      <td>Jet Airways</td>\n",
              "      <td>9/06/2019</td>\n",
              "      <td>Delhi</td>\n",
              "      <td>Cochin</td>\n",
              "      <td>DEL → LKO → BOM → COK</td>\n",
              "      <td>09:25</td>\n",
              "      <td>04:25 10 Jun</td>\n",
              "      <td>19h</td>\n",
              "      <td>2 stops</td>\n",
              "      <td>No info</td>\n",
              "      <td>13882</td>\n",
              "    </tr>\n",
              "    <tr>\n",
              "      <th>3</th>\n",
              "      <td>IndiGo</td>\n",
              "      <td>12/05/2019</td>\n",
              "      <td>Kolkata</td>\n",
              "      <td>Banglore</td>\n",
              "      <td>CCU → NAG → BLR</td>\n",
              "      <td>18:05</td>\n",
              "      <td>23:30</td>\n",
              "      <td>5h 25m</td>\n",
              "      <td>1 stop</td>\n",
              "      <td>No info</td>\n",
              "      <td>6218</td>\n",
              "    </tr>\n",
              "    <tr>\n",
              "      <th>4</th>\n",
              "      <td>IndiGo</td>\n",
              "      <td>01/03/2019</td>\n",
              "      <td>Banglore</td>\n",
              "      <td>New Delhi</td>\n",
              "      <td>BLR → NAG → DEL</td>\n",
              "      <td>16:50</td>\n",
              "      <td>21:35</td>\n",
              "      <td>4h 45m</td>\n",
              "      <td>1 stop</td>\n",
              "      <td>No info</td>\n",
              "      <td>13302</td>\n",
              "    </tr>\n",
              "    <tr>\n",
              "      <th>...</th>\n",
              "      <td>...</td>\n",
              "      <td>...</td>\n",
              "      <td>...</td>\n",
              "      <td>...</td>\n",
              "      <td>...</td>\n",
              "      <td>...</td>\n",
              "      <td>...</td>\n",
              "      <td>...</td>\n",
              "      <td>...</td>\n",
              "      <td>...</td>\n",
              "      <td>...</td>\n",
              "    </tr>\n",
              "    <tr>\n",
              "      <th>10678</th>\n",
              "      <td>Air Asia</td>\n",
              "      <td>9/04/2019</td>\n",
              "      <td>Kolkata</td>\n",
              "      <td>Banglore</td>\n",
              "      <td>CCU → BLR</td>\n",
              "      <td>19:55</td>\n",
              "      <td>22:25</td>\n",
              "      <td>2h 30m</td>\n",
              "      <td>non-stop</td>\n",
              "      <td>No info</td>\n",
              "      <td>4107</td>\n",
              "    </tr>\n",
              "    <tr>\n",
              "      <th>10679</th>\n",
              "      <td>Air India</td>\n",
              "      <td>27/04/2019</td>\n",
              "      <td>Kolkata</td>\n",
              "      <td>Banglore</td>\n",
              "      <td>CCU → BLR</td>\n",
              "      <td>20:45</td>\n",
              "      <td>23:20</td>\n",
              "      <td>2h 35m</td>\n",
              "      <td>non-stop</td>\n",
              "      <td>No info</td>\n",
              "      <td>4145</td>\n",
              "    </tr>\n",
              "    <tr>\n",
              "      <th>10680</th>\n",
              "      <td>Jet Airways</td>\n",
              "      <td>27/04/2019</td>\n",
              "      <td>Banglore</td>\n",
              "      <td>Delhi</td>\n",
              "      <td>BLR → DEL</td>\n",
              "      <td>08:20</td>\n",
              "      <td>11:20</td>\n",
              "      <td>3h</td>\n",
              "      <td>non-stop</td>\n",
              "      <td>No info</td>\n",
              "      <td>7229</td>\n",
              "    </tr>\n",
              "    <tr>\n",
              "      <th>10681</th>\n",
              "      <td>Vistara</td>\n",
              "      <td>01/03/2019</td>\n",
              "      <td>Banglore</td>\n",
              "      <td>New Delhi</td>\n",
              "      <td>BLR → DEL</td>\n",
              "      <td>11:30</td>\n",
              "      <td>14:10</td>\n",
              "      <td>2h 40m</td>\n",
              "      <td>non-stop</td>\n",
              "      <td>No info</td>\n",
              "      <td>12648</td>\n",
              "    </tr>\n",
              "    <tr>\n",
              "      <th>10682</th>\n",
              "      <td>Air India</td>\n",
              "      <td>9/05/2019</td>\n",
              "      <td>Delhi</td>\n",
              "      <td>Cochin</td>\n",
              "      <td>DEL → GOI → BOM → COK</td>\n",
              "      <td>10:55</td>\n",
              "      <td>19:15</td>\n",
              "      <td>8h 20m</td>\n",
              "      <td>2 stops</td>\n",
              "      <td>No info</td>\n",
              "      <td>11753</td>\n",
              "    </tr>\n",
              "  </tbody>\n",
              "</table>\n",
              "<p>10683 rows × 11 columns</p>\n",
              "</div>\n",
              "      <button class=\"colab-df-convert\" onclick=\"convertToInteractive('df-8b94fa61-39a6-4709-9bce-e5ddcd69e3a9')\"\n",
              "              title=\"Convert this dataframe to an interactive table.\"\n",
              "              style=\"display:none;\">\n",
              "        \n",
              "  <svg xmlns=\"http://www.w3.org/2000/svg\" height=\"24px\"viewBox=\"0 0 24 24\"\n",
              "       width=\"24px\">\n",
              "    <path d=\"M0 0h24v24H0V0z\" fill=\"none\"/>\n",
              "    <path d=\"M18.56 5.44l.94 2.06.94-2.06 2.06-.94-2.06-.94-.94-2.06-.94 2.06-2.06.94zm-11 1L8.5 8.5l.94-2.06 2.06-.94-2.06-.94L8.5 2.5l-.94 2.06-2.06.94zm10 10l.94 2.06.94-2.06 2.06-.94-2.06-.94-.94-2.06-.94 2.06-2.06.94z\"/><path d=\"M17.41 7.96l-1.37-1.37c-.4-.4-.92-.59-1.43-.59-.52 0-1.04.2-1.43.59L10.3 9.45l-7.72 7.72c-.78.78-.78 2.05 0 2.83L4 21.41c.39.39.9.59 1.41.59.51 0 1.02-.2 1.41-.59l7.78-7.78 2.81-2.81c.8-.78.8-2.07 0-2.86zM5.41 20L4 18.59l7.72-7.72 1.47 1.35L5.41 20z\"/>\n",
              "  </svg>\n",
              "      </button>\n",
              "      \n",
              "  <style>\n",
              "    .colab-df-container {\n",
              "      display:flex;\n",
              "      flex-wrap:wrap;\n",
              "      gap: 12px;\n",
              "    }\n",
              "\n",
              "    .colab-df-convert {\n",
              "      background-color: #E8F0FE;\n",
              "      border: none;\n",
              "      border-radius: 50%;\n",
              "      cursor: pointer;\n",
              "      display: none;\n",
              "      fill: #1967D2;\n",
              "      height: 32px;\n",
              "      padding: 0 0 0 0;\n",
              "      width: 32px;\n",
              "    }\n",
              "\n",
              "    .colab-df-convert:hover {\n",
              "      background-color: #E2EBFA;\n",
              "      box-shadow: 0px 1px 2px rgba(60, 64, 67, 0.3), 0px 1px 3px 1px rgba(60, 64, 67, 0.15);\n",
              "      fill: #174EA6;\n",
              "    }\n",
              "\n",
              "    [theme=dark] .colab-df-convert {\n",
              "      background-color: #3B4455;\n",
              "      fill: #D2E3FC;\n",
              "    }\n",
              "\n",
              "    [theme=dark] .colab-df-convert:hover {\n",
              "      background-color: #434B5C;\n",
              "      box-shadow: 0px 1px 3px 1px rgba(0, 0, 0, 0.15);\n",
              "      filter: drop-shadow(0px 1px 2px rgba(0, 0, 0, 0.3));\n",
              "      fill: #FFFFFF;\n",
              "    }\n",
              "  </style>\n",
              "\n",
              "      <script>\n",
              "        const buttonEl =\n",
              "          document.querySelector('#df-8b94fa61-39a6-4709-9bce-e5ddcd69e3a9 button.colab-df-convert');\n",
              "        buttonEl.style.display =\n",
              "          google.colab.kernel.accessAllowed ? 'block' : 'none';\n",
              "\n",
              "        async function convertToInteractive(key) {\n",
              "          const element = document.querySelector('#df-8b94fa61-39a6-4709-9bce-e5ddcd69e3a9');\n",
              "          const dataTable =\n",
              "            await google.colab.kernel.invokeFunction('convertToInteractive',\n",
              "                                                     [key], {});\n",
              "          if (!dataTable) return;\n",
              "\n",
              "          const docLinkHtml = 'Like what you see? Visit the ' +\n",
              "            '<a target=\"_blank\" href=https://colab.research.google.com/notebooks/data_table.ipynb>data table notebook</a>'\n",
              "            + ' to learn more about interactive tables.';\n",
              "          element.innerHTML = '';\n",
              "          dataTable['output_type'] = 'display_data';\n",
              "          await google.colab.output.renderOutput(dataTable, element);\n",
              "          const docLink = document.createElement('div');\n",
              "          docLink.innerHTML = docLinkHtml;\n",
              "          element.appendChild(docLink);\n",
              "        }\n",
              "      </script>\n",
              "    </div>\n",
              "  </div>\n",
              "  "
            ]
          },
          "metadata": {},
          "execution_count": 4
        }
      ]
    },
    {
      "cell_type": "markdown",
      "source": [
        "## Data Visualisation"
      ],
      "metadata": {
        "id": "VFBJr3Eunv62"
      }
    },
    {
      "cell_type": "code",
      "source": [
        "data.info()"
      ],
      "metadata": {
        "colab": {
          "base_uri": "https://localhost:8080/"
        },
        "id": "OIFZG4ofn1AA",
        "outputId": "644ff6b6-ed60-41bf-a598-b1b9b5690c66"
      },
      "execution_count": null,
      "outputs": [
        {
          "output_type": "stream",
          "name": "stdout",
          "text": [
            "<class 'pandas.core.frame.DataFrame'>\n",
            "RangeIndex: 10683 entries, 0 to 10682\n",
            "Data columns (total 11 columns):\n",
            " #   Column           Non-Null Count  Dtype \n",
            "---  ------           --------------  ----- \n",
            " 0   Airline          10683 non-null  object\n",
            " 1   Date_of_Journey  10683 non-null  object\n",
            " 2   Source           10683 non-null  object\n",
            " 3   Destination      10683 non-null  object\n",
            " 4   Route            10682 non-null  object\n",
            " 5   Dep_Time         10683 non-null  object\n",
            " 6   Arrival_Time     10683 non-null  object\n",
            " 7   Duration         10683 non-null  object\n",
            " 8   Total_Stops      10682 non-null  object\n",
            " 9   Additional_Info  10683 non-null  object\n",
            " 10  Price            10683 non-null  int64 \n",
            "dtypes: int64(1), object(10)\n",
            "memory usage: 918.2+ KB\n"
          ]
        }
      ]
    },
    {
      "cell_type": "code",
      "source": [
        "data.describe()"
      ],
      "metadata": {
        "colab": {
          "base_uri": "https://localhost:8080/",
          "height": 300
        },
        "id": "Fj3xFPpHpG09",
        "outputId": "0f5e9f84-4141-4469-ef69-0b41d12a65e2"
      },
      "execution_count": null,
      "outputs": [
        {
          "output_type": "execute_result",
          "data": {
            "text/plain": [
              "              Price\n",
              "count  10683.000000\n",
              "mean    9087.064121\n",
              "std     4611.359167\n",
              "min     1759.000000\n",
              "25%     5277.000000\n",
              "50%     8372.000000\n",
              "75%    12373.000000\n",
              "max    79512.000000"
            ],
            "text/html": [
              "\n",
              "  <div id=\"df-172fdbe9-ad34-4766-90ff-ef6e574f1fea\">\n",
              "    <div class=\"colab-df-container\">\n",
              "      <div>\n",
              "<style scoped>\n",
              "    .dataframe tbody tr th:only-of-type {\n",
              "        vertical-align: middle;\n",
              "    }\n",
              "\n",
              "    .dataframe tbody tr th {\n",
              "        vertical-align: top;\n",
              "    }\n",
              "\n",
              "    .dataframe thead th {\n",
              "        text-align: right;\n",
              "    }\n",
              "</style>\n",
              "<table border=\"1\" class=\"dataframe\">\n",
              "  <thead>\n",
              "    <tr style=\"text-align: right;\">\n",
              "      <th></th>\n",
              "      <th>Price</th>\n",
              "    </tr>\n",
              "  </thead>\n",
              "  <tbody>\n",
              "    <tr>\n",
              "      <th>count</th>\n",
              "      <td>10683.000000</td>\n",
              "    </tr>\n",
              "    <tr>\n",
              "      <th>mean</th>\n",
              "      <td>9087.064121</td>\n",
              "    </tr>\n",
              "    <tr>\n",
              "      <th>std</th>\n",
              "      <td>4611.359167</td>\n",
              "    </tr>\n",
              "    <tr>\n",
              "      <th>min</th>\n",
              "      <td>1759.000000</td>\n",
              "    </tr>\n",
              "    <tr>\n",
              "      <th>25%</th>\n",
              "      <td>5277.000000</td>\n",
              "    </tr>\n",
              "    <tr>\n",
              "      <th>50%</th>\n",
              "      <td>8372.000000</td>\n",
              "    </tr>\n",
              "    <tr>\n",
              "      <th>75%</th>\n",
              "      <td>12373.000000</td>\n",
              "    </tr>\n",
              "    <tr>\n",
              "      <th>max</th>\n",
              "      <td>79512.000000</td>\n",
              "    </tr>\n",
              "  </tbody>\n",
              "</table>\n",
              "</div>\n",
              "      <button class=\"colab-df-convert\" onclick=\"convertToInteractive('df-172fdbe9-ad34-4766-90ff-ef6e574f1fea')\"\n",
              "              title=\"Convert this dataframe to an interactive table.\"\n",
              "              style=\"display:none;\">\n",
              "        \n",
              "  <svg xmlns=\"http://www.w3.org/2000/svg\" height=\"24px\"viewBox=\"0 0 24 24\"\n",
              "       width=\"24px\">\n",
              "    <path d=\"M0 0h24v24H0V0z\" fill=\"none\"/>\n",
              "    <path d=\"M18.56 5.44l.94 2.06.94-2.06 2.06-.94-2.06-.94-.94-2.06-.94 2.06-2.06.94zm-11 1L8.5 8.5l.94-2.06 2.06-.94-2.06-.94L8.5 2.5l-.94 2.06-2.06.94zm10 10l.94 2.06.94-2.06 2.06-.94-2.06-.94-.94-2.06-.94 2.06-2.06.94z\"/><path d=\"M17.41 7.96l-1.37-1.37c-.4-.4-.92-.59-1.43-.59-.52 0-1.04.2-1.43.59L10.3 9.45l-7.72 7.72c-.78.78-.78 2.05 0 2.83L4 21.41c.39.39.9.59 1.41.59.51 0 1.02-.2 1.41-.59l7.78-7.78 2.81-2.81c.8-.78.8-2.07 0-2.86zM5.41 20L4 18.59l7.72-7.72 1.47 1.35L5.41 20z\"/>\n",
              "  </svg>\n",
              "      </button>\n",
              "      \n",
              "  <style>\n",
              "    .colab-df-container {\n",
              "      display:flex;\n",
              "      flex-wrap:wrap;\n",
              "      gap: 12px;\n",
              "    }\n",
              "\n",
              "    .colab-df-convert {\n",
              "      background-color: #E8F0FE;\n",
              "      border: none;\n",
              "      border-radius: 50%;\n",
              "      cursor: pointer;\n",
              "      display: none;\n",
              "      fill: #1967D2;\n",
              "      height: 32px;\n",
              "      padding: 0 0 0 0;\n",
              "      width: 32px;\n",
              "    }\n",
              "\n",
              "    .colab-df-convert:hover {\n",
              "      background-color: #E2EBFA;\n",
              "      box-shadow: 0px 1px 2px rgba(60, 64, 67, 0.3), 0px 1px 3px 1px rgba(60, 64, 67, 0.15);\n",
              "      fill: #174EA6;\n",
              "    }\n",
              "\n",
              "    [theme=dark] .colab-df-convert {\n",
              "      background-color: #3B4455;\n",
              "      fill: #D2E3FC;\n",
              "    }\n",
              "\n",
              "    [theme=dark] .colab-df-convert:hover {\n",
              "      background-color: #434B5C;\n",
              "      box-shadow: 0px 1px 3px 1px rgba(0, 0, 0, 0.15);\n",
              "      filter: drop-shadow(0px 1px 2px rgba(0, 0, 0, 0.3));\n",
              "      fill: #FFFFFF;\n",
              "    }\n",
              "  </style>\n",
              "\n",
              "      <script>\n",
              "        const buttonEl =\n",
              "          document.querySelector('#df-172fdbe9-ad34-4766-90ff-ef6e574f1fea button.colab-df-convert');\n",
              "        buttonEl.style.display =\n",
              "          google.colab.kernel.accessAllowed ? 'block' : 'none';\n",
              "\n",
              "        async function convertToInteractive(key) {\n",
              "          const element = document.querySelector('#df-172fdbe9-ad34-4766-90ff-ef6e574f1fea');\n",
              "          const dataTable =\n",
              "            await google.colab.kernel.invokeFunction('convertToInteractive',\n",
              "                                                     [key], {});\n",
              "          if (!dataTable) return;\n",
              "\n",
              "          const docLinkHtml = 'Like what you see? Visit the ' +\n",
              "            '<a target=\"_blank\" href=https://colab.research.google.com/notebooks/data_table.ipynb>data table notebook</a>'\n",
              "            + ' to learn more about interactive tables.';\n",
              "          element.innerHTML = '';\n",
              "          dataTable['output_type'] = 'display_data';\n",
              "          await google.colab.output.renderOutput(dataTable, element);\n",
              "          const docLink = document.createElement('div');\n",
              "          docLink.innerHTML = docLinkHtml;\n",
              "          element.appendChild(docLink);\n",
              "        }\n",
              "      </script>\n",
              "    </div>\n",
              "  </div>\n",
              "  "
            ]
          },
          "metadata": {},
          "execution_count": 6
        }
      ]
    },
    {
      "cell_type": "code",
      "source": [
        "current_palette = sns.color_palette()\n",
        "current_palette"
      ],
      "metadata": {
        "colab": {
          "base_uri": "https://localhost:8080/",
          "height": 76
        },
        "id": "4nWWgUEqoC8E",
        "outputId": "aacebe64-88f8-4175-b2da-472db6656aac"
      },
      "execution_count": null,
      "outputs": [
        {
          "output_type": "execute_result",
          "data": {
            "text/plain": [
              "[(0.12156862745098039, 0.4666666666666667, 0.7058823529411765),\n",
              " (1.0, 0.4980392156862745, 0.054901960784313725),\n",
              " (0.17254901960784313, 0.6274509803921569, 0.17254901960784313),\n",
              " (0.8392156862745098, 0.15294117647058825, 0.1568627450980392),\n",
              " (0.5803921568627451, 0.403921568627451, 0.7411764705882353),\n",
              " (0.5490196078431373, 0.33725490196078434, 0.29411764705882354),\n",
              " (0.8901960784313725, 0.4666666666666667, 0.7607843137254902),\n",
              " (0.4980392156862745, 0.4980392156862745, 0.4980392156862745),\n",
              " (0.7372549019607844, 0.7411764705882353, 0.13333333333333333),\n",
              " (0.09019607843137255, 0.7450980392156863, 0.8117647058823529)]"
            ],
            "text/html": [
              "<svg  width=\"550\" height=\"55\"><rect x=\"0\" y=\"0\" width=\"55\" height=\"55\" style=\"fill:#1f77b4;stroke-width:2;stroke:rgb(255,255,255)\"/><rect x=\"55\" y=\"0\" width=\"55\" height=\"55\" style=\"fill:#ff7f0e;stroke-width:2;stroke:rgb(255,255,255)\"/><rect x=\"110\" y=\"0\" width=\"55\" height=\"55\" style=\"fill:#2ca02c;stroke-width:2;stroke:rgb(255,255,255)\"/><rect x=\"165\" y=\"0\" width=\"55\" height=\"55\" style=\"fill:#d62728;stroke-width:2;stroke:rgb(255,255,255)\"/><rect x=\"220\" y=\"0\" width=\"55\" height=\"55\" style=\"fill:#9467bd;stroke-width:2;stroke:rgb(255,255,255)\"/><rect x=\"275\" y=\"0\" width=\"55\" height=\"55\" style=\"fill:#8c564b;stroke-width:2;stroke:rgb(255,255,255)\"/><rect x=\"330\" y=\"0\" width=\"55\" height=\"55\" style=\"fill:#e377c2;stroke-width:2;stroke:rgb(255,255,255)\"/><rect x=\"385\" y=\"0\" width=\"55\" height=\"55\" style=\"fill:#7f7f7f;stroke-width:2;stroke:rgb(255,255,255)\"/><rect x=\"440\" y=\"0\" width=\"55\" height=\"55\" style=\"fill:#bcbd22;stroke-width:2;stroke:rgb(255,255,255)\"/><rect x=\"495\" y=\"0\" width=\"55\" height=\"55\" style=\"fill:#17becf;stroke-width:2;stroke:rgb(255,255,255)\"/></svg>"
            ]
          },
          "metadata": {},
          "execution_count": 7
        }
      ]
    },
    {
      "cell_type": "code",
      "source": [
        "vals,counts=np.unique(data['Airline'],return_counts=True)\n",
        "plt.subplots(figsize=(30,6))\n",
        "sns.barplot(vals,counts)\n",
        "plt.xlabel('Airline')\n",
        "plt.ylabel('count')\n",
        "plt.title('Count of Airline')"
      ],
      "metadata": {
        "colab": {
          "base_uri": "https://localhost:8080/",
          "height": 389
        },
        "id": "X97NTiFzoPin",
        "outputId": "2c05d2c6-c9eb-4a23-ba0c-7ba70f3c40c1"
      },
      "execution_count": null,
      "outputs": [
        {
          "output_type": "execute_result",
          "data": {
            "text/plain": [
              "Text(0.5, 1.0, 'Count of Airline')"
            ]
          },
          "metadata": {},
          "execution_count": 8
        },
        {
          "output_type": "display_data",
          "data": {
            "text/plain": [
              "<Figure size 2160x432 with 1 Axes>"
            ],
            "image/png": "[encoded data removed]"
          },
          "metadata": {
            "needs_background": "light"
          }
        }
      ]
    },
    {
      "cell_type": "code",
      "source": [
        "sns.catplot(y = \"Price\", x = \"Airline\", data = data.sort_values(\"Price\", ascending = False), kind=\"boxen\", height = 8, aspect = 3)\n",
        "plt.title('Distribution of Price among Airline')\n",
        "plt.show()"
      ],
      "metadata": {
        "colab": {
          "base_uri": "https://localhost:8080/",
          "height": 556
        },
        "id": "I-iFtXt9pTn-",
        "outputId": "074bdc38-9ab1-4867-d4ef-81d8780c47e0"
      },
      "execution_count": null,
      "outputs": [
        {
          "output_type": "display_data",
          "data": {
            "text/plain": [
              "<Figure size 1728x576 with 1 Axes>"
            ],
            "image/png": "[encoded data removed]"
          },
          "metadata": {
            "needs_background": "light"
          }
        }
      ]
    },
    {
      "cell_type": "code",
      "source": [
        "sns.catplot(y = \"Price\", x = \"Source\", data = data.sort_values(\"Price\", ascending = False), kind=\"boxen\", height = 8, aspect = 2)\n",
        "plt.title('Distribution of Price among Source')\n",
        "plt.show()"
      ],
      "metadata": {
        "colab": {
          "base_uri": "https://localhost:8080/",
          "height": 601
        },
        "id": "J2W7MOrfpcyM",
        "outputId": "a8fbfe3b-383b-431a-fe41-d9a9c6a8d965"
      },
      "execution_count": null,
      "outputs": [
        {
          "output_type": "display_data",
          "data": {
            "text/plain": [
              "<Figure size 1152x576 with 1 Axes>"
            ],
            "image/png": "[encoded data removed]"
          },
          "metadata": {
            "needs_background": "light"
          }
        }
      ]
    },
    {
      "cell_type": "code",
      "source": [
        "sns.catplot(y = \"Price\", x = \"Destination\", data = data.sort_values(\"Price\", ascending = False), kind=\"boxen\", height = 8, aspect = 2)\n",
        "plt.title('Distribution of price among destination')\n",
        "plt.show()"
      ],
      "metadata": {
        "colab": {
          "base_uri": "https://localhost:8080/",
          "height": 601
        },
        "id": "0hs_SkKTp2Af",
        "outputId": "863db80a-3cd2-4f5e-a12c-aa9896f9dfb5"
      },
      "execution_count": null,
      "outputs": [
        {
          "output_type": "display_data",
          "data": {
            "text/plain": [
              "<Figure size 1152x576 with 1 Axes>"
            ],
            "image/png": "[encoded data removed]"
          },
          "metadata": {
            "needs_background": "light"
          }
        }
      ]
    },
    {
      "cell_type": "code",
      "source": [
        "sns.catplot(y = \"Price\", x = \"Total_Stops\", data = data.sort_values(\"Price\", ascending = False), kind=\"boxen\", height = 8, aspect = 2)\n",
        "plt.title('Distribition of Price among Total Stops')\n",
        "plt.show()"
      ],
      "metadata": {
        "colab": {
          "base_uri": "https://localhost:8080/",
          "height": 601
        },
        "id": "qvwkT_GLthai",
        "outputId": "ce8348c3-4629-49b0-f73d-358bc056eb3a"
      },
      "execution_count": null,
      "outputs": [
        {
          "output_type": "display_data",
          "data": {
            "text/plain": [
              "<Figure size 1152x576 with 1 Axes>"
            ],
            "image/png": "[encoded data removed]"
          },
          "metadata": {
            "needs_background": "light"
          }
        }
      ]
    },
    {
      "cell_type": "code",
      "source": [
        "monthWiseFlight=[]\n",
        "for i in data['Date_of_Journey']:\n",
        "  lst=list(i.split('/'))\n",
        "  monthWiseFlight.append(int(lst[1]))"
      ],
      "metadata": {
        "id": "uPuS9v0CqDFO"
      },
      "execution_count": null,
      "outputs": []
    },
    {
      "cell_type": "code",
      "source": [
        "plt.figure(figsize = (10, 5))\n",
        "plt.title('Count of flights month wise')\n",
        "ax=sns.countplot(monthWiseFlight)\n",
        "plt.xlabel('Month')\n",
        "plt.ylabel('Count of flights')"
      ],
      "metadata": {
        "colab": {
          "base_uri": "https://localhost:8080/",
          "height": 368
        },
        "id": "f2iBnwyxqY5H",
        "outputId": "100edf1b-e729-4296-c90a-86c11be91121"
      },
      "execution_count": null,
      "outputs": [
        {
          "output_type": "execute_result",
          "data": {
            "text/plain": [
              "Text(0, 0.5, 'Count of flights')"
            ]
          },
          "metadata": {},
          "execution_count": 14
        },
        {
          "output_type": "display_data",
          "data": {
            "text/plain": [
              "<Figure size 720x360 with 1 Axes>"
            ],
            "image/png": "[encoded data removed]"
          },
          "metadata": {
            "needs_background": "light"
          }
        }
      ]
    },
    {
      "cell_type": "code",
      "source": [
        "plt.figure(figsize = (10, 5))\n",
        "ax=sns.countplot(data['Source'])\n",
        "plt.title('Count of flights from source')\n",
        "plt.xlabel('Source')"
      ],
      "metadata": {
        "colab": {
          "base_uri": "https://localhost:8080/",
          "height": 368
        },
        "id": "oiZP0VP_KckD",
        "outputId": "3e75b787-ee3c-4b0d-9185-9f7b5b4b9e5b"
      },
      "execution_count": null,
      "outputs": [
        {
          "output_type": "execute_result",
          "data": {
            "text/plain": [
              "Text(0.5, 0, 'Source')"
            ]
          },
          "metadata": {},
          "execution_count": 15
        },
        {
          "output_type": "display_data",
          "data": {
            "text/plain": [
              "<Figure size 720x360 with 1 Axes>"
            ],
            "image/png": "[encoded data removed]"
          },
          "metadata": {
            "needs_background": "light"
          }
        }
      ]
    },
    {
      "cell_type": "code",
      "source": [
        "plt.figure(figsize = (10, 5))\n",
        "ax=sns.countplot(data['Destination'])\n",
        "plt.title('Count of flights to Destination')\n",
        "plt.xlabel('Destination')"
      ],
      "metadata": {
        "id": "05efBxbjKrl3",
        "outputId": "79393794-3835-4d1b-b9da-20cd22770e95",
        "colab": {
          "base_uri": "https://localhost:8080/",
          "height": 368
        }
      },
      "execution_count": null,
      "outputs": [
        {
          "output_type": "execute_result",
          "data": {
            "text/plain": [
              "Text(0.5, 0, 'Destination')"
            ]
          },
          "metadata": {},
          "execution_count": 16
        },
        {
          "output_type": "display_data",
          "data": {
            "text/plain": [
              "<Figure size 720x360 with 1 Axes>"
            ],
            "image/png": "[encoded data removed]"
          },
          "metadata": {
            "needs_background": "light"
          }
        }
      ]
    },
    {
      "cell_type": "markdown",
      "source": [
        "## PreProcessing"
      ],
      "metadata": {
        "id": "raYA3Ynoonbv"
      }
    },
    {
      "cell_type": "code",
      "source": [
        "data.dtypes"
      ],
      "metadata": {
        "colab": {
          "base_uri": "https://localhost:8080/"
        },
        "id": "J_n67-_TopVW",
        "outputId": "1172d705-6cac-4c93-bf5c-136d59376e03"
      },
      "execution_count": null,
      "outputs": [
        {
          "output_type": "execute_result",
          "data": {
            "text/plain": [
              "Airline            object\n",
              "Date_of_Journey    object\n",
              "Source             object\n",
              "Destination        object\n",
              "Route              object\n",
              "Dep_Time           object\n",
              "Arrival_Time       object\n",
              "Duration           object\n",
              "Total_Stops        object\n",
              "Additional_Info    object\n",
              "Price               int64\n",
              "dtype: object"
            ]
          },
          "metadata": {},
          "execution_count": 17
        }
      ]
    },
    {
      "cell_type": "code",
      "source": [
        "data.isnull().sum()"
      ],
      "metadata": {
        "colab": {
          "base_uri": "https://localhost:8080/"
        },
        "id": "dYGGP7hspF_I",
        "outputId": "a346f23e-b08f-4b1e-cdac-026a9160944c"
      },
      "execution_count": null,
      "outputs": [
        {
          "output_type": "execute_result",
          "data": {
            "text/plain": [
              "Airline            0\n",
              "Date_of_Journey    0\n",
              "Source             0\n",
              "Destination        0\n",
              "Route              1\n",
              "Dep_Time           0\n",
              "Arrival_Time       0\n",
              "Duration           0\n",
              "Total_Stops        1\n",
              "Additional_Info    0\n",
              "Price              0\n",
              "dtype: int64"
            ]
          },
          "metadata": {},
          "execution_count": 18
        }
      ]
    },
    {
      "cell_type": "code",
      "source": [
        "data=data.dropna().reset_index(drop=True)\n",
        "data"
      ],
      "metadata": {
        "colab": {
          "base_uri": "https://localhost:8080/",
          "height": 423
        },
        "id": "SIrcJTsxpIJZ",
        "outputId": "61e75a8f-6046-4537-b0d4-28ed29dc6995"
      },
      "execution_count": null,
      "outputs": [
        {
          "output_type": "execute_result",
          "data": {
            "text/plain": [
              "           Airline Date_of_Journey    Source Destination  \\\n",
              "0           IndiGo      24/03/2019  Banglore   New Delhi   \n",
              "1        Air India       1/05/2019   Kolkata    Banglore   \n",
              "2      Jet Airways       9/06/2019     Delhi      Cochin   \n",
              "3           IndiGo      12/05/2019   Kolkata    Banglore   \n",
              "4           IndiGo      01/03/2019  Banglore   New Delhi   \n",
              "...            ...             ...       ...         ...   \n",
              "10677     Air Asia       9/04/2019   Kolkata    Banglore   \n",
              "10678    Air India      27/04/2019   Kolkata    Banglore   \n",
              "10679  Jet Airways      27/04/2019  Banglore       Delhi   \n",
              "10680      Vistara      01/03/2019  Banglore   New Delhi   \n",
              "10681    Air India       9/05/2019     Delhi      Cochin   \n",
              "\n",
              "                       Route Dep_Time  Arrival_Time Duration Total_Stops  \\\n",
              "0                  BLR → DEL    22:20  01:10 22 Mar   2h 50m    non-stop   \n",
              "1      CCU → IXR → BBI → BLR    05:50         13:15   7h 25m     2 stops   \n",
              "2      DEL → LKO → BOM → COK    09:25  04:25 10 Jun      19h     2 stops   \n",
              "3            CCU → NAG → BLR    18:05         23:30   5h 25m      1 stop   \n",
              "4            BLR → NAG → DEL    16:50         21:35   4h 45m      1 stop   \n",
              "...                      ...      ...           ...      ...         ...   \n",
              "10677              CCU → BLR    19:55         22:25   2h 30m    non-stop   \n",
              "10678              CCU → BLR    20:45         23:20   2h 35m    non-stop   \n",
              "10679              BLR → DEL    08:20         11:20       3h    non-stop   \n",
              "10680              BLR → DEL    11:30         14:10   2h 40m    non-stop   \n",
              "10681  DEL → GOI → BOM → COK    10:55         19:15   8h 20m     2 stops   \n",
              "\n",
              "      Additional_Info  Price  \n",
              "0             No info   3897  \n",
              "1             No info   7662  \n",
              "2             No info  13882  \n",
              "3             No info   6218  \n",
              "4             No info  13302  \n",
              "...               ...    ...  \n",
              "10677         No info   4107  \n",
              "10678         No info   4145  \n",
              "10679         No info   7229  \n",
              "10680         No info  12648  \n",
              "10681         No info  11753  \n",
              "\n",
              "[10682 rows x 11 columns]"
            ],
            "text/html": [
              "\n",
              "  <div id=\"df-47baa264-e151-4fdd-92b0-c282638fc6b3\">\n",
              "    <div class=\"colab-df-container\">\n",
              "      <div>\n",
              "<style scoped>\n",
              "    .dataframe tbody tr th:only-of-type {\n",
              "        vertical-align: middle;\n",
              "    }\n",
              "\n",
              "    .dataframe tbody tr th {\n",
              "        vertical-align: top;\n",
              "    }\n",
              "\n",
              "    .dataframe thead th {\n",
              "        text-align: right;\n",
              "    }\n",
              "</style>\n",
              "<table border=\"1\" class=\"dataframe\">\n",
              "  <thead>\n",
              "    <tr style=\"text-align: right;\">\n",
              "      <th></th>\n",
              "      <th>Airline</th>\n",
              "      <th>Date_of_Journey</th>\n",
              "      <th>Source</th>\n",
              "      <th>Destination</th>\n",
              "      <th>Route</th>\n",
              "      <th>Dep_Time</th>\n",
              "      <th>Arrival_Time</th>\n",
              "      <th>Duration</th>\n",
              "      <th>Total_Stops</th>\n",
              "      <th>Additional_Info</th>\n",
              "      <th>Price</th>\n",
              "    </tr>\n",
              "  </thead>\n",
              "  <tbody>\n",
              "    <tr>\n",
              "      <th>0</th>\n",
              "      <td>IndiGo</td>\n",
              "      <td>24/03/2019</td>\n",
              "      <td>Banglore</td>\n",
              "      <td>New Delhi</td>\n",
              "      <td>BLR → DEL</td>\n",
              "      <td>22:20</td>\n",
              "      <td>01:10 22 Mar</td>\n",
              "      <td>2h 50m</td>\n",
              "      <td>non-stop</td>\n",
              "      <td>No info</td>\n",
              "      <td>3897</td>\n",
              "    </tr>\n",
              "    <tr>\n",
              "      <th>1</th>\n",
              "      <td>Air India</td>\n",
              "      <td>1/05/2019</td>\n",
              "      <td>Kolkata</td>\n",
              "      <td>Banglore</td>\n",
              "      <td>CCU → IXR → BBI → BLR</td>\n",
              "      <td>05:50</td>\n",
              "      <td>13:15</td>\n",
              "      <td>7h 25m</td>\n",
              "      <td>2 stops</td>\n",
              "      <td>No info</td>\n",
              "      <td>7662</td>\n",
              "    </tr>\n",
              "    <tr>\n",
              "      <th>2</th>\n",
              "      <td>Jet Airways</td>\n",
              "      <td>9/06/2019</td>\n",
              "      <td>Delhi</td>\n",
              "      <td>Cochin</td>\n",
              "      <td>DEL → LKO → BOM → COK</td>\n",
              "      <td>09:25</td>\n",
              "      <td>04:25 10 Jun</td>\n",
              "      <td>19h</td>\n",
              "      <td>2 stops</td>\n",
              "      <td>No info</td>\n",
              "      <td>13882</td>\n",
              "    </tr>\n",
              "    <tr>\n",
              "      <th>3</th>\n",
              "      <td>IndiGo</td>\n",
              "      <td>12/05/2019</td>\n",
              "      <td>Kolkata</td>\n",
              "      <td>Banglore</td>\n",
              "      <td>CCU → NAG → BLR</td>\n",
              "      <td>18:05</td>\n",
              "      <td>23:30</td>\n",
              "      <td>5h 25m</td>\n",
              "      <td>1 stop</td>\n",
              "      <td>No info</td>\n",
              "      <td>6218</td>\n",
              "    </tr>\n",
              "    <tr>\n",
              "      <th>4</th>\n",
              "      <td>IndiGo</td>\n",
              "      <td>01/03/2019</td>\n",
              "      <td>Banglore</td>\n",
              "      <td>New Delhi</td>\n",
              "      <td>BLR → NAG → DEL</td>\n",
              "      <td>16:50</td>\n",
              "      <td>21:35</td>\n",
              "      <td>4h 45m</td>\n",
              "      <td>1 stop</td>\n",
              "      <td>No info</td>\n",
              "      <td>13302</td>\n",
              "    </tr>\n",
              "    <tr>\n",
              "      <th>...</th>\n",
              "      <td>...</td>\n",
              "      <td>...</td>\n",
              "      <td>...</td>\n",
              "      <td>...</td>\n",
              "      <td>...</td>\n",
              "      <td>...</td>\n",
              "      <td>...</td>\n",
              "      <td>...</td>\n",
              "      <td>...</td>\n",
              "      <td>...</td>\n",
              "      <td>...</td>\n",
              "    </tr>\n",
              "    <tr>\n",
              "      <th>10677</th>\n",
              "      <td>Air Asia</td>\n",
              "      <td>9/04/2019</td>\n",
              "      <td>Kolkata</td>\n",
              "      <td>Banglore</td>\n",
              "      <td>CCU → BLR</td>\n",
              "      <td>19:55</td>\n",
              "      <td>22:25</td>\n",
              "      <td>2h 30m</td>\n",
              "      <td>non-stop</td>\n",
              "      <td>No info</td>\n",
              "      <td>4107</td>\n",
              "    </tr>\n",
              "    <tr>\n",
              "      <th>10678</th>\n",
              "      <td>Air India</td>\n",
              "      <td>27/04/2019</td>\n",
              "      <td>Kolkata</td>\n",
              "      <td>Banglore</td>\n",
              "      <td>CCU → BLR</td>\n",
              "      <td>20:45</td>\n",
              "      <td>23:20</td>\n",
              "      <td>2h 35m</td>\n",
              "      <td>non-stop</td>\n",
              "      <td>No info</td>\n",
              "      <td>4145</td>\n",
              "    </tr>\n",
              "    <tr>\n",
              "      <th>10679</th>\n",
              "      <td>Jet Airways</td>\n",
              "      <td>27/04/2019</td>\n",
              "      <td>Banglore</td>\n",
              "      <td>Delhi</td>\n",
              "      <td>BLR → DEL</td>\n",
              "      <td>08:20</td>\n",
              "      <td>11:20</td>\n",
              "      <td>3h</td>\n",
              "      <td>non-stop</td>\n",
              "      <td>No info</td>\n",
              "      <td>7229</td>\n",
              "    </tr>\n",
              "    <tr>\n",
              "      <th>10680</th>\n",
              "      <td>Vistara</td>\n",
              "      <td>01/03/2019</td>\n",
              "      <td>Banglore</td>\n",
              "      <td>New Delhi</td>\n",
              "      <td>BLR → DEL</td>\n",
              "      <td>11:30</td>\n",
              "      <td>14:10</td>\n",
              "      <td>2h 40m</td>\n",
              "      <td>non-stop</td>\n",
              "      <td>No info</td>\n",
              "      <td>12648</td>\n",
              "    </tr>\n",
              "    <tr>\n",
              "      <th>10681</th>\n",
              "      <td>Air India</td>\n",
              "      <td>9/05/2019</td>\n",
              "      <td>Delhi</td>\n",
              "      <td>Cochin</td>\n",
              "      <td>DEL → GOI → BOM → COK</td>\n",
              "      <td>10:55</td>\n",
              "      <td>19:15</td>\n",
              "      <td>8h 20m</td>\n",
              "      <td>2 stops</td>\n",
              "      <td>No info</td>\n",
              "      <td>11753</td>\n",
              "    </tr>\n",
              "  </tbody>\n",
              "</table>\n",
              "<p>10682 rows × 11 columns</p>\n",
              "</div>\n",
              "      <button class=\"colab-df-convert\" onclick=\"convertToInteractive('df-47baa264-e151-4fdd-92b0-c282638fc6b3')\"\n",
              "              title=\"Convert this dataframe to an interactive table.\"\n",
              "              style=\"display:none;\">\n",
              "        \n",
              "  <svg xmlns=\"http://www.w3.org/2000/svg\" height=\"24px\"viewBox=\"0 0 24 24\"\n",
              "       width=\"24px\">\n",
              "    <path d=\"M0 0h24v24H0V0z\" fill=\"none\"/>\n",
              "    <path d=\"M18.56 5.44l.94 2.06.94-2.06 2.06-.94-2.06-.94-.94-2.06-.94 2.06-2.06.94zm-11 1L8.5 8.5l.94-2.06 2.06-.94-2.06-.94L8.5 2.5l-.94 2.06-2.06.94zm10 10l.94 2.06.94-2.06 2.06-.94-2.06-.94-.94-2.06-.94 2.06-2.06.94z\"/><path d=\"M17.41 7.96l-1.37-1.37c-.4-.4-.92-.59-1.43-.59-.52 0-1.04.2-1.43.59L10.3 9.45l-7.72 7.72c-.78.78-.78 2.05 0 2.83L4 21.41c.39.39.9.59 1.41.59.51 0 1.02-.2 1.41-.59l7.78-7.78 2.81-2.81c.8-.78.8-2.07 0-2.86zM5.41 20L4 18.59l7.72-7.72 1.47 1.35L5.41 20z\"/>\n",
              "  </svg>\n",
              "      </button>\n",
              "      \n",
              "  <style>\n",
              "    .colab-df-container {\n",
              "      display:flex;\n",
              "      flex-wrap:wrap;\n",
              "      gap: 12px;\n",
              "    }\n",
              "\n",
              "    .colab-df-convert {\n",
              "      background-color: #E8F0FE;\n",
              "      border: none;\n",
              "      border-radius: 50%;\n",
              "      cursor: pointer;\n",
              "      display: none;\n",
              "      fill: #1967D2;\n",
              "      height: 32px;\n",
              "      padding: 0 0 0 0;\n",
              "      width: 32px;\n",
              "    }\n",
              "\n",
              "    .colab-df-convert:hover {\n",
              "      background-color: #E2EBFA;\n",
              "      box-shadow: 0px 1px 2px rgba(60, 64, 67, 0.3), 0px 1px 3px 1px rgba(60, 64, 67, 0.15);\n",
              "      fill: #174EA6;\n",
              "    }\n",
              "\n",
              "    [theme=dark] .colab-df-convert {\n",
              "      background-color: #3B4455;\n",
              "      fill: #D2E3FC;\n",
              "    }\n",
              "\n",
              "    [theme=dark] .colab-df-convert:hover {\n",
              "      background-color: #434B5C;\n",
              "      box-shadow: 0px 1px 3px 1px rgba(0, 0, 0, 0.15);\n",
              "      filter: drop-shadow(0px 1px 2px rgba(0, 0, 0, 0.3));\n",
              "      fill: #FFFFFF;\n",
              "    }\n",
              "  </style>\n",
              "\n",
              "      <script>\n",
              "        const buttonEl =\n",
              "          document.querySelector('#df-47baa264-e151-4fdd-92b0-c282638fc6b3 button.colab-df-convert');\n",
              "        buttonEl.style.display =\n",
              "          google.colab.kernel.accessAllowed ? 'block' : 'none';\n",
              "\n",
              "        async function convertToInteractive(key) {\n",
              "          const element = document.querySelector('#df-47baa264-e151-4fdd-92b0-c282638fc6b3');\n",
              "          const dataTable =\n",
              "            await google.colab.kernel.invokeFunction('convertToInteractive',\n",
              "                                                     [key], {});\n",
              "          if (!dataTable) return;\n",
              "\n",
              "          const docLinkHtml = 'Like what you see? Visit the ' +\n",
              "            '<a target=\"_blank\" href=https://colab.research.google.com/notebooks/data_table.ipynb>data table notebook</a>'\n",
              "            + ' to learn more about interactive tables.';\n",
              "          element.innerHTML = '';\n",
              "          dataTable['output_type'] = 'display_data';\n",
              "          await google.colab.output.renderOutput(dataTable, element);\n",
              "          const docLink = document.createElement('div');\n",
              "          docLink.innerHTML = docLinkHtml;\n",
              "          element.appendChild(docLink);\n",
              "        }\n",
              "      </script>\n",
              "    </div>\n",
              "  </div>\n",
              "  "
            ]
          },
          "metadata": {},
          "execution_count": 19
        }
      ]
    },
    {
      "cell_type": "markdown",
      "source": [
        "### Data Encoding"
      ],
      "metadata": {
        "id": "r3Q09yk5sEcg"
      }
    },
    {
      "cell_type": "code",
      "source": [
        "vals,counts=np.unique(data['Airline'],return_counts=True)\n",
        "vals,counts"
      ],
      "metadata": {
        "colab": {
          "base_uri": "https://localhost:8080/"
        },
        "id": "Yg_AXmHBpMTX",
        "outputId": "12655eaf-7aa5-42ad-a3a0-a159da313df3"
      },
      "execution_count": null,
      "outputs": [
        {
          "output_type": "execute_result",
          "data": {
            "text/plain": [
              "(array(['Air Asia', 'Air India', 'GoAir', 'IndiGo', 'Jet Airways',\n",
              "        'Jet Airways Business', 'Multiple carriers',\n",
              "        'Multiple carriers Premium economy', 'SpiceJet', 'Trujet',\n",
              "        'Vistara', 'Vistara Premium economy'], dtype=object),\n",
              " array([ 319, 1751,  194, 2053, 3849,    6, 1196,   13,  818,    1,  479,\n",
              "           3]))"
            ]
          },
          "metadata": {},
          "execution_count": 20
        }
      ]
    },
    {
      "cell_type": "code",
      "source": [
        "le = preprocessing.LabelEncoder()\n",
        "le.fit((data['Airline']))\n",
        "data['Airline']=le.transform((data['Airline']))\n",
        "data"
      ],
      "metadata": {
        "colab": {
          "base_uri": "https://localhost:8080/",
          "height": 423
        },
        "id": "o58JYIkRpVVw",
        "outputId": "3950efc5-3aa1-4b21-b81d-63e9092eaced"
      },
      "execution_count": null,
      "outputs": [
        {
          "output_type": "execute_result",
          "data": {
            "text/plain": [
              "       Airline Date_of_Journey    Source Destination                  Route  \\\n",
              "0            3      24/03/2019  Banglore   New Delhi              BLR → DEL   \n",
              "1            1       1/05/2019   Kolkata    Banglore  CCU → IXR → BBI → BLR   \n",
              "2            4       9/06/2019     Delhi      Cochin  DEL → LKO → BOM → COK   \n",
              "3            3      12/05/2019   Kolkata    Banglore        CCU → NAG → BLR   \n",
              "4            3      01/03/2019  Banglore   New Delhi        BLR → NAG → DEL   \n",
              "...        ...             ...       ...         ...                    ...   \n",
              "10677        0       9/04/2019   Kolkata    Banglore              CCU → BLR   \n",
              "10678        1      27/04/2019   Kolkata    Banglore              CCU → BLR   \n",
              "10679        4      27/04/2019  Banglore       Delhi              BLR → DEL   \n",
              "10680       10      01/03/2019  Banglore   New Delhi              BLR → DEL   \n",
              "10681        1       9/05/2019     Delhi      Cochin  DEL → GOI → BOM → COK   \n",
              "\n",
              "      Dep_Time  Arrival_Time Duration Total_Stops Additional_Info  Price  \n",
              "0        22:20  01:10 22 Mar   2h 50m    non-stop         No info   3897  \n",
              "1        05:50         13:15   7h 25m     2 stops         No info   7662  \n",
              "2        09:25  04:25 10 Jun      19h     2 stops         No info  13882  \n",
              "3        18:05         23:30   5h 25m      1 stop         No info   6218  \n",
              "4        16:50         21:35   4h 45m      1 stop         No info  13302  \n",
              "...        ...           ...      ...         ...             ...    ...  \n",
              "10677    19:55         22:25   2h 30m    non-stop         No info   4107  \n",
              "10678    20:45         23:20   2h 35m    non-stop         No info   4145  \n",
              "10679    08:20         11:20       3h    non-stop         No info   7229  \n",
              "10680    11:30         14:10   2h 40m    non-stop         No info  12648  \n",
              "10681    10:55         19:15   8h 20m     2 stops         No info  11753  \n",
              "\n",
              "[10682 rows x 11 columns]"
            ],
            "text/html": [
              "\n",
              "  <div id=\"df-0491dc3d-4308-49f2-a8e0-8d637a9dc9b8\">\n",
              "    <div class=\"colab-df-container\">\n",
              "      <div>\n",
              "<style scoped>\n",
              "    .dataframe tbody tr th:only-of-type {\n",
              "        vertical-align: middle;\n",
              "    }\n",
              "\n",
              "    .dataframe tbody tr th {\n",
              "        vertical-align: top;\n",
              "    }\n",
              "\n",
              "    .dataframe thead th {\n",
              "        text-align: right;\n",
              "    }\n",
              "</style>\n",
              "<table border=\"1\" class=\"dataframe\">\n",
              "  <thead>\n",
              "    <tr style=\"text-align: right;\">\n",
              "      <th></th>\n",
              "      <th>Airline</th>\n",
              "      <th>Date_of_Journey</th>\n",
              "      <th>Source</th>\n",
              "      <th>Destination</th>\n",
              "      <th>Route</th>\n",
              "      <th>Dep_Time</th>\n",
              "      <th>Arrival_Time</th>\n",
              "      <th>Duration</th>\n",
              "      <th>Total_Stops</th>\n",
              "      <th>Additional_Info</th>\n",
              "      <th>Price</th>\n",
              "    </tr>\n",
              "  </thead>\n",
              "  <tbody>\n",
              "    <tr>\n",
              "      <th>0</th>\n",
              "      <td>3</td>\n",
              "      <td>24/03/2019</td>\n",
              "      <td>Banglore</td>\n",
              "      <td>New Delhi</td>\n",
              "      <td>BLR → DEL</td>\n",
              "      <td>22:20</td>\n",
              "      <td>01:10 22 Mar</td>\n",
              "      <td>2h 50m</td>\n",
              "      <td>non-stop</td>\n",
              "      <td>No info</td>\n",
              "      <td>3897</td>\n",
              "    </tr>\n",
              "    <tr>\n",
              "      <th>1</th>\n",
              "      <td>1</td>\n",
              "      <td>1/05/2019</td>\n",
              "      <td>Kolkata</td>\n",
              "      <td>Banglore</td>\n",
              "      <td>CCU → IXR → BBI → BLR</td>\n",
              "      <td>05:50</td>\n",
              "      <td>13:15</td>\n",
              "      <td>7h 25m</td>\n",
              "      <td>2 stops</td>\n",
              "      <td>No info</td>\n",
              "      <td>7662</td>\n",
              "    </tr>\n",
              "    <tr>\n",
              "      <th>2</th>\n",
              "      <td>4</td>\n",
              "      <td>9/06/2019</td>\n",
              "      <td>Delhi</td>\n",
              "      <td>Cochin</td>\n",
              "      <td>DEL → LKO → BOM → COK</td>\n",
              "      <td>09:25</td>\n",
              "      <td>04:25 10 Jun</td>\n",
              "      <td>19h</td>\n",
              "      <td>2 stops</td>\n",
              "      <td>No info</td>\n",
              "      <td>13882</td>\n",
              "    </tr>\n",
              "    <tr>\n",
              "      <th>3</th>\n",
              "      <td>3</td>\n",
              "      <td>12/05/2019</td>\n",
              "      <td>Kolkata</td>\n",
              "      <td>Banglore</td>\n",
              "      <td>CCU → NAG → BLR</td>\n",
              "      <td>18:05</td>\n",
              "      <td>23:30</td>\n",
              "      <td>5h 25m</td>\n",
              "      <td>1 stop</td>\n",
              "      <td>No info</td>\n",
              "      <td>6218</td>\n",
              "    </tr>\n",
              "    <tr>\n",
              "      <th>4</th>\n",
              "      <td>3</td>\n",
              "      <td>01/03/2019</td>\n",
              "      <td>Banglore</td>\n",
              "      <td>New Delhi</td>\n",
              "      <td>BLR → NAG → DEL</td>\n",
              "      <td>16:50</td>\n",
              "      <td>21:35</td>\n",
              "      <td>4h 45m</td>\n",
              "      <td>1 stop</td>\n",
              "      <td>No info</td>\n",
              "      <td>13302</td>\n",
              "    </tr>\n",
              "    <tr>\n",
              "      <th>...</th>\n",
              "      <td>...</td>\n",
              "      <td>...</td>\n",
              "      <td>...</td>\n",
              "      <td>...</td>\n",
              "      <td>...</td>\n",
              "      <td>...</td>\n",
              "      <td>...</td>\n",
              "      <td>...</td>\n",
              "      <td>...</td>\n",
              "      <td>...</td>\n",
              "      <td>...</td>\n",
              "    </tr>\n",
              "    <tr>\n",
              "      <th>10677</th>\n",
              "      <td>0</td>\n",
              "      <td>9/04/2019</td>\n",
              "      <td>Kolkata</td>\n",
              "      <td>Banglore</td>\n",
              "      <td>CCU → BLR</td>\n",
              "      <td>19:55</td>\n",
              "      <td>22:25</td>\n",
              "      <td>2h 30m</td>\n",
              "      <td>non-stop</td>\n",
              "      <td>No info</td>\n",
              "      <td>4107</td>\n",
              "    </tr>\n",
              "    <tr>\n",
              "      <th>10678</th>\n",
              "      <td>1</td>\n",
              "      <td>27/04/2019</td>\n",
              "      <td>Kolkata</td>\n",
              "      <td>Banglore</td>\n",
              "      <td>CCU → BLR</td>\n",
              "      <td>20:45</td>\n",
              "      <td>23:20</td>\n",
              "      <td>2h 35m</td>\n",
              "      <td>non-stop</td>\n",
              "      <td>No info</td>\n",
              "      <td>4145</td>\n",
              "    </tr>\n",
              "    <tr>\n",
              "      <th>10679</th>\n",
              "      <td>4</td>\n",
              "      <td>27/04/2019</td>\n",
              "      <td>Banglore</td>\n",
              "      <td>Delhi</td>\n",
              "      <td>BLR → DEL</td>\n",
              "      <td>08:20</td>\n",
              "      <td>11:20</td>\n",
              "      <td>3h</td>\n",
              "      <td>non-stop</td>\n",
              "      <td>No info</td>\n",
              "      <td>7229</td>\n",
              "    </tr>\n",
              "    <tr>\n",
              "      <th>10680</th>\n",
              "      <td>10</td>\n",
              "      <td>01/03/2019</td>\n",
              "      <td>Banglore</td>\n",
              "      <td>New Delhi</td>\n",
              "      <td>BLR → DEL</td>\n",
              "      <td>11:30</td>\n",
              "      <td>14:10</td>\n",
              "      <td>2h 40m</td>\n",
              "      <td>non-stop</td>\n",
              "      <td>No info</td>\n",
              "      <td>12648</td>\n",
              "    </tr>\n",
              "    <tr>\n",
              "      <th>10681</th>\n",
              "      <td>1</td>\n",
              "      <td>9/05/2019</td>\n",
              "      <td>Delhi</td>\n",
              "      <td>Cochin</td>\n",
              "      <td>DEL → GOI → BOM → COK</td>\n",
              "      <td>10:55</td>\n",
              "      <td>19:15</td>\n",
              "      <td>8h 20m</td>\n",
              "      <td>2 stops</td>\n",
              "      <td>No info</td>\n",
              "      <td>11753</td>\n",
              "    </tr>\n",
              "  </tbody>\n",
              "</table>\n",
              "<p>10682 rows × 11 columns</p>\n",
              "</div>\n",
              "      <button class=\"colab-df-convert\" onclick=\"convertToInteractive('df-0491dc3d-4308-49f2-a8e0-8d637a9dc9b8')\"\n",
              "              title=\"Convert this dataframe to an interactive table.\"\n",
              "              style=\"display:none;\">\n",
              "        \n",
              "  <svg xmlns=\"http://www.w3.org/2000/svg\" height=\"24px\"viewBox=\"0 0 24 24\"\n",
              "       width=\"24px\">\n",
              "    <path d=\"M0 0h24v24H0V0z\" fill=\"none\"/>\n",
              "    <path d=\"M18.56 5.44l.94 2.06.94-2.06 2.06-.94-2.06-.94-.94-2.06-.94 2.06-2.06.94zm-11 1L8.5 8.5l.94-2.06 2.06-.94-2.06-.94L8.5 2.5l-.94 2.06-2.06.94zm10 10l.94 2.06.94-2.06 2.06-.94-2.06-.94-.94-2.06-.94 2.06-2.06.94z\"/><path d=\"M17.41 7.96l-1.37-1.37c-.4-.4-.92-.59-1.43-.59-.52 0-1.04.2-1.43.59L10.3 9.45l-7.72 7.72c-.78.78-.78 2.05 0 2.83L4 21.41c.39.39.9.59 1.41.59.51 0 1.02-.2 1.41-.59l7.78-7.78 2.81-2.81c.8-.78.8-2.07 0-2.86zM5.41 20L4 18.59l7.72-7.72 1.47 1.35L5.41 20z\"/>\n",
              "  </svg>\n",
              "      </button>\n",
              "      \n",
              "  <style>\n",
              "    .colab-df-container {\n",
              "      display:flex;\n",
              "      flex-wrap:wrap;\n",
              "      gap: 12px;\n",
              "    }\n",
              "\n",
              "    .colab-df-convert {\n",
              "      background-color: #E8F0FE;\n",
              "      border: none;\n",
              "      border-radius: 50%;\n",
              "      cursor: pointer;\n",
              "      display: none;\n",
              "      fill: #1967D2;\n",
              "      height: 32px;\n",
              "      padding: 0 0 0 0;\n",
              "      width: 32px;\n",
              "    }\n",
              "\n",
              "    .colab-df-convert:hover {\n",
              "      background-color: #E2EBFA;\n",
              "      box-shadow: 0px 1px 2px rgba(60, 64, 67, 0.3), 0px 1px 3px 1px rgba(60, 64, 67, 0.15);\n",
              "      fill: #174EA6;\n",
              "    }\n",
              "\n",
              "    [theme=dark] .colab-df-convert {\n",
              "      background-color: #3B4455;\n",
              "      fill: #D2E3FC;\n",
              "    }\n",
              "\n",
              "    [theme=dark] .colab-df-convert:hover {\n",
              "      background-color: #434B5C;\n",
              "      box-shadow: 0px 1px 3px 1px rgba(0, 0, 0, 0.15);\n",
              "      filter: drop-shadow(0px 1px 2px rgba(0, 0, 0, 0.3));\n",
              "      fill: #FFFFFF;\n",
              "    }\n",
              "  </style>\n",
              "\n",
              "      <script>\n",
              "        const buttonEl =\n",
              "          document.querySelector('#df-0491dc3d-4308-49f2-a8e0-8d637a9dc9b8 button.colab-df-convert');\n",
              "        buttonEl.style.display =\n",
              "          google.colab.kernel.accessAllowed ? 'block' : 'none';\n",
              "\n",
              "        async function convertToInteractive(key) {\n",
              "          const element = document.querySelector('#df-0491dc3d-4308-49f2-a8e0-8d637a9dc9b8');\n",
              "          const dataTable =\n",
              "            await google.colab.kernel.invokeFunction('convertToInteractive',\n",
              "                                                     [key], {});\n",
              "          if (!dataTable) return;\n",
              "\n",
              "          const docLinkHtml = 'Like what you see? Visit the ' +\n",
              "            '<a target=\"_blank\" href=https://colab.research.google.com/notebooks/data_table.ipynb>data table notebook</a>'\n",
              "            + ' to learn more about interactive tables.';\n",
              "          element.innerHTML = '';\n",
              "          dataTable['output_type'] = 'display_data';\n",
              "          await google.colab.output.renderOutput(dataTable, element);\n",
              "          const docLink = document.createElement('div');\n",
              "          docLink.innerHTML = docLinkHtml;\n",
              "          element.appendChild(docLink);\n",
              "        }\n",
              "      </script>\n",
              "    </div>\n",
              "  </div>\n",
              "  "
            ]
          },
          "metadata": {},
          "execution_count": 21
        }
      ]
    },
    {
      "cell_type": "code",
      "source": [
        "airline=le.classes_\n",
        "airline_encoded=[i for i in range(12)]"
      ],
      "metadata": {
        "id": "M9je-TkWpebs"
      },
      "execution_count": null,
      "outputs": []
    },
    {
      "cell_type": "code",
      "source": [
        "map_airline=dict(zip(airline,airline_encoded))"
      ],
      "metadata": {
        "id": "wYw4CDD8pnhc"
      },
      "execution_count": null,
      "outputs": []
    },
    {
      "cell_type": "code",
      "source": [
        "map_airline"
      ],
      "metadata": {
        "colab": {
          "base_uri": "https://localhost:8080/"
        },
        "id": "6WXLF7W2pvXn",
        "outputId": "5b9c0578-ad15-406d-ffc8-457358708658"
      },
      "execution_count": null,
      "outputs": [
        {
          "output_type": "execute_result",
          "data": {
            "text/plain": [
              "{'Air Asia': 0,\n",
              " 'Air India': 1,\n",
              " 'GoAir': 2,\n",
              " 'IndiGo': 3,\n",
              " 'Jet Airways': 4,\n",
              " 'Jet Airways Business': 5,\n",
              " 'Multiple carriers': 6,\n",
              " 'Multiple carriers Premium economy': 7,\n",
              " 'SpiceJet': 8,\n",
              " 'Trujet': 9,\n",
              " 'Vistara': 10,\n",
              " 'Vistara Premium economy': 11}"
            ]
          },
          "metadata": {},
          "execution_count": 24
        }
      ]
    },
    {
      "cell_type": "code",
      "source": [
        "vals,counts=np.unique(data['Source'],return_counts=True)\n",
        "vals"
      ],
      "metadata": {
        "colab": {
          "base_uri": "https://localhost:8080/"
        },
        "id": "9jCn92qsp1ye",
        "outputId": "7e37222d-561d-4896-88f0-03ecb751f9cf"
      },
      "execution_count": null,
      "outputs": [
        {
          "output_type": "execute_result",
          "data": {
            "text/plain": [
              "array(['Banglore', 'Chennai', 'Delhi', 'Kolkata', 'Mumbai'], dtype=object)"
            ]
          },
          "metadata": {},
          "execution_count": 25
        }
      ]
    },
    {
      "cell_type": "code",
      "source": [
        "le = preprocessing.LabelEncoder()\n",
        "le.fit((data['Source']))\n",
        "data['Source']=le.transform((data['Source']))\n",
        "data"
      ],
      "metadata": {
        "colab": {
          "base_uri": "https://localhost:8080/",
          "height": 423
        },
        "id": "TldXkytIqAd3",
        "outputId": "87988c5c-e821-4549-dc66-55b7522052a4"
      },
      "execution_count": null,
      "outputs": [
        {
          "output_type": "execute_result",
          "data": {
            "text/plain": [
              "       Airline Date_of_Journey  Source Destination                  Route  \\\n",
              "0            3      24/03/2019       0   New Delhi              BLR → DEL   \n",
              "1            1       1/05/2019       3    Banglore  CCU → IXR → BBI → BLR   \n",
              "2            4       9/06/2019       2      Cochin  DEL → LKO → BOM → COK   \n",
              "3            3      12/05/2019       3    Banglore        CCU → NAG → BLR   \n",
              "4            3      01/03/2019       0   New Delhi        BLR → NAG → DEL   \n",
              "...        ...             ...     ...         ...                    ...   \n",
              "10677        0       9/04/2019       3    Banglore              CCU → BLR   \n",
              "10678        1      27/04/2019       3    Banglore              CCU → BLR   \n",
              "10679        4      27/04/2019       0       Delhi              BLR → DEL   \n",
              "10680       10      01/03/2019       0   New Delhi              BLR → DEL   \n",
              "10681        1       9/05/2019       2      Cochin  DEL → GOI → BOM → COK   \n",
              "\n",
              "      Dep_Time  Arrival_Time Duration Total_Stops Additional_Info  Price  \n",
              "0        22:20  01:10 22 Mar   2h 50m    non-stop         No info   3897  \n",
              "1        05:50         13:15   7h 25m     2 stops         No info   7662  \n",
              "2        09:25  04:25 10 Jun      19h     2 stops         No info  13882  \n",
              "3        18:05         23:30   5h 25m      1 stop         No info   6218  \n",
              "4        16:50         21:35   4h 45m      1 stop         No info  13302  \n",
              "...        ...           ...      ...         ...             ...    ...  \n",
              "10677    19:55         22:25   2h 30m    non-stop         No info   4107  \n",
              "10678    20:45         23:20   2h 35m    non-stop         No info   4145  \n",
              "10679    08:20         11:20       3h    non-stop         No info   7229  \n",
              "10680    11:30         14:10   2h 40m    non-stop         No info  12648  \n",
              "10681    10:55         19:15   8h 20m     2 stops         No info  11753  \n",
              "\n",
              "[10682 rows x 11 columns]"
            ],
            "text/html": [
              "\n",
              "  <div id=\"df-83423fb9-0e11-4a02-8aa0-c0ca4f208f1d\">\n",
              "    <div class=\"colab-df-container\">\n",
              "      <div>\n",
              "<style scoped>\n",
              "    .dataframe tbody tr th:only-of-type {\n",
              "        vertical-align: middle;\n",
              "    }\n",
              "\n",
              "    .dataframe tbody tr th {\n",
              "        vertical-align: top;\n",
              "    }\n",
              "\n",
              "    .dataframe thead th {\n",
              "        text-align: right;\n",
              "    }\n",
              "</style>\n",
              "<table border=\"1\" class=\"dataframe\">\n",
              "  <thead>\n",
              "    <tr style=\"text-align: right;\">\n",
              "      <th></th>\n",
              "      <th>Airline</th>\n",
              "      <th>Date_of_Journey</th>\n",
              "      <th>Source</th>\n",
              "      <th>Destination</th>\n",
              "      <th>Route</th>\n",
              "      <th>Dep_Time</th>\n",
              "      <th>Arrival_Time</th>\n",
              "      <th>Duration</th>\n",
              "      <th>Total_Stops</th>\n",
              "      <th>Additional_Info</th>\n",
              "      <th>Price</th>\n",
              "    </tr>\n",
              "  </thead>\n",
              "  <tbody>\n",
              "    <tr>\n",
              "      <th>0</th>\n",
              "      <td>3</td>\n",
              "      <td>24/03/2019</td>\n",
              "      <td>0</td>\n",
              "      <td>New Delhi</td>\n",
              "      <td>BLR → DEL</td>\n",
              "      <td>22:20</td>\n",
              "      <td>01:10 22 Mar</td>\n",
              "      <td>2h 50m</td>\n",
              "      <td>non-stop</td>\n",
              "      <td>No info</td>\n",
              "      <td>3897</td>\n",
              "    </tr>\n",
              "    <tr>\n",
              "      <th>1</th>\n",
              "      <td>1</td>\n",
              "      <td>1/05/2019</td>\n",
              "      <td>3</td>\n",
              "      <td>Banglore</td>\n",
              "      <td>CCU → IXR → BBI → BLR</td>\n",
              "      <td>05:50</td>\n",
              "      <td>13:15</td>\n",
              "      <td>7h 25m</td>\n",
              "      <td>2 stops</td>\n",
              "      <td>No info</td>\n",
              "      <td>7662</td>\n",
              "    </tr>\n",
              "    <tr>\n",
              "      <th>2</th>\n",
              "      <td>4</td>\n",
              "      <td>9/06/2019</td>\n",
              "      <td>2</td>\n",
              "      <td>Cochin</td>\n",
              "      <td>DEL → LKO → BOM → COK</td>\n",
              "      <td>09:25</td>\n",
              "      <td>04:25 10 Jun</td>\n",
              "      <td>19h</td>\n",
              "      <td>2 stops</td>\n",
              "      <td>No info</td>\n",
              "      <td>13882</td>\n",
              "    </tr>\n",
              "    <tr>\n",
              "      <th>3</th>\n",
              "      <td>3</td>\n",
              "      <td>12/05/2019</td>\n",
              "      <td>3</td>\n",
              "      <td>Banglore</td>\n",
              "      <td>CCU → NAG → BLR</td>\n",
              "      <td>18:05</td>\n",
              "      <td>23:30</td>\n",
              "      <td>5h 25m</td>\n",
              "      <td>1 stop</td>\n",
              "      <td>No info</td>\n",
              "      <td>6218</td>\n",
              "    </tr>\n",
              "    <tr>\n",
              "      <th>4</th>\n",
              "      <td>3</td>\n",
              "      <td>01/03/2019</td>\n",
              "      <td>0</td>\n",
              "      <td>New Delhi</td>\n",
              "      <td>BLR → NAG → DEL</td>\n",
              "      <td>16:50</td>\n",
              "      <td>21:35</td>\n",
              "      <td>4h 45m</td>\n",
              "      <td>1 stop</td>\n",
              "      <td>No info</td>\n",
              "      <td>13302</td>\n",
              "    </tr>\n",
              "    <tr>\n",
              "      <th>...</th>\n",
              "      <td>...</td>\n",
              "      <td>...</td>\n",
              "      <td>...</td>\n",
              "      <td>...</td>\n",
              "      <td>...</td>\n",
              "      <td>...</td>\n",
              "      <td>...</td>\n",
              "      <td>...</td>\n",
              "      <td>...</td>\n",
              "      <td>...</td>\n",
              "      <td>...</td>\n",
              "    </tr>\n",
              "    <tr>\n",
              "      <th>10677</th>\n",
              "      <td>0</td>\n",
              "      <td>9/04/2019</td>\n",
              "      <td>3</td>\n",
              "      <td>Banglore</td>\n",
              "      <td>CCU → BLR</td>\n",
              "      <td>19:55</td>\n",
              "      <td>22:25</td>\n",
              "      <td>2h 30m</td>\n",
              "      <td>non-stop</td>\n",
              "      <td>No info</td>\n",
              "      <td>4107</td>\n",
              "    </tr>\n",
              "    <tr>\n",
              "      <th>10678</th>\n",
              "      <td>1</td>\n",
              "      <td>27/04/2019</td>\n",
              "      <td>3</td>\n",
              "      <td>Banglore</td>\n",
              "      <td>CCU → BLR</td>\n",
              "      <td>20:45</td>\n",
              "      <td>23:20</td>\n",
              "      <td>2h 35m</td>\n",
              "      <td>non-stop</td>\n",
              "      <td>No info</td>\n",
              "      <td>4145</td>\n",
              "    </tr>\n",
              "    <tr>\n",
              "      <th>10679</th>\n",
              "      <td>4</td>\n",
              "      <td>27/04/2019</td>\n",
              "      <td>0</td>\n",
              "      <td>Delhi</td>\n",
              "      <td>BLR → DEL</td>\n",
              "      <td>08:20</td>\n",
              "      <td>11:20</td>\n",
              "      <td>3h</td>\n",
              "      <td>non-stop</td>\n",
              "      <td>No info</td>\n",
              "      <td>7229</td>\n",
              "    </tr>\n",
              "    <tr>\n",
              "      <th>10680</th>\n",
              "      <td>10</td>\n",
              "      <td>01/03/2019</td>\n",
              "      <td>0</td>\n",
              "      <td>New Delhi</td>\n",
              "      <td>BLR → DEL</td>\n",
              "      <td>11:30</td>\n",
              "      <td>14:10</td>\n",
              "      <td>2h 40m</td>\n",
              "      <td>non-stop</td>\n",
              "      <td>No info</td>\n",
              "      <td>12648</td>\n",
              "    </tr>\n",
              "    <tr>\n",
              "      <th>10681</th>\n",
              "      <td>1</td>\n",
              "      <td>9/05/2019</td>\n",
              "      <td>2</td>\n",
              "      <td>Cochin</td>\n",
              "      <td>DEL → GOI → BOM → COK</td>\n",
              "      <td>10:55</td>\n",
              "      <td>19:15</td>\n",
              "      <td>8h 20m</td>\n",
              "      <td>2 stops</td>\n",
              "      <td>No info</td>\n",
              "      <td>11753</td>\n",
              "    </tr>\n",
              "  </tbody>\n",
              "</table>\n",
              "<p>10682 rows × 11 columns</p>\n",
              "</div>\n",
              "      <button class=\"colab-df-convert\" onclick=\"convertToInteractive('df-83423fb9-0e11-4a02-8aa0-c0ca4f208f1d')\"\n",
              "              title=\"Convert this dataframe to an interactive table.\"\n",
              "              style=\"display:none;\">\n",
              "        \n",
              "  <svg xmlns=\"http://www.w3.org/2000/svg\" height=\"24px\"viewBox=\"0 0 24 24\"\n",
              "       width=\"24px\">\n",
              "    <path d=\"M0 0h24v24H0V0z\" fill=\"none\"/>\n",
              "    <path d=\"M18.56 5.44l.94 2.06.94-2.06 2.06-.94-2.06-.94-.94-2.06-.94 2.06-2.06.94zm-11 1L8.5 8.5l.94-2.06 2.06-.94-2.06-.94L8.5 2.5l-.94 2.06-2.06.94zm10 10l.94 2.06.94-2.06 2.06-.94-2.06-.94-.94-2.06-.94 2.06-2.06.94z\"/><path d=\"M17.41 7.96l-1.37-1.37c-.4-.4-.92-.59-1.43-.59-.52 0-1.04.2-1.43.59L10.3 9.45l-7.72 7.72c-.78.78-.78 2.05 0 2.83L4 21.41c.39.39.9.59 1.41.59.51 0 1.02-.2 1.41-.59l7.78-7.78 2.81-2.81c.8-.78.8-2.07 0-2.86zM5.41 20L4 18.59l7.72-7.72 1.47 1.35L5.41 20z\"/>\n",
              "  </svg>\n",
              "      </button>\n",
              "      \n",
              "  <style>\n",
              "    .colab-df-container {\n",
              "      display:flex;\n",
              "      flex-wrap:wrap;\n",
              "      gap: 12px;\n",
              "    }\n",
              "\n",
              "    .colab-df-convert {\n",
              "      background-color: #E8F0FE;\n",
              "      border: none;\n",
              "      border-radius: 50%;\n",
              "      cursor: pointer;\n",
              "      display: none;\n",
              "      fill: #1967D2;\n",
              "      height: 32px;\n",
              "      padding: 0 0 0 0;\n",
              "      width: 32px;\n",
              "    }\n",
              "\n",
              "    .colab-df-convert:hover {\n",
              "      background-color: #E2EBFA;\n",
              "      box-shadow: 0px 1px 2px rgba(60, 64, 67, 0.3), 0px 1px 3px 1px rgba(60, 64, 67, 0.15);\n",
              "      fill: #174EA6;\n",
              "    }\n",
              "\n",
              "    [theme=dark] .colab-df-convert {\n",
              "      background-color: #3B4455;\n",
              "      fill: #D2E3FC;\n",
              "    }\n",
              "\n",
              "    [theme=dark] .colab-df-convert:hover {\n",
              "      background-color: #434B5C;\n",
              "      box-shadow: 0px 1px 3px 1px rgba(0, 0, 0, 0.15);\n",
              "      filter: drop-shadow(0px 1px 2px rgba(0, 0, 0, 0.3));\n",
              "      fill: #FFFFFF;\n",
              "    }\n",
              "  </style>\n",
              "\n",
              "      <script>\n",
              "        const buttonEl =\n",
              "          document.querySelector('#df-83423fb9-0e11-4a02-8aa0-c0ca4f208f1d button.colab-df-convert');\n",
              "        buttonEl.style.display =\n",
              "          google.colab.kernel.accessAllowed ? 'block' : 'none';\n",
              "\n",
              "        async function convertToInteractive(key) {\n",
              "          const element = document.querySelector('#df-83423fb9-0e11-4a02-8aa0-c0ca4f208f1d');\n",
              "          const dataTable =\n",
              "            await google.colab.kernel.invokeFunction('convertToInteractive',\n",
              "                                                     [key], {});\n",
              "          if (!dataTable) return;\n",
              "\n",
              "          const docLinkHtml = 'Like what you see? Visit the ' +\n",
              "            '<a target=\"_blank\" href=https://colab.research.google.com/notebooks/data_table.ipynb>data table notebook</a>'\n",
              "            + ' to learn more about interactive tables.';\n",
              "          element.innerHTML = '';\n",
              "          dataTable['output_type'] = 'display_data';\n",
              "          await google.colab.output.renderOutput(dataTable, element);\n",
              "          const docLink = document.createElement('div');\n",
              "          docLink.innerHTML = docLinkHtml;\n",
              "          element.appendChild(docLink);\n",
              "        }\n",
              "      </script>\n",
              "    </div>\n",
              "  </div>\n",
              "  "
            ]
          },
          "metadata": {},
          "execution_count": 26
        }
      ]
    },
    {
      "cell_type": "code",
      "source": [
        "source=le.classes_\n",
        "source_encoded=[i for i in range(len(np.unique(data['Source'])))]\n",
        "map_source=dict(zip(source,source_encoded))"
      ],
      "metadata": {
        "id": "Asu1jMP8qCpW"
      },
      "execution_count": null,
      "outputs": []
    },
    {
      "cell_type": "code",
      "source": [
        "map_source"
      ],
      "metadata": {
        "colab": {
          "base_uri": "https://localhost:8080/"
        },
        "id": "hRXFdVQmqM4_",
        "outputId": "df2229a6-ba88-4852-e0ac-85b6c60bdcb5"
      },
      "execution_count": null,
      "outputs": [
        {
          "output_type": "execute_result",
          "data": {
            "text/plain": [
              "{'Banglore': 0, 'Chennai': 1, 'Delhi': 2, 'Kolkata': 3, 'Mumbai': 4}"
            ]
          },
          "metadata": {},
          "execution_count": 28
        }
      ]
    },
    {
      "cell_type": "code",
      "source": [
        "le = preprocessing.LabelEncoder()\n",
        "le.fit((data['Destination']))\n",
        "data['Destination']=le.transform((data['Destination']))\n",
        "data"
      ],
      "metadata": {
        "colab": {
          "base_uri": "https://localhost:8080/",
          "height": 423
        },
        "id": "bMPxpJ2nqRmq",
        "outputId": "4d62683f-3b42-4674-98f4-40987d8d609a"
      },
      "execution_count": null,
      "outputs": [
        {
          "output_type": "execute_result",
          "data": {
            "text/plain": [
              "       Airline Date_of_Journey  Source  Destination                  Route  \\\n",
              "0            3      24/03/2019       0            5              BLR → DEL   \n",
              "1            1       1/05/2019       3            0  CCU → IXR → BBI → BLR   \n",
              "2            4       9/06/2019       2            1  DEL → LKO → BOM → COK   \n",
              "3            3      12/05/2019       3            0        CCU → NAG → BLR   \n",
              "4            3      01/03/2019       0            5        BLR → NAG → DEL   \n",
              "...        ...             ...     ...          ...                    ...   \n",
              "10677        0       9/04/2019       3            0              CCU → BLR   \n",
              "10678        1      27/04/2019       3            0              CCU → BLR   \n",
              "10679        4      27/04/2019       0            2              BLR → DEL   \n",
              "10680       10      01/03/2019       0            5              BLR → DEL   \n",
              "10681        1       9/05/2019       2            1  DEL → GOI → BOM → COK   \n",
              "\n",
              "      Dep_Time  Arrival_Time Duration Total_Stops Additional_Info  Price  \n",
              "0        22:20  01:10 22 Mar   2h 50m    non-stop         No info   3897  \n",
              "1        05:50         13:15   7h 25m     2 stops         No info   7662  \n",
              "2        09:25  04:25 10 Jun      19h     2 stops         No info  13882  \n",
              "3        18:05         23:30   5h 25m      1 stop         No info   6218  \n",
              "4        16:50         21:35   4h 45m      1 stop         No info  13302  \n",
              "...        ...           ...      ...         ...             ...    ...  \n",
              "10677    19:55         22:25   2h 30m    non-stop         No info   4107  \n",
              "10678    20:45         23:20   2h 35m    non-stop         No info   4145  \n",
              "10679    08:20         11:20       3h    non-stop         No info   7229  \n",
              "10680    11:30         14:10   2h 40m    non-stop         No info  12648  \n",
              "10681    10:55         19:15   8h 20m     2 stops         No info  11753  \n",
              "\n",
              "[10682 rows x 11 columns]"
            ],
            "text/html": [
              "\n",
              "  <div id=\"df-dd6b1dee-f5db-4810-a55b-81dae933502e\">\n",
              "    <div class=\"colab-df-container\">\n",
              "      <div>\n",
              "<style scoped>\n",
              "    .dataframe tbody tr th:only-of-type {\n",
              "        vertical-align: middle;\n",
              "    }\n",
              "\n",
              "    .dataframe tbody tr th {\n",
              "        vertical-align: top;\n",
              "    }\n",
              "\n",
              "    .dataframe thead th {\n",
              "        text-align: right;\n",
              "    }\n",
              "</style>\n",
              "<table border=\"1\" class=\"dataframe\">\n",
              "  <thead>\n",
              "    <tr style=\"text-align: right;\">\n",
              "      <th></th>\n",
              "      <th>Airline</th>\n",
              "      <th>Date_of_Journey</th>\n",
              "      <th>Source</th>\n",
              "      <th>Destination</th>\n",
              "      <th>Route</th>\n",
              "      <th>Dep_Time</th>\n",
              "      <th>Arrival_Time</th>\n",
              "      <th>Duration</th>\n",
              "      <th>Total_Stops</th>\n",
              "      <th>Additional_Info</th>\n",
              "      <th>Price</th>\n",
              "    </tr>\n",
              "  </thead>\n",
              "  <tbody>\n",
              "    <tr>\n",
              "      <th>0</th>\n",
              "      <td>3</td>\n",
              "      <td>24/03/2019</td>\n",
              "      <td>0</td>\n",
              "      <td>5</td>\n",
              "      <td>BLR → DEL</td>\n",
              "      <td>22:20</td>\n",
              "      <td>01:10 22 Mar</td>\n",
              "      <td>2h 50m</td>\n",
              "      <td>non-stop</td>\n",
              "      <td>No info</td>\n",
              "      <td>3897</td>\n",
              "    </tr>\n",
              "    <tr>\n",
              "      <th>1</th>\n",
              "      <td>1</td>\n",
              "      <td>1/05/2019</td>\n",
              "      <td>3</td>\n",
              "      <td>0</td>\n",
              "      <td>CCU → IXR → BBI → BLR</td>\n",
              "      <td>05:50</td>\n",
              "      <td>13:15</td>\n",
              "      <td>7h 25m</td>\n",
              "      <td>2 stops</td>\n",
              "      <td>No info</td>\n",
              "      <td>7662</td>\n",
              "    </tr>\n",
              "    <tr>\n",
              "      <th>2</th>\n",
              "      <td>4</td>\n",
              "      <td>9/06/2019</td>\n",
              "      <td>2</td>\n",
              "      <td>1</td>\n",
              "      <td>DEL → LKO → BOM → COK</td>\n",
              "      <td>09:25</td>\n",
              "      <td>04:25 10 Jun</td>\n",
              "      <td>19h</td>\n",
              "      <td>2 stops</td>\n",
              "      <td>No info</td>\n",
              "      <td>13882</td>\n",
              "    </tr>\n",
              "    <tr>\n",
              "      <th>3</th>\n",
              "      <td>3</td>\n",
              "      <td>12/05/2019</td>\n",
              "      <td>3</td>\n",
              "      <td>0</td>\n",
              "      <td>CCU → NAG → BLR</td>\n",
              "      <td>18:05</td>\n",
              "      <td>23:30</td>\n",
              "      <td>5h 25m</td>\n",
              "      <td>1 stop</td>\n",
              "      <td>No info</td>\n",
              "      <td>6218</td>\n",
              "    </tr>\n",
              "    <tr>\n",
              "      <th>4</th>\n",
              "      <td>3</td>\n",
              "      <td>01/03/2019</td>\n",
              "      <td>0</td>\n",
              "      <td>5</td>\n",
              "      <td>BLR → NAG → DEL</td>\n",
              "      <td>16:50</td>\n",
              "      <td>21:35</td>\n",
              "      <td>4h 45m</td>\n",
              "      <td>1 stop</td>\n",
              "      <td>No info</td>\n",
              "      <td>13302</td>\n",
              "    </tr>\n",
              "    <tr>\n",
              "      <th>...</th>\n",
              "      <td>...</td>\n",
              "      <td>...</td>\n",
              "      <td>...</td>\n",
              "      <td>...</td>\n",
              "      <td>...</td>\n",
              "      <td>...</td>\n",
              "      <td>...</td>\n",
              "      <td>...</td>\n",
              "      <td>...</td>\n",
              "      <td>...</td>\n",
              "      <td>...</td>\n",
              "    </tr>\n",
              "    <tr>\n",
              "      <th>10677</th>\n",
              "      <td>0</td>\n",
              "      <td>9/04/2019</td>\n",
              "      <td>3</td>\n",
              "      <td>0</td>\n",
              "      <td>CCU → BLR</td>\n",
              "      <td>19:55</td>\n",
              "      <td>22:25</td>\n",
              "      <td>2h 30m</td>\n",
              "      <td>non-stop</td>\n",
              "      <td>No info</td>\n",
              "      <td>4107</td>\n",
              "    </tr>\n",
              "    <tr>\n",
              "      <th>10678</th>\n",
              "      <td>1</td>\n",
              "      <td>27/04/2019</td>\n",
              "      <td>3</td>\n",
              "      <td>0</td>\n",
              "      <td>CCU → BLR</td>\n",
              "      <td>20:45</td>\n",
              "      <td>23:20</td>\n",
              "      <td>2h 35m</td>\n",
              "      <td>non-stop</td>\n",
              "      <td>No info</td>\n",
              "      <td>4145</td>\n",
              "    </tr>\n",
              "    <tr>\n",
              "      <th>10679</th>\n",
              "      <td>4</td>\n",
              "      <td>27/04/2019</td>\n",
              "      <td>0</td>\n",
              "      <td>2</td>\n",
              "      <td>BLR → DEL</td>\n",
              "      <td>08:20</td>\n",
              "      <td>11:20</td>\n",
              "      <td>3h</td>\n",
              "      <td>non-stop</td>\n",
              "      <td>No info</td>\n",
              "      <td>7229</td>\n",
              "    </tr>\n",
              "    <tr>\n",
              "      <th>10680</th>\n",
              "      <td>10</td>\n",
              "      <td>01/03/2019</td>\n",
              "      <td>0</td>\n",
              "      <td>5</td>\n",
              "      <td>BLR → DEL</td>\n",
              "      <td>11:30</td>\n",
              "      <td>14:10</td>\n",
              "      <td>2h 40m</td>\n",
              "      <td>non-stop</td>\n",
              "      <td>No info</td>\n",
              "      <td>12648</td>\n",
              "    </tr>\n",
              "    <tr>\n",
              "      <th>10681</th>\n",
              "      <td>1</td>\n",
              "      <td>9/05/2019</td>\n",
              "      <td>2</td>\n",
              "      <td>1</td>\n",
              "      <td>DEL → GOI → BOM → COK</td>\n",
              "      <td>10:55</td>\n",
              "      <td>19:15</td>\n",
              "      <td>8h 20m</td>\n",
              "      <td>2 stops</td>\n",
              "      <td>No info</td>\n",
              "      <td>11753</td>\n",
              "    </tr>\n",
              "  </tbody>\n",
              "</table>\n",
              "<p>10682 rows × 11 columns</p>\n",
              "</div>\n",
              "      <button class=\"colab-df-convert\" onclick=\"convertToInteractive('df-dd6b1dee-f5db-4810-a55b-81dae933502e')\"\n",
              "              title=\"Convert this dataframe to an interactive table.\"\n",
              "              style=\"display:none;\">\n",
              "        \n",
              "  <svg xmlns=\"http://www.w3.org/2000/svg\" height=\"24px\"viewBox=\"0 0 24 24\"\n",
              "       width=\"24px\">\n",
              "    <path d=\"M0 0h24v24H0V0z\" fill=\"none\"/>\n",
              "    <path d=\"M18.56 5.44l.94 2.06.94-2.06 2.06-.94-2.06-.94-.94-2.06-.94 2.06-2.06.94zm-11 1L8.5 8.5l.94-2.06 2.06-.94-2.06-.94L8.5 2.5l-.94 2.06-2.06.94zm10 10l.94 2.06.94-2.06 2.06-.94-2.06-.94-.94-2.06-.94 2.06-2.06.94z\"/><path d=\"M17.41 7.96l-1.37-1.37c-.4-.4-.92-.59-1.43-.59-.52 0-1.04.2-1.43.59L10.3 9.45l-7.72 7.72c-.78.78-.78 2.05 0 2.83L4 21.41c.39.39.9.59 1.41.59.51 0 1.02-.2 1.41-.59l7.78-7.78 2.81-2.81c.8-.78.8-2.07 0-2.86zM5.41 20L4 18.59l7.72-7.72 1.47 1.35L5.41 20z\"/>\n",
              "  </svg>\n",
              "      </button>\n",
              "      \n",
              "  <style>\n",
              "    .colab-df-container {\n",
              "      display:flex;\n",
              "      flex-wrap:wrap;\n",
              "      gap: 12px;\n",
              "    }\n",
              "\n",
              "    .colab-df-convert {\n",
              "      background-color: #E8F0FE;\n",
              "      border: none;\n",
              "      border-radius: 50%;\n",
              "      cursor: pointer;\n",
              "      display: none;\n",
              "      fill: #1967D2;\n",
              "      height: 32px;\n",
              "      padding: 0 0 0 0;\n",
              "      width: 32px;\n",
              "    }\n",
              "\n",
              "    .colab-df-convert:hover {\n",
              "      background-color: #E2EBFA;\n",
              "      box-shadow: 0px 1px 2px rgba(60, 64, 67, 0.3), 0px 1px 3px 1px rgba(60, 64, 67, 0.15);\n",
              "      fill: #174EA6;\n",
              "    }\n",
              "\n",
              "    [theme=dark] .colab-df-convert {\n",
              "      background-color: #3B4455;\n",
              "      fill: #D2E3FC;\n",
              "    }\n",
              "\n",
              "    [theme=dark] .colab-df-convert:hover {\n",
              "      background-color: #434B5C;\n",
              "      box-shadow: 0px 1px 3px 1px rgba(0, 0, 0, 0.15);\n",
              "      filter: drop-shadow(0px 1px 2px rgba(0, 0, 0, 0.3));\n",
              "      fill: #FFFFFF;\n",
              "    }\n",
              "  </style>\n",
              "\n",
              "      <script>\n",
              "        const buttonEl =\n",
              "          document.querySelector('#df-dd6b1dee-f5db-4810-a55b-81dae933502e button.colab-df-convert');\n",
              "        buttonEl.style.display =\n",
              "          google.colab.kernel.accessAllowed ? 'block' : 'none';\n",
              "\n",
              "        async function convertToInteractive(key) {\n",
              "          const element = document.querySelector('#df-dd6b1dee-f5db-4810-a55b-81dae933502e');\n",
              "          const dataTable =\n",
              "            await google.colab.kernel.invokeFunction('convertToInteractive',\n",
              "                                                     [key], {});\n",
              "          if (!dataTable) return;\n",
              "\n",
              "          const docLinkHtml = 'Like what you see? Visit the ' +\n",
              "            '<a target=\"_blank\" href=https://colab.research.google.com/notebooks/data_table.ipynb>data table notebook</a>'\n",
              "            + ' to learn more about interactive tables.';\n",
              "          element.innerHTML = '';\n",
              "          dataTable['output_type'] = 'display_data';\n",
              "          await google.colab.output.renderOutput(dataTable, element);\n",
              "          const docLink = document.createElement('div');\n",
              "          docLink.innerHTML = docLinkHtml;\n",
              "          element.appendChild(docLink);\n",
              "        }\n",
              "      </script>\n",
              "    </div>\n",
              "  </div>\n",
              "  "
            ]
          },
          "metadata": {},
          "execution_count": 29
        }
      ]
    },
    {
      "cell_type": "code",
      "source": [
        "destination=le.classes_\n",
        "destination_encoded=[i for i in range(len(np.unique(data['Destination'])))]\n",
        "map_destination=dict(zip(destination,destination_encoded))\n",
        "map_destination"
      ],
      "metadata": {
        "colab": {
          "base_uri": "https://localhost:8080/"
        },
        "id": "le7cdeGFqUQS",
        "outputId": "5bd09968-a531-4474-ed75-980188af4c55"
      },
      "execution_count": null,
      "outputs": [
        {
          "output_type": "execute_result",
          "data": {
            "text/plain": [
              "{'Banglore': 0,\n",
              " 'Cochin': 1,\n",
              " 'Delhi': 2,\n",
              " 'Hyderabad': 3,\n",
              " 'Kolkata': 4,\n",
              " 'New Delhi': 5}"
            ]
          },
          "metadata": {},
          "execution_count": 30
        }
      ]
    },
    {
      "cell_type": "code",
      "source": [
        "data=data.drop(['Route'],axis=1)\n",
        "data"
      ],
      "metadata": {
        "colab": {
          "base_uri": "https://localhost:8080/",
          "height": 423
        },
        "id": "_gIwkjhbqjvB",
        "outputId": "8db7c8cd-75b2-4d42-a07b-ae9bb3b403c4"
      },
      "execution_count": null,
      "outputs": [
        {
          "output_type": "execute_result",
          "data": {
            "text/plain": [
              "       Airline Date_of_Journey  Source  Destination Dep_Time  Arrival_Time  \\\n",
              "0            3      24/03/2019       0            5    22:20  01:10 22 Mar   \n",
              "1            1       1/05/2019       3            0    05:50         13:15   \n",
              "2            4       9/06/2019       2            1    09:25  04:25 10 Jun   \n",
              "3            3      12/05/2019       3            0    18:05         23:30   \n",
              "4            3      01/03/2019       0            5    16:50         21:35   \n",
              "...        ...             ...     ...          ...      ...           ...   \n",
              "10677        0       9/04/2019       3            0    19:55         22:25   \n",
              "10678        1      27/04/2019       3            0    20:45         23:20   \n",
              "10679        4      27/04/2019       0            2    08:20         11:20   \n",
              "10680       10      01/03/2019       0            5    11:30         14:10   \n",
              "10681        1       9/05/2019       2            1    10:55         19:15   \n",
              "\n",
              "      Duration Total_Stops Additional_Info  Price  \n",
              "0       2h 50m    non-stop         No info   3897  \n",
              "1       7h 25m     2 stops         No info   7662  \n",
              "2          19h     2 stops         No info  13882  \n",
              "3       5h 25m      1 stop         No info   6218  \n",
              "4       4h 45m      1 stop         No info  13302  \n",
              "...        ...         ...             ...    ...  \n",
              "10677   2h 30m    non-stop         No info   4107  \n",
              "10678   2h 35m    non-stop         No info   4145  \n",
              "10679       3h    non-stop         No info   7229  \n",
              "10680   2h 40m    non-stop         No info  12648  \n",
              "10681   8h 20m     2 stops         No info  11753  \n",
              "\n",
              "[10682 rows x 10 columns]"
            ],
            "text/html": [
              "\n",
              "  <div id=\"df-216acdce-1bb0-4126-9aff-aa1eabb9b8cb\">\n",
              "    <div class=\"colab-df-container\">\n",
              "      <div>\n",
              "<style scoped>\n",
              "    .dataframe tbody tr th:only-of-type {\n",
              "        vertical-align: middle;\n",
              "    }\n",
              "\n",
              "    .dataframe tbody tr th {\n",
              "        vertical-align: top;\n",
              "    }\n",
              "\n",
              "    .dataframe thead th {\n",
              "        text-align: right;\n",
              "    }\n",
              "</style>\n",
              "<table border=\"1\" class=\"dataframe\">\n",
              "  <thead>\n",
              "    <tr style=\"text-align: right;\">\n",
              "      <th></th>\n",
              "      <th>Airline</th>\n",
              "      <th>Date_of_Journey</th>\n",
              "      <th>Source</th>\n",
              "      <th>Destination</th>\n",
              "      <th>Dep_Time</th>\n",
              "      <th>Arrival_Time</th>\n",
              "      <th>Duration</th>\n",
              "      <th>Total_Stops</th>\n",
              "      <th>Additional_Info</th>\n",
              "      <th>Price</th>\n",
              "    </tr>\n",
              "  </thead>\n",
              "  <tbody>\n",
              "    <tr>\n",
              "      <th>0</th>\n",
              "      <td>3</td>\n",
              "      <td>24/03/2019</td>\n",
              "      <td>0</td>\n",
              "      <td>5</td>\n",
              "      <td>22:20</td>\n",
              "      <td>01:10 22 Mar</td>\n",
              "      <td>2h 50m</td>\n",
              "      <td>non-stop</td>\n",
              "      <td>No info</td>\n",
              "      <td>3897</td>\n",
              "    </tr>\n",
              "    <tr>\n",
              "      <th>1</th>\n",
              "      <td>1</td>\n",
              "      <td>1/05/2019</td>\n",
              "      <td>3</td>\n",
              "      <td>0</td>\n",
              "      <td>05:50</td>\n",
              "      <td>13:15</td>\n",
              "      <td>7h 25m</td>\n",
              "      <td>2 stops</td>\n",
              "      <td>No info</td>\n",
              "      <td>7662</td>\n",
              "    </tr>\n",
              "    <tr>\n",
              "      <th>2</th>\n",
              "      <td>4</td>\n",
              "      <td>9/06/2019</td>\n",
              "      <td>2</td>\n",
              "      <td>1</td>\n",
              "      <td>09:25</td>\n",
              "      <td>04:25 10 Jun</td>\n",
              "      <td>19h</td>\n",
              "      <td>2 stops</td>\n",
              "      <td>No info</td>\n",
              "      <td>13882</td>\n",
              "    </tr>\n",
              "    <tr>\n",
              "      <th>3</th>\n",
              "      <td>3</td>\n",
              "      <td>12/05/2019</td>\n",
              "      <td>3</td>\n",
              "      <td>0</td>\n",
              "      <td>18:05</td>\n",
              "      <td>23:30</td>\n",
              "      <td>5h 25m</td>\n",
              "      <td>1 stop</td>\n",
              "      <td>No info</td>\n",
              "      <td>6218</td>\n",
              "    </tr>\n",
              "    <tr>\n",
              "      <th>4</th>\n",
              "      <td>3</td>\n",
              "      <td>01/03/2019</td>\n",
              "      <td>0</td>\n",
              "      <td>5</td>\n",
              "      <td>16:50</td>\n",
              "      <td>21:35</td>\n",
              "      <td>4h 45m</td>\n",
              "      <td>1 stop</td>\n",
              "      <td>No info</td>\n",
              "      <td>13302</td>\n",
              "    </tr>\n",
              "    <tr>\n",
              "      <th>...</th>\n",
              "      <td>...</td>\n",
              "      <td>...</td>\n",
              "      <td>...</td>\n",
              "      <td>...</td>\n",
              "      <td>...</td>\n",
              "      <td>...</td>\n",
              "      <td>...</td>\n",
              "      <td>...</td>\n",
              "      <td>...</td>\n",
              "      <td>...</td>\n",
              "    </tr>\n",
              "    <tr>\n",
              "      <th>10677</th>\n",
              "      <td>0</td>\n",
              "      <td>9/04/2019</td>\n",
              "      <td>3</td>\n",
              "      <td>0</td>\n",
              "      <td>19:55</td>\n",
              "      <td>22:25</td>\n",
              "      <td>2h 30m</td>\n",
              "      <td>non-stop</td>\n",
              "      <td>No info</td>\n",
              "      <td>4107</td>\n",
              "    </tr>\n",
              "    <tr>\n",
              "      <th>10678</th>\n",
              "      <td>1</td>\n",
              "      <td>27/04/2019</td>\n",
              "      <td>3</td>\n",
              "      <td>0</td>\n",
              "      <td>20:45</td>\n",
              "      <td>23:20</td>\n",
              "      <td>2h 35m</td>\n",
              "      <td>non-stop</td>\n",
              "      <td>No info</td>\n",
              "      <td>4145</td>\n",
              "    </tr>\n",
              "    <tr>\n",
              "      <th>10679</th>\n",
              "      <td>4</td>\n",
              "      <td>27/04/2019</td>\n",
              "      <td>0</td>\n",
              "      <td>2</td>\n",
              "      <td>08:20</td>\n",
              "      <td>11:20</td>\n",
              "      <td>3h</td>\n",
              "      <td>non-stop</td>\n",
              "      <td>No info</td>\n",
              "      <td>7229</td>\n",
              "    </tr>\n",
              "    <tr>\n",
              "      <th>10680</th>\n",
              "      <td>10</td>\n",
              "      <td>01/03/2019</td>\n",
              "      <td>0</td>\n",
              "      <td>5</td>\n",
              "      <td>11:30</td>\n",
              "      <td>14:10</td>\n",
              "      <td>2h 40m</td>\n",
              "      <td>non-stop</td>\n",
              "      <td>No info</td>\n",
              "      <td>12648</td>\n",
              "    </tr>\n",
              "    <tr>\n",
              "      <th>10681</th>\n",
              "      <td>1</td>\n",
              "      <td>9/05/2019</td>\n",
              "      <td>2</td>\n",
              "      <td>1</td>\n",
              "      <td>10:55</td>\n",
              "      <td>19:15</td>\n",
              "      <td>8h 20m</td>\n",
              "      <td>2 stops</td>\n",
              "      <td>No info</td>\n",
              "      <td>11753</td>\n",
              "    </tr>\n",
              "  </tbody>\n",
              "</table>\n",
              "<p>10682 rows × 10 columns</p>\n",
              "</div>\n",
              "      <button class=\"colab-df-convert\" onclick=\"convertToInteractive('df-216acdce-1bb0-4126-9aff-aa1eabb9b8cb')\"\n",
              "              title=\"Convert this dataframe to an interactive table.\"\n",
              "              style=\"display:none;\">\n",
              "        \n",
              "  <svg xmlns=\"http://www.w3.org/2000/svg\" height=\"24px\"viewBox=\"0 0 24 24\"\n",
              "       width=\"24px\">\n",
              "    <path d=\"M0 0h24v24H0V0z\" fill=\"none\"/>\n",
              "    <path d=\"M18.56 5.44l.94 2.06.94-2.06 2.06-.94-2.06-.94-.94-2.06-.94 2.06-2.06.94zm-11 1L8.5 8.5l.94-2.06 2.06-.94-2.06-.94L8.5 2.5l-.94 2.06-2.06.94zm10 10l.94 2.06.94-2.06 2.06-.94-2.06-.94-.94-2.06-.94 2.06-2.06.94z\"/><path d=\"M17.41 7.96l-1.37-1.37c-.4-.4-.92-.59-1.43-.59-.52 0-1.04.2-1.43.59L10.3 9.45l-7.72 7.72c-.78.78-.78 2.05 0 2.83L4 21.41c.39.39.9.59 1.41.59.51 0 1.02-.2 1.41-.59l7.78-7.78 2.81-2.81c.8-.78.8-2.07 0-2.86zM5.41 20L4 18.59l7.72-7.72 1.47 1.35L5.41 20z\"/>\n",
              "  </svg>\n",
              "      </button>\n",
              "      \n",
              "  <style>\n",
              "    .colab-df-container {\n",
              "      display:flex;\n",
              "      flex-wrap:wrap;\n",
              "      gap: 12px;\n",
              "    }\n",
              "\n",
              "    .colab-df-convert {\n",
              "      background-color: #E8F0FE;\n",
              "      border: none;\n",
              "      border-radius: 50%;\n",
              "      cursor: pointer;\n",
              "      display: none;\n",
              "      fill: #1967D2;\n",
              "      height: 32px;\n",
              "      padding: 0 0 0 0;\n",
              "      width: 32px;\n",
              "    }\n",
              "\n",
              "    .colab-df-convert:hover {\n",
              "      background-color: #E2EBFA;\n",
              "      box-shadow: 0px 1px 2px rgba(60, 64, 67, 0.3), 0px 1px 3px 1px rgba(60, 64, 67, 0.15);\n",
              "      fill: #174EA6;\n",
              "    }\n",
              "\n",
              "    [theme=dark] .colab-df-convert {\n",
              "      background-color: #3B4455;\n",
              "      fill: #D2E3FC;\n",
              "    }\n",
              "\n",
              "    [theme=dark] .colab-df-convert:hover {\n",
              "      background-color: #434B5C;\n",
              "      box-shadow: 0px 1px 3px 1px rgba(0, 0, 0, 0.15);\n",
              "      filter: drop-shadow(0px 1px 2px rgba(0, 0, 0, 0.3));\n",
              "      fill: #FFFFFF;\n",
              "    }\n",
              "  </style>\n",
              "\n",
              "      <script>\n",
              "        const buttonEl =\n",
              "          document.querySelector('#df-216acdce-1bb0-4126-9aff-aa1eabb9b8cb button.colab-df-convert');\n",
              "        buttonEl.style.display =\n",
              "          google.colab.kernel.accessAllowed ? 'block' : 'none';\n",
              "\n",
              "        async function convertToInteractive(key) {\n",
              "          const element = document.querySelector('#df-216acdce-1bb0-4126-9aff-aa1eabb9b8cb');\n",
              "          const dataTable =\n",
              "            await google.colab.kernel.invokeFunction('convertToInteractive',\n",
              "                                                     [key], {});\n",
              "          if (!dataTable) return;\n",
              "\n",
              "          const docLinkHtml = 'Like what you see? Visit the ' +\n",
              "            '<a target=\"_blank\" href=https://colab.research.google.com/notebooks/data_table.ipynb>data table notebook</a>'\n",
              "            + ' to learn more about interactive tables.';\n",
              "          element.innerHTML = '';\n",
              "          dataTable['output_type'] = 'display_data';\n",
              "          await google.colab.output.renderOutput(dataTable, element);\n",
              "          const docLink = document.createElement('div');\n",
              "          docLink.innerHTML = docLinkHtml;\n",
              "          element.appendChild(docLink);\n",
              "        }\n",
              "      </script>\n",
              "    </div>\n",
              "  </div>\n",
              "  "
            ]
          },
          "metadata": {},
          "execution_count": 31
        }
      ]
    },
    {
      "cell_type": "code",
      "source": [
        "data.loc[data.Total_Stops==\"1 stop\",\"Total_Stops\"]=1\n",
        "data.loc[data.Total_Stops==\"2 stops\",\"Total_Stops\"]=2\n",
        "data.loc[data.Total_Stops==\"3 stops\",\"Total_Stops\"]=3\n",
        "data.loc[data.Total_Stops==\"4 stops\",\"Total_Stops\"]=4\n",
        "data.loc[data.Total_Stops==\"non-stop\",\"Total_Stops\"]=0\n"
      ],
      "metadata": {
        "id": "DDHYMEEPq6G2"
      },
      "execution_count": null,
      "outputs": []
    },
    {
      "cell_type": "code",
      "source": [
        "map_total_stops={\"1 stop\":1, \"2 stops\": 2, \"3 stops\": 3, \"4 stops\": 4, \"non-stop\":0}"
      ],
      "metadata": {
        "id": "O80_pYHfrEPv"
      },
      "execution_count": null,
      "outputs": []
    },
    {
      "cell_type": "code",
      "source": [
        "data"
      ],
      "metadata": {
        "colab": {
          "base_uri": "https://localhost:8080/",
          "height": 423
        },
        "id": "xm9lUUJVrSK0",
        "outputId": "c59fc53b-b504-4055-c4cd-fae6b70fa81f"
      },
      "execution_count": null,
      "outputs": [
        {
          "output_type": "execute_result",
          "data": {
            "text/plain": [
              "       Airline Date_of_Journey  Source  Destination Dep_Time  Arrival_Time  \\\n",
              "0            3      24/03/2019       0            5    22:20  01:10 22 Mar   \n",
              "1            1       1/05/2019       3            0    05:50         13:15   \n",
              "2            4       9/06/2019       2            1    09:25  04:25 10 Jun   \n",
              "3            3      12/05/2019       3            0    18:05         23:30   \n",
              "4            3      01/03/2019       0            5    16:50         21:35   \n",
              "...        ...             ...     ...          ...      ...           ...   \n",
              "10677        0       9/04/2019       3            0    19:55         22:25   \n",
              "10678        1      27/04/2019       3            0    20:45         23:20   \n",
              "10679        4      27/04/2019       0            2    08:20         11:20   \n",
              "10680       10      01/03/2019       0            5    11:30         14:10   \n",
              "10681        1       9/05/2019       2            1    10:55         19:15   \n",
              "\n",
              "      Duration Total_Stops Additional_Info  Price  \n",
              "0       2h 50m           0         No info   3897  \n",
              "1       7h 25m           2         No info   7662  \n",
              "2          19h           2         No info  13882  \n",
              "3       5h 25m           1         No info   6218  \n",
              "4       4h 45m           1         No info  13302  \n",
              "...        ...         ...             ...    ...  \n",
              "10677   2h 30m           0         No info   4107  \n",
              "10678   2h 35m           0         No info   4145  \n",
              "10679       3h           0         No info   7229  \n",
              "10680   2h 40m           0         No info  12648  \n",
              "10681   8h 20m           2         No info  11753  \n",
              "\n",
              "[10682 rows x 10 columns]"
            ],
            "text/html": [
              "\n",
              "  <div id=\"df-06dee85f-0e85-4dc9-bcad-9a271270df27\">\n",
              "    <div class=\"colab-df-container\">\n",
              "      <div>\n",
              "<style scoped>\n",
              "    .dataframe tbody tr th:only-of-type {\n",
              "        vertical-align: middle;\n",
              "    }\n",
              "\n",
              "    .dataframe tbody tr th {\n",
              "        vertical-align: top;\n",
              "    }\n",
              "\n",
              "    .dataframe thead th {\n",
              "        text-align: right;\n",
              "    }\n",
              "</style>\n",
              "<table border=\"1\" class=\"dataframe\">\n",
              "  <thead>\n",
              "    <tr style=\"text-align: right;\">\n",
              "      <th></th>\n",
              "      <th>Airline</th>\n",
              "      <th>Date_of_Journey</th>\n",
              "      <th>Source</th>\n",
              "      <th>Destination</th>\n",
              "      <th>Dep_Time</th>\n",
              "      <th>Arrival_Time</th>\n",
              "      <th>Duration</th>\n",
              "      <th>Total_Stops</th>\n",
              "      <th>Additional_Info</th>\n",
              "      <th>Price</th>\n",
              "    </tr>\n",
              "  </thead>\n",
              "  <tbody>\n",
              "    <tr>\n",
              "      <th>0</th>\n",
              "      <td>3</td>\n",
              "      <td>24/03/2019</td>\n",
              "      <td>0</td>\n",
              "      <td>5</td>\n",
              "      <td>22:20</td>\n",
              "      <td>01:10 22 Mar</td>\n",
              "      <td>2h 50m</td>\n",
              "      <td>0</td>\n",
              "      <td>No info</td>\n",
              "      <td>3897</td>\n",
              "    </tr>\n",
              "    <tr>\n",
              "      <th>1</th>\n",
              "      <td>1</td>\n",
              "      <td>1/05/2019</td>\n",
              "      <td>3</td>\n",
              "      <td>0</td>\n",
              "      <td>05:50</td>\n",
              "      <td>13:15</td>\n",
              "      <td>7h 25m</td>\n",
              "      <td>2</td>\n",
              "      <td>No info</td>\n",
              "      <td>7662</td>\n",
              "    </tr>\n",
              "    <tr>\n",
              "      <th>2</th>\n",
              "      <td>4</td>\n",
              "      <td>9/06/2019</td>\n",
              "      <td>2</td>\n",
              "      <td>1</td>\n",
              "      <td>09:25</td>\n",
              "      <td>04:25 10 Jun</td>\n",
              "      <td>19h</td>\n",
              "      <td>2</td>\n",
              "      <td>No info</td>\n",
              "      <td>13882</td>\n",
              "    </tr>\n",
              "    <tr>\n",
              "      <th>3</th>\n",
              "      <td>3</td>\n",
              "      <td>12/05/2019</td>\n",
              "      <td>3</td>\n",
              "      <td>0</td>\n",
              "      <td>18:05</td>\n",
              "      <td>23:30</td>\n",
              "      <td>5h 25m</td>\n",
              "      <td>1</td>\n",
              "      <td>No info</td>\n",
              "      <td>6218</td>\n",
              "    </tr>\n",
              "    <tr>\n",
              "      <th>4</th>\n",
              "      <td>3</td>\n",
              "      <td>01/03/2019</td>\n",
              "      <td>0</td>\n",
              "      <td>5</td>\n",
              "      <td>16:50</td>\n",
              "      <td>21:35</td>\n",
              "      <td>4h 45m</td>\n",
              "      <td>1</td>\n",
              "      <td>No info</td>\n",
              "      <td>13302</td>\n",
              "    </tr>\n",
              "    <tr>\n",
              "      <th>...</th>\n",
              "      <td>...</td>\n",
              "      <td>...</td>\n",
              "      <td>...</td>\n",
              "      <td>...</td>\n",
              "      <td>...</td>\n",
              "      <td>...</td>\n",
              "      <td>...</td>\n",
              "      <td>...</td>\n",
              "      <td>...</td>\n",
              "      <td>...</td>\n",
              "    </tr>\n",
              "    <tr>\n",
              "      <th>10677</th>\n",
              "      <td>0</td>\n",
              "      <td>9/04/2019</td>\n",
              "      <td>3</td>\n",
              "      <td>0</td>\n",
              "      <td>19:55</td>\n",
              "      <td>22:25</td>\n",
              "      <td>2h 30m</td>\n",
              "      <td>0</td>\n",
              "      <td>No info</td>\n",
              "      <td>4107</td>\n",
              "    </tr>\n",
              "    <tr>\n",
              "      <th>10678</th>\n",
              "      <td>1</td>\n",
              "      <td>27/04/2019</td>\n",
              "      <td>3</td>\n",
              "      <td>0</td>\n",
              "      <td>20:45</td>\n",
              "      <td>23:20</td>\n",
              "      <td>2h 35m</td>\n",
              "      <td>0</td>\n",
              "      <td>No info</td>\n",
              "      <td>4145</td>\n",
              "    </tr>\n",
              "    <tr>\n",
              "      <th>10679</th>\n",
              "      <td>4</td>\n",
              "      <td>27/04/2019</td>\n",
              "      <td>0</td>\n",
              "      <td>2</td>\n",
              "      <td>08:20</td>\n",
              "      <td>11:20</td>\n",
              "      <td>3h</td>\n",
              "      <td>0</td>\n",
              "      <td>No info</td>\n",
              "      <td>7229</td>\n",
              "    </tr>\n",
              "    <tr>\n",
              "      <th>10680</th>\n",
              "      <td>10</td>\n",
              "      <td>01/03/2019</td>\n",
              "      <td>0</td>\n",
              "      <td>5</td>\n",
              "      <td>11:30</td>\n",
              "      <td>14:10</td>\n",
              "      <td>2h 40m</td>\n",
              "      <td>0</td>\n",
              "      <td>No info</td>\n",
              "      <td>12648</td>\n",
              "    </tr>\n",
              "    <tr>\n",
              "      <th>10681</th>\n",
              "      <td>1</td>\n",
              "      <td>9/05/2019</td>\n",
              "      <td>2</td>\n",
              "      <td>1</td>\n",
              "      <td>10:55</td>\n",
              "      <td>19:15</td>\n",
              "      <td>8h 20m</td>\n",
              "      <td>2</td>\n",
              "      <td>No info</td>\n",
              "      <td>11753</td>\n",
              "    </tr>\n",
              "  </tbody>\n",
              "</table>\n",
              "<p>10682 rows × 10 columns</p>\n",
              "</div>\n",
              "      <button class=\"colab-df-convert\" onclick=\"convertToInteractive('df-06dee85f-0e85-4dc9-bcad-9a271270df27')\"\n",
              "              title=\"Convert this dataframe to an interactive table.\"\n",
              "              style=\"display:none;\">\n",
              "        \n",
              "  <svg xmlns=\"http://www.w3.org/2000/svg\" height=\"24px\"viewBox=\"0 0 24 24\"\n",
              "       width=\"24px\">\n",
              "    <path d=\"M0 0h24v24H0V0z\" fill=\"none\"/>\n",
              "    <path d=\"M18.56 5.44l.94 2.06.94-2.06 2.06-.94-2.06-.94-.94-2.06-.94 2.06-2.06.94zm-11 1L8.5 8.5l.94-2.06 2.06-.94-2.06-.94L8.5 2.5l-.94 2.06-2.06.94zm10 10l.94 2.06.94-2.06 2.06-.94-2.06-.94-.94-2.06-.94 2.06-2.06.94z\"/><path d=\"M17.41 7.96l-1.37-1.37c-.4-.4-.92-.59-1.43-.59-.52 0-1.04.2-1.43.59L10.3 9.45l-7.72 7.72c-.78.78-.78 2.05 0 2.83L4 21.41c.39.39.9.59 1.41.59.51 0 1.02-.2 1.41-.59l7.78-7.78 2.81-2.81c.8-.78.8-2.07 0-2.86zM5.41 20L4 18.59l7.72-7.72 1.47 1.35L5.41 20z\"/>\n",
              "  </svg>\n",
              "      </button>\n",
              "      \n",
              "  <style>\n",
              "    .colab-df-container {\n",
              "      display:flex;\n",
              "      flex-wrap:wrap;\n",
              "      gap: 12px;\n",
              "    }\n",
              "\n",
              "    .colab-df-convert {\n",
              "      background-color: #E8F0FE;\n",
              "      border: none;\n",
              "      border-radius: 50%;\n",
              "      cursor: pointer;\n",
              "      display: none;\n",
              "      fill: #1967D2;\n",
              "      height: 32px;\n",
              "      padding: 0 0 0 0;\n",
              "      width: 32px;\n",
              "    }\n",
              "\n",
              "    .colab-df-convert:hover {\n",
              "      background-color: #E2EBFA;\n",
              "      box-shadow: 0px 1px 2px rgba(60, 64, 67, 0.3), 0px 1px 3px 1px rgba(60, 64, 67, 0.15);\n",
              "      fill: #174EA6;\n",
              "    }\n",
              "\n",
              "    [theme=dark] .colab-df-convert {\n",
              "      background-color: #3B4455;\n",
              "      fill: #D2E3FC;\n",
              "    }\n",
              "\n",
              "    [theme=dark] .colab-df-convert:hover {\n",
              "      background-color: #434B5C;\n",
              "      box-shadow: 0px 1px 3px 1px rgba(0, 0, 0, 0.15);\n",
              "      filter: drop-shadow(0px 1px 2px rgba(0, 0, 0, 0.3));\n",
              "      fill: #FFFFFF;\n",
              "    }\n",
              "  </style>\n",
              "\n",
              "      <script>\n",
              "        const buttonEl =\n",
              "          document.querySelector('#df-06dee85f-0e85-4dc9-bcad-9a271270df27 button.colab-df-convert');\n",
              "        buttonEl.style.display =\n",
              "          google.colab.kernel.accessAllowed ? 'block' : 'none';\n",
              "\n",
              "        async function convertToInteractive(key) {\n",
              "          const element = document.querySelector('#df-06dee85f-0e85-4dc9-bcad-9a271270df27');\n",
              "          const dataTable =\n",
              "            await google.colab.kernel.invokeFunction('convertToInteractive',\n",
              "                                                     [key], {});\n",
              "          if (!dataTable) return;\n",
              "\n",
              "          const docLinkHtml = 'Like what you see? Visit the ' +\n",
              "            '<a target=\"_blank\" href=https://colab.research.google.com/notebooks/data_table.ipynb>data table notebook</a>'\n",
              "            + ' to learn more about interactive tables.';\n",
              "          element.innerHTML = '';\n",
              "          dataTable['output_type'] = 'display_data';\n",
              "          await google.colab.output.renderOutput(dataTable, element);\n",
              "          const docLink = document.createElement('div');\n",
              "          docLink.innerHTML = docLinkHtml;\n",
              "          element.appendChild(docLink);\n",
              "        }\n",
              "      </script>\n",
              "    </div>\n",
              "  </div>\n",
              "  "
            ]
          },
          "metadata": {},
          "execution_count": 34
        }
      ]
    },
    {
      "cell_type": "code",
      "source": [
        "np.unique(data['Additional_Info'])"
      ],
      "metadata": {
        "colab": {
          "base_uri": "https://localhost:8080/"
        },
        "id": "IEtHLrVLrT7c",
        "outputId": "1deb7418-0b25-4f8b-919b-3ebc4d806cdd"
      },
      "execution_count": null,
      "outputs": [
        {
          "output_type": "execute_result",
          "data": {
            "text/plain": [
              "array(['1 Long layover', '1 Short layover', '2 Long layover',\n",
              "       'Business class', 'Change airports', 'In-flight meal not included',\n",
              "       'No Info', 'No check-in baggage included', 'No info',\n",
              "       'Red-eye flight'], dtype=object)"
            ]
          },
          "metadata": {},
          "execution_count": 35
        }
      ]
    },
    {
      "cell_type": "code",
      "source": [
        "data.loc[data.Additional_Info==\"1 Long layover\",\"Additional_Info\"]=1\n",
        "data.loc[data.Additional_Info==\"1 Short layover\",\"Additional_Info\"]=2\n",
        "data.loc[data.Additional_Info==\"2 Long layover\",\"Additional_Info\"]=3\n",
        "data.loc[data.Additional_Info==\"Business class\",\"Additional_Info\"]=4\n",
        "data.loc[data.Additional_Info==\"Change airports\",\"Additional_Info\"]=5\n",
        "data.loc[data.Additional_Info==\"In-flight meal not included\",\"Additional_Info\"]=6\n",
        "data.loc[data.Additional_Info==\"No Info\",\"Additional_Info\"]=7\n",
        "data.loc[data.Additional_Info==\"No info\",\"Additional_Info\"]=7\n",
        "data.loc[data.Additional_Info==\"No check-in baggage included\",\"Additional_Info\"]=8\n",
        "data.loc[data.Additional_Info==\"Red-eye flight\",\"Additional_Info\"]=9"
      ],
      "metadata": {
        "id": "d30McESrrXmz"
      },
      "execution_count": null,
      "outputs": []
    },
    {
      "cell_type": "code",
      "source": [
        "map_additional_info={\"Red-eye flight\":9,\"No check-in baggage included\": 8, \"No info\":7 , \"No Info\": 7, \"In-flight meal not included\": 6,\"Change airports\": 5, \"Business class\": 4,\"2 Long layover\": 3,\"1 Short layover\":2,\"1 Long layover\":1}\n",
        "data"
      ],
      "metadata": {
        "colab": {
          "base_uri": "https://localhost:8080/",
          "height": 423
        },
        "id": "rPApZu0krvq0",
        "outputId": "f5a3c102-4f2c-40da-c19b-306d25558ceb"
      },
      "execution_count": null,
      "outputs": [
        {
          "output_type": "execute_result",
          "data": {
            "text/plain": [
              "       Airline Date_of_Journey  Source  Destination Dep_Time  Arrival_Time  \\\n",
              "0            3      24/03/2019       0            5    22:20  01:10 22 Mar   \n",
              "1            1       1/05/2019       3            0    05:50         13:15   \n",
              "2            4       9/06/2019       2            1    09:25  04:25 10 Jun   \n",
              "3            3      12/05/2019       3            0    18:05         23:30   \n",
              "4            3      01/03/2019       0            5    16:50         21:35   \n",
              "...        ...             ...     ...          ...      ...           ...   \n",
              "10677        0       9/04/2019       3            0    19:55         22:25   \n",
              "10678        1      27/04/2019       3            0    20:45         23:20   \n",
              "10679        4      27/04/2019       0            2    08:20         11:20   \n",
              "10680       10      01/03/2019       0            5    11:30         14:10   \n",
              "10681        1       9/05/2019       2            1    10:55         19:15   \n",
              "\n",
              "      Duration Total_Stops Additional_Info  Price  \n",
              "0       2h 50m           0               7   3897  \n",
              "1       7h 25m           2               7   7662  \n",
              "2          19h           2               7  13882  \n",
              "3       5h 25m           1               7   6218  \n",
              "4       4h 45m           1               7  13302  \n",
              "...        ...         ...             ...    ...  \n",
              "10677   2h 30m           0               7   4107  \n",
              "10678   2h 35m           0               7   4145  \n",
              "10679       3h           0               7   7229  \n",
              "10680   2h 40m           0               7  12648  \n",
              "10681   8h 20m           2               7  11753  \n",
              "\n",
              "[10682 rows x 10 columns]"
            ],
            "text/html": [
              "\n",
              "  <div id=\"df-c0eb0182-ea58-40c9-833f-0adafed8df17\">\n",
              "    <div class=\"colab-df-container\">\n",
              "      <div>\n",
              "<style scoped>\n",
              "    .dataframe tbody tr th:only-of-type {\n",
              "        vertical-align: middle;\n",
              "    }\n",
              "\n",
              "    .dataframe tbody tr th {\n",
              "        vertical-align: top;\n",
              "    }\n",
              "\n",
              "    .dataframe thead th {\n",
              "        text-align: right;\n",
              "    }\n",
              "</style>\n",
              "<table border=\"1\" class=\"dataframe\">\n",
              "  <thead>\n",
              "    <tr style=\"text-align: right;\">\n",
              "      <th></th>\n",
              "      <th>Airline</th>\n",
              "      <th>Date_of_Journey</th>\n",
              "      <th>Source</th>\n",
              "      <th>Destination</th>\n",
              "      <th>Dep_Time</th>\n",
              "      <th>Arrival_Time</th>\n",
              "      <th>Duration</th>\n",
              "      <th>Total_Stops</th>\n",
              "      <th>Additional_Info</th>\n",
              "      <th>Price</th>\n",
              "    </tr>\n",
              "  </thead>\n",
              "  <tbody>\n",
              "    <tr>\n",
              "      <th>0</th>\n",
              "      <td>3</td>\n",
              "      <td>24/03/2019</td>\n",
              "      <td>0</td>\n",
              "      <td>5</td>\n",
              "      <td>22:20</td>\n",
              "      <td>01:10 22 Mar</td>\n",
              "      <td>2h 50m</td>\n",
              "      <td>0</td>\n",
              "      <td>7</td>\n",
              "      <td>3897</td>\n",
              "    </tr>\n",
              "    <tr>\n",
              "      <th>1</th>\n",
              "      <td>1</td>\n",
              "      <td>1/05/2019</td>\n",
              "      <td>3</td>\n",
              "      <td>0</td>\n",
              "      <td>05:50</td>\n",
              "      <td>13:15</td>\n",
              "      <td>7h 25m</td>\n",
              "      <td>2</td>\n",
              "      <td>7</td>\n",
              "      <td>7662</td>\n",
              "    </tr>\n",
              "    <tr>\n",
              "      <th>2</th>\n",
              "      <td>4</td>\n",
              "      <td>9/06/2019</td>\n",
              "      <td>2</td>\n",
              "      <td>1</td>\n",
              "      <td>09:25</td>\n",
              "      <td>04:25 10 Jun</td>\n",
              "      <td>19h</td>\n",
              "      <td>2</td>\n",
              "      <td>7</td>\n",
              "      <td>13882</td>\n",
              "    </tr>\n",
              "    <tr>\n",
              "      <th>3</th>\n",
              "      <td>3</td>\n",
              "      <td>12/05/2019</td>\n",
              "      <td>3</td>\n",
              "      <td>0</td>\n",
              "      <td>18:05</td>\n",
              "      <td>23:30</td>\n",
              "      <td>5h 25m</td>\n",
              "      <td>1</td>\n",
              "      <td>7</td>\n",
              "      <td>6218</td>\n",
              "    </tr>\n",
              "    <tr>\n",
              "      <th>4</th>\n",
              "      <td>3</td>\n",
              "      <td>01/03/2019</td>\n",
              "      <td>0</td>\n",
              "      <td>5</td>\n",
              "      <td>16:50</td>\n",
              "      <td>21:35</td>\n",
              "      <td>4h 45m</td>\n",
              "      <td>1</td>\n",
              "      <td>7</td>\n",
              "      <td>13302</td>\n",
              "    </tr>\n",
              "    <tr>\n",
              "      <th>...</th>\n",
              "      <td>...</td>\n",
              "      <td>...</td>\n",
              "      <td>...</td>\n",
              "      <td>...</td>\n",
              "      <td>...</td>\n",
              "      <td>...</td>\n",
              "      <td>...</td>\n",
              "      <td>...</td>\n",
              "      <td>...</td>\n",
              "      <td>...</td>\n",
              "    </tr>\n",
              "    <tr>\n",
              "      <th>10677</th>\n",
              "      <td>0</td>\n",
              "      <td>9/04/2019</td>\n",
              "      <td>3</td>\n",
              "      <td>0</td>\n",
              "      <td>19:55</td>\n",
              "      <td>22:25</td>\n",
              "      <td>2h 30m</td>\n",
              "      <td>0</td>\n",
              "      <td>7</td>\n",
              "      <td>4107</td>\n",
              "    </tr>\n",
              "    <tr>\n",
              "      <th>10678</th>\n",
              "      <td>1</td>\n",
              "      <td>27/04/2019</td>\n",
              "      <td>3</td>\n",
              "      <td>0</td>\n",
              "      <td>20:45</td>\n",
              "      <td>23:20</td>\n",
              "      <td>2h 35m</td>\n",
              "      <td>0</td>\n",
              "      <td>7</td>\n",
              "      <td>4145</td>\n",
              "    </tr>\n",
              "    <tr>\n",
              "      <th>10679</th>\n",
              "      <td>4</td>\n",
              "      <td>27/04/2019</td>\n",
              "      <td>0</td>\n",
              "      <td>2</td>\n",
              "      <td>08:20</td>\n",
              "      <td>11:20</td>\n",
              "      <td>3h</td>\n",
              "      <td>0</td>\n",
              "      <td>7</td>\n",
              "      <td>7229</td>\n",
              "    </tr>\n",
              "    <tr>\n",
              "      <th>10680</th>\n",
              "      <td>10</td>\n",
              "      <td>01/03/2019</td>\n",
              "      <td>0</td>\n",
              "      <td>5</td>\n",
              "      <td>11:30</td>\n",
              "      <td>14:10</td>\n",
              "      <td>2h 40m</td>\n",
              "      <td>0</td>\n",
              "      <td>7</td>\n",
              "      <td>12648</td>\n",
              "    </tr>\n",
              "    <tr>\n",
              "      <th>10681</th>\n",
              "      <td>1</td>\n",
              "      <td>9/05/2019</td>\n",
              "      <td>2</td>\n",
              "      <td>1</td>\n",
              "      <td>10:55</td>\n",
              "      <td>19:15</td>\n",
              "      <td>8h 20m</td>\n",
              "      <td>2</td>\n",
              "      <td>7</td>\n",
              "      <td>11753</td>\n",
              "    </tr>\n",
              "  </tbody>\n",
              "</table>\n",
              "<p>10682 rows × 10 columns</p>\n",
              "</div>\n",
              "      <button class=\"colab-df-convert\" onclick=\"convertToInteractive('df-c0eb0182-ea58-40c9-833f-0adafed8df17')\"\n",
              "              title=\"Convert this dataframe to an interactive table.\"\n",
              "              style=\"display:none;\">\n",
              "        \n",
              "  <svg xmlns=\"http://www.w3.org/2000/svg\" height=\"24px\"viewBox=\"0 0 24 24\"\n",
              "       width=\"24px\">\n",
              "    <path d=\"M0 0h24v24H0V0z\" fill=\"none\"/>\n",
              "    <path d=\"M18.56 5.44l.94 2.06.94-2.06 2.06-.94-2.06-.94-.94-2.06-.94 2.06-2.06.94zm-11 1L8.5 8.5l.94-2.06 2.06-.94-2.06-.94L8.5 2.5l-.94 2.06-2.06.94zm10 10l.94 2.06.94-2.06 2.06-.94-2.06-.94-.94-2.06-.94 2.06-2.06.94z\"/><path d=\"M17.41 7.96l-1.37-1.37c-.4-.4-.92-.59-1.43-.59-.52 0-1.04.2-1.43.59L10.3 9.45l-7.72 7.72c-.78.78-.78 2.05 0 2.83L4 21.41c.39.39.9.59 1.41.59.51 0 1.02-.2 1.41-.59l7.78-7.78 2.81-2.81c.8-.78.8-2.07 0-2.86zM5.41 20L4 18.59l7.72-7.72 1.47 1.35L5.41 20z\"/>\n",
              "  </svg>\n",
              "      </button>\n",
              "      \n",
              "  <style>\n",
              "    .colab-df-container {\n",
              "      display:flex;\n",
              "      flex-wrap:wrap;\n",
              "      gap: 12px;\n",
              "    }\n",
              "\n",
              "    .colab-df-convert {\n",
              "      background-color: #E8F0FE;\n",
              "      border: none;\n",
              "      border-radius: 50%;\n",
              "      cursor: pointer;\n",
              "      display: none;\n",
              "      fill: #1967D2;\n",
              "      height: 32px;\n",
              "      padding: 0 0 0 0;\n",
              "      width: 32px;\n",
              "    }\n",
              "\n",
              "    .colab-df-convert:hover {\n",
              "      background-color: #E2EBFA;\n",
              "      box-shadow: 0px 1px 2px rgba(60, 64, 67, 0.3), 0px 1px 3px 1px rgba(60, 64, 67, 0.15);\n",
              "      fill: #174EA6;\n",
              "    }\n",
              "\n",
              "    [theme=dark] .colab-df-convert {\n",
              "      background-color: #3B4455;\n",
              "      fill: #D2E3FC;\n",
              "    }\n",
              "\n",
              "    [theme=dark] .colab-df-convert:hover {\n",
              "      background-color: #434B5C;\n",
              "      box-shadow: 0px 1px 3px 1px rgba(0, 0, 0, 0.15);\n",
              "      filter: drop-shadow(0px 1px 2px rgba(0, 0, 0, 0.3));\n",
              "      fill: #FFFFFF;\n",
              "    }\n",
              "  </style>\n",
              "\n",
              "      <script>\n",
              "        const buttonEl =\n",
              "          document.querySelector('#df-c0eb0182-ea58-40c9-833f-0adafed8df17 button.colab-df-convert');\n",
              "        buttonEl.style.display =\n",
              "          google.colab.kernel.accessAllowed ? 'block' : 'none';\n",
              "\n",
              "        async function convertToInteractive(key) {\n",
              "          const element = document.querySelector('#df-c0eb0182-ea58-40c9-833f-0adafed8df17');\n",
              "          const dataTable =\n",
              "            await google.colab.kernel.invokeFunction('convertToInteractive',\n",
              "                                                     [key], {});\n",
              "          if (!dataTable) return;\n",
              "\n",
              "          const docLinkHtml = 'Like what you see? Visit the ' +\n",
              "            '<a target=\"_blank\" href=https://colab.research.google.com/notebooks/data_table.ipynb>data table notebook</a>'\n",
              "            + ' to learn more about interactive tables.';\n",
              "          element.innerHTML = '';\n",
              "          dataTable['output_type'] = 'display_data';\n",
              "          await google.colab.output.renderOutput(dataTable, element);\n",
              "          const docLink = document.createElement('div');\n",
              "          docLink.innerHTML = docLinkHtml;\n",
              "          element.appendChild(docLink);\n",
              "        }\n",
              "      </script>\n",
              "    </div>\n",
              "  </div>\n",
              "  "
            ]
          },
          "metadata": {},
          "execution_count": 37
        }
      ]
    },
    {
      "cell_type": "markdown",
      "source": [
        "### Handling date and time"
      ],
      "metadata": {
        "id": "n-4EbUAIsHbF"
      }
    },
    {
      "cell_type": "code",
      "source": [
        "def convert_to_total_seconds(dateHere):\n",
        "  d = datetime.strptime(dateHere, \"%d/%m/%Y\")\n",
        "  return time.mktime(d.timetuple())"
      ],
      "metadata": {
        "id": "Ncn3vXBpsJdi"
      },
      "execution_count": null,
      "outputs": []
    },
    {
      "cell_type": "code",
      "source": [
        "for i in range(len(data['Date_of_Journey'])):\n",
        "  data['Date_of_Journey'][i]=convert_to_total_seconds(data['Date_of_Journey'].values[i])"
      ],
      "metadata": {
        "id": "rzVlPQALsmFj"
      },
      "execution_count": null,
      "outputs": []
    },
    {
      "cell_type": "code",
      "source": [
        "convert_to_total_seconds('13/04/2022')"
      ],
      "metadata": {
        "colab": {
          "base_uri": "https://localhost:8080/"
        },
        "id": "mraaylUKEEeG",
        "outputId": "c8569721-7c73-465b-9161-7cc09167ea72"
      },
      "execution_count": null,
      "outputs": [
        {
          "output_type": "execute_result",
          "data": {
            "text/plain": [
              "1649808000.0"
            ]
          },
          "metadata": {},
          "execution_count": 40
        }
      ]
    },
    {
      "cell_type": "code",
      "source": [
        "data"
      ],
      "metadata": {
        "colab": {
          "base_uri": "https://localhost:8080/",
          "height": 423
        },
        "id": "C9ugkWmqs3wQ",
        "outputId": "a4f086b2-ead1-46df-cbdc-e3f949f60a63"
      },
      "execution_count": null,
      "outputs": [
        {
          "output_type": "execute_result",
          "data": {
            "text/plain": [
              "       Airline Date_of_Journey  Source  Destination Dep_Time  Arrival_Time  \\\n",
              "0            3    1553385600.0       0            5    22:20  01:10 22 Mar   \n",
              "1            1    1556668800.0       3            0    05:50         13:15   \n",
              "2            4    1560038400.0       2            1    09:25  04:25 10 Jun   \n",
              "3            3    1557619200.0       3            0    18:05         23:30   \n",
              "4            3    1551398400.0       0            5    16:50         21:35   \n",
              "...        ...             ...     ...          ...      ...           ...   \n",
              "10677        0    1554768000.0       3            0    19:55         22:25   \n",
              "10678        1    1556323200.0       3            0    20:45         23:20   \n",
              "10679        4    1556323200.0       0            2    08:20         11:20   \n",
              "10680       10    1551398400.0       0            5    11:30         14:10   \n",
              "10681        1    1557360000.0       2            1    10:55         19:15   \n",
              "\n",
              "      Duration Total_Stops Additional_Info  Price  \n",
              "0       2h 50m           0               7   3897  \n",
              "1       7h 25m           2               7   7662  \n",
              "2          19h           2               7  13882  \n",
              "3       5h 25m           1               7   6218  \n",
              "4       4h 45m           1               7  13302  \n",
              "...        ...         ...             ...    ...  \n",
              "10677   2h 30m           0               7   4107  \n",
              "10678   2h 35m           0               7   4145  \n",
              "10679       3h           0               7   7229  \n",
              "10680   2h 40m           0               7  12648  \n",
              "10681   8h 20m           2               7  11753  \n",
              "\n",
              "[10682 rows x 10 columns]"
            ],
            "text/html": [
              "\n",
              "  <div id=\"df-407267e7-f2b5-4e9e-be26-4cb1af4bf5f7\">\n",
              "    <div class=\"colab-df-container\">\n",
              "      <div>\n",
              "<style scoped>\n",
              "    .dataframe tbody tr th:only-of-type {\n",
              "        vertical-align: middle;\n",
              "    }\n",
              "\n",
              "    .dataframe tbody tr th {\n",
              "        vertical-align: top;\n",
              "    }\n",
              "\n",
              "    .dataframe thead th {\n",
              "        text-align: right;\n",
              "    }\n",
              "</style>\n",
              "<table border=\"1\" class=\"dataframe\">\n",
              "  <thead>\n",
              "    <tr style=\"text-align: right;\">\n",
              "      <th></th>\n",
              "      <th>Airline</th>\n",
              "      <th>Date_of_Journey</th>\n",
              "      <th>Source</th>\n",
              "      <th>Destination</th>\n",
              "      <th>Dep_Time</th>\n",
              "      <th>Arrival_Time</th>\n",
              "      <th>Duration</th>\n",
              "      <th>Total_Stops</th>\n",
              "      <th>Additional_Info</th>\n",
              "      <th>Price</th>\n",
              "    </tr>\n",
              "  </thead>\n",
              "  <tbody>\n",
              "    <tr>\n",
              "      <th>0</th>\n",
              "      <td>3</td>\n",
              "      <td>1553385600.0</td>\n",
              "      <td>0</td>\n",
              "      <td>5</td>\n",
              "      <td>22:20</td>\n",
              "      <td>01:10 22 Mar</td>\n",
              "      <td>2h 50m</td>\n",
              "      <td>0</td>\n",
              "      <td>7</td>\n",
              "      <td>3897</td>\n",
              "    </tr>\n",
              "    <tr>\n",
              "      <th>1</th>\n",
              "      <td>1</td>\n",
              "      <td>1556668800.0</td>\n",
              "      <td>3</td>\n",
              "      <td>0</td>\n",
              "      <td>05:50</td>\n",
              "      <td>13:15</td>\n",
              "      <td>7h 25m</td>\n",
              "      <td>2</td>\n",
              "      <td>7</td>\n",
              "      <td>7662</td>\n",
              "    </tr>\n",
              "    <tr>\n",
              "      <th>2</th>\n",
              "      <td>4</td>\n",
              "      <td>1560038400.0</td>\n",
              "      <td>2</td>\n",
              "      <td>1</td>\n",
              "      <td>09:25</td>\n",
              "      <td>04:25 10 Jun</td>\n",
              "      <td>19h</td>\n",
              "      <td>2</td>\n",
              "      <td>7</td>\n",
              "      <td>13882</td>\n",
              "    </tr>\n",
              "    <tr>\n",
              "      <th>3</th>\n",
              "      <td>3</td>\n",
              "      <td>1557619200.0</td>\n",
              "      <td>3</td>\n",
              "      <td>0</td>\n",
              "      <td>18:05</td>\n",
              "      <td>23:30</td>\n",
              "      <td>5h 25m</td>\n",
              "      <td>1</td>\n",
              "      <td>7</td>\n",
              "      <td>6218</td>\n",
              "    </tr>\n",
              "    <tr>\n",
              "      <th>4</th>\n",
              "      <td>3</td>\n",
              "      <td>1551398400.0</td>\n",
              "      <td>0</td>\n",
              "      <td>5</td>\n",
              "      <td>16:50</td>\n",
              "      <td>21:35</td>\n",
              "      <td>4h 45m</td>\n",
              "      <td>1</td>\n",
              "      <td>7</td>\n",
              "      <td>13302</td>\n",
              "    </tr>\n",
              "    <tr>\n",
              "      <th>...</th>\n",
              "      <td>...</td>\n",
              "      <td>...</td>\n",
              "      <td>...</td>\n",
              "      <td>...</td>\n",
              "      <td>...</td>\n",
              "      <td>...</td>\n",
              "      <td>...</td>\n",
              "      <td>...</td>\n",
              "      <td>...</td>\n",
              "      <td>...</td>\n",
              "    </tr>\n",
              "    <tr>\n",
              "      <th>10677</th>\n",
              "      <td>0</td>\n",
              "      <td>1554768000.0</td>\n",
              "      <td>3</td>\n",
              "      <td>0</td>\n",
              "      <td>19:55</td>\n",
              "      <td>22:25</td>\n",
              "      <td>2h 30m</td>\n",
              "      <td>0</td>\n",
              "      <td>7</td>\n",
              "      <td>4107</td>\n",
              "    </tr>\n",
              "    <tr>\n",
              "      <th>10678</th>\n",
              "      <td>1</td>\n",
              "      <td>1556323200.0</td>\n",
              "      <td>3</td>\n",
              "      <td>0</td>\n",
              "      <td>20:45</td>\n",
              "      <td>23:20</td>\n",
              "      <td>2h 35m</td>\n",
              "      <td>0</td>\n",
              "      <td>7</td>\n",
              "      <td>4145</td>\n",
              "    </tr>\n",
              "    <tr>\n",
              "      <th>10679</th>\n",
              "      <td>4</td>\n",
              "      <td>1556323200.0</td>\n",
              "      <td>0</td>\n",
              "      <td>2</td>\n",
              "      <td>08:20</td>\n",
              "      <td>11:20</td>\n",
              "      <td>3h</td>\n",
              "      <td>0</td>\n",
              "      <td>7</td>\n",
              "      <td>7229</td>\n",
              "    </tr>\n",
              "    <tr>\n",
              "      <th>10680</th>\n",
              "      <td>10</td>\n",
              "      <td>1551398400.0</td>\n",
              "      <td>0</td>\n",
              "      <td>5</td>\n",
              "      <td>11:30</td>\n",
              "      <td>14:10</td>\n",
              "      <td>2h 40m</td>\n",
              "      <td>0</td>\n",
              "      <td>7</td>\n",
              "      <td>12648</td>\n",
              "    </tr>\n",
              "    <tr>\n",
              "      <th>10681</th>\n",
              "      <td>1</td>\n",
              "      <td>1557360000.0</td>\n",
              "      <td>2</td>\n",
              "      <td>1</td>\n",
              "      <td>10:55</td>\n",
              "      <td>19:15</td>\n",
              "      <td>8h 20m</td>\n",
              "      <td>2</td>\n",
              "      <td>7</td>\n",
              "      <td>11753</td>\n",
              "    </tr>\n",
              "  </tbody>\n",
              "</table>\n",
              "<p>10682 rows × 10 columns</p>\n",
              "</div>\n",
              "      <button class=\"colab-df-convert\" onclick=\"convertToInteractive('df-407267e7-f2b5-4e9e-be26-4cb1af4bf5f7')\"\n",
              "              title=\"Convert this dataframe to an interactive table.\"\n",
              "              style=\"display:none;\">\n",
              "        \n",
              "  <svg xmlns=\"http://www.w3.org/2000/svg\" height=\"24px\"viewBox=\"0 0 24 24\"\n",
              "       width=\"24px\">\n",
              "    <path d=\"M0 0h24v24H0V0z\" fill=\"none\"/>\n",
              "    <path d=\"M18.56 5.44l.94 2.06.94-2.06 2.06-.94-2.06-.94-.94-2.06-.94 2.06-2.06.94zm-11 1L8.5 8.5l.94-2.06 2.06-.94-2.06-.94L8.5 2.5l-.94 2.06-2.06.94zm10 10l.94 2.06.94-2.06 2.06-.94-2.06-.94-.94-2.06-.94 2.06-2.06.94z\"/><path d=\"M17.41 7.96l-1.37-1.37c-.4-.4-.92-.59-1.43-.59-.52 0-1.04.2-1.43.59L10.3 9.45l-7.72 7.72c-.78.78-.78 2.05 0 2.83L4 21.41c.39.39.9.59 1.41.59.51 0 1.02-.2 1.41-.59l7.78-7.78 2.81-2.81c.8-.78.8-2.07 0-2.86zM5.41 20L4 18.59l7.72-7.72 1.47 1.35L5.41 20z\"/>\n",
              "  </svg>\n",
              "      </button>\n",
              "      \n",
              "  <style>\n",
              "    .colab-df-container {\n",
              "      display:flex;\n",
              "      flex-wrap:wrap;\n",
              "      gap: 12px;\n",
              "    }\n",
              "\n",
              "    .colab-df-convert {\n",
              "      background-color: #E8F0FE;\n",
              "      border: none;\n",
              "      border-radius: 50%;\n",
              "      cursor: pointer;\n",
              "      display: none;\n",
              "      fill: #1967D2;\n",
              "      height: 32px;\n",
              "      padding: 0 0 0 0;\n",
              "      width: 32px;\n",
              "    }\n",
              "\n",
              "    .colab-df-convert:hover {\n",
              "      background-color: #E2EBFA;\n",
              "      box-shadow: 0px 1px 2px rgba(60, 64, 67, 0.3), 0px 1px 3px 1px rgba(60, 64, 67, 0.15);\n",
              "      fill: #174EA6;\n",
              "    }\n",
              "\n",
              "    [theme=dark] .colab-df-convert {\n",
              "      background-color: #3B4455;\n",
              "      fill: #D2E3FC;\n",
              "    }\n",
              "\n",
              "    [theme=dark] .colab-df-convert:hover {\n",
              "      background-color: #434B5C;\n",
              "      box-shadow: 0px 1px 3px 1px rgba(0, 0, 0, 0.15);\n",
              "      filter: drop-shadow(0px 1px 2px rgba(0, 0, 0, 0.3));\n",
              "      fill: #FFFFFF;\n",
              "    }\n",
              "  </style>\n",
              "\n",
              "      <script>\n",
              "        const buttonEl =\n",
              "          document.querySelector('#df-407267e7-f2b5-4e9e-be26-4cb1af4bf5f7 button.colab-df-convert');\n",
              "        buttonEl.style.display =\n",
              "          google.colab.kernel.accessAllowed ? 'block' : 'none';\n",
              "\n",
              "        async function convertToInteractive(key) {\n",
              "          const element = document.querySelector('#df-407267e7-f2b5-4e9e-be26-4cb1af4bf5f7');\n",
              "          const dataTable =\n",
              "            await google.colab.kernel.invokeFunction('convertToInteractive',\n",
              "                                                     [key], {});\n",
              "          if (!dataTable) return;\n",
              "\n",
              "          const docLinkHtml = 'Like what you see? Visit the ' +\n",
              "            '<a target=\"_blank\" href=https://colab.research.google.com/notebooks/data_table.ipynb>data table notebook</a>'\n",
              "            + ' to learn more about interactive tables.';\n",
              "          element.innerHTML = '';\n",
              "          dataTable['output_type'] = 'display_data';\n",
              "          await google.colab.output.renderOutput(dataTable, element);\n",
              "          const docLink = document.createElement('div');\n",
              "          docLink.innerHTML = docLinkHtml;\n",
              "          element.appendChild(docLink);\n",
              "        }\n",
              "      </script>\n",
              "    </div>\n",
              "  </div>\n",
              "  "
            ]
          },
          "metadata": {},
          "execution_count": 41
        }
      ]
    },
    {
      "cell_type": "code",
      "source": [
        "def get_sec(time_str):\n",
        "    h, m = time_str.split(':')\n",
        "    return int(h) * 3600 + int(m)*60"
      ],
      "metadata": {
        "id": "sRW3RklotEtN"
      },
      "execution_count": null,
      "outputs": []
    },
    {
      "cell_type": "code",
      "source": [
        "for i in range(len(data['Dep_Time'])):\n",
        "  data['Dep_Time'][i]=get_sec(data['Dep_Time'].values[i])"
      ],
      "metadata": {
        "id": "t48Rjde9tco5"
      },
      "execution_count": null,
      "outputs": []
    },
    {
      "cell_type": "code",
      "source": [
        "data"
      ],
      "metadata": {
        "colab": {
          "base_uri": "https://localhost:8080/",
          "height": 423
        },
        "id": "rQE7kD6gtjAw",
        "outputId": "da5f1ae1-7dcb-4a2c-b4a9-340e34928731"
      },
      "execution_count": null,
      "outputs": [
        {
          "output_type": "execute_result",
          "data": {
            "text/plain": [
              "       Airline Date_of_Journey  Source  Destination Dep_Time  Arrival_Time  \\\n",
              "0            3    1553385600.0       0            5    80400  01:10 22 Mar   \n",
              "1            1    1556668800.0       3            0    21000         13:15   \n",
              "2            4    1560038400.0       2            1    33900  04:25 10 Jun   \n",
              "3            3    1557619200.0       3            0    65100         23:30   \n",
              "4            3    1551398400.0       0            5    60600         21:35   \n",
              "...        ...             ...     ...          ...      ...           ...   \n",
              "10677        0    1554768000.0       3            0    71700         22:25   \n",
              "10678        1    1556323200.0       3            0    74700         23:20   \n",
              "10679        4    1556323200.0       0            2    30000         11:20   \n",
              "10680       10    1551398400.0       0            5    41400         14:10   \n",
              "10681        1    1557360000.0       2            1    39300         19:15   \n",
              "\n",
              "      Duration Total_Stops Additional_Info  Price  \n",
              "0       2h 50m           0               7   3897  \n",
              "1       7h 25m           2               7   7662  \n",
              "2          19h           2               7  13882  \n",
              "3       5h 25m           1               7   6218  \n",
              "4       4h 45m           1               7  13302  \n",
              "...        ...         ...             ...    ...  \n",
              "10677   2h 30m           0               7   4107  \n",
              "10678   2h 35m           0               7   4145  \n",
              "10679       3h           0               7   7229  \n",
              "10680   2h 40m           0               7  12648  \n",
              "10681   8h 20m           2               7  11753  \n",
              "\n",
              "[10682 rows x 10 columns]"
            ],
            "text/html": [
              "\n",
              "  <div id=\"df-79e03a6d-fe89-4b61-9f5a-155014297c28\">\n",
              "    <div class=\"colab-df-container\">\n",
              "      <div>\n",
              "<style scoped>\n",
              "    .dataframe tbody tr th:only-of-type {\n",
              "        vertical-align: middle;\n",
              "    }\n",
              "\n",
              "    .dataframe tbody tr th {\n",
              "        vertical-align: top;\n",
              "    }\n",
              "\n",
              "    .dataframe thead th {\n",
              "        text-align: right;\n",
              "    }\n",
              "</style>\n",
              "<table border=\"1\" class=\"dataframe\">\n",
              "  <thead>\n",
              "    <tr style=\"text-align: right;\">\n",
              "      <th></th>\n",
              "      <th>Airline</th>\n",
              "      <th>Date_of_Journey</th>\n",
              "      <th>Source</th>\n",
              "      <th>Destination</th>\n",
              "      <th>Dep_Time</th>\n",
              "      <th>Arrival_Time</th>\n",
              "      <th>Duration</th>\n",
              "      <th>Total_Stops</th>\n",
              "      <th>Additional_Info</th>\n",
              "      <th>Price</th>\n",
              "    </tr>\n",
              "  </thead>\n",
              "  <tbody>\n",
              "    <tr>\n",
              "      <th>0</th>\n",
              "      <td>3</td>\n",
              "      <td>1553385600.0</td>\n",
              "      <td>0</td>\n",
              "      <td>5</td>\n",
              "      <td>80400</td>\n",
              "      <td>01:10 22 Mar</td>\n",
              "      <td>2h 50m</td>\n",
              "      <td>0</td>\n",
              "      <td>7</td>\n",
              "      <td>3897</td>\n",
              "    </tr>\n",
              "    <tr>\n",
              "      <th>1</th>\n",
              "      <td>1</td>\n",
              "      <td>1556668800.0</td>\n",
              "      <td>3</td>\n",
              "      <td>0</td>\n",
              "      <td>21000</td>\n",
              "      <td>13:15</td>\n",
              "      <td>7h 25m</td>\n",
              "      <td>2</td>\n",
              "      <td>7</td>\n",
              "      <td>7662</td>\n",
              "    </tr>\n",
              "    <tr>\n",
              "      <th>2</th>\n",
              "      <td>4</td>\n",
              "      <td>1560038400.0</td>\n",
              "      <td>2</td>\n",
              "      <td>1</td>\n",
              "      <td>33900</td>\n",
              "      <td>04:25 10 Jun</td>\n",
              "      <td>19h</td>\n",
              "      <td>2</td>\n",
              "      <td>7</td>\n",
              "      <td>13882</td>\n",
              "    </tr>\n",
              "    <tr>\n",
              "      <th>3</th>\n",
              "      <td>3</td>\n",
              "      <td>1557619200.0</td>\n",
              "      <td>3</td>\n",
              "      <td>0</td>\n",
              "      <td>65100</td>\n",
              "      <td>23:30</td>\n",
              "      <td>5h 25m</td>\n",
              "      <td>1</td>\n",
              "      <td>7</td>\n",
              "      <td>6218</td>\n",
              "    </tr>\n",
              "    <tr>\n",
              "      <th>4</th>\n",
              "      <td>3</td>\n",
              "      <td>1551398400.0</td>\n",
              "      <td>0</td>\n",
              "      <td>5</td>\n",
              "      <td>60600</td>\n",
              "      <td>21:35</td>\n",
              "      <td>4h 45m</td>\n",
              "      <td>1</td>\n",
              "      <td>7</td>\n",
              "      <td>13302</td>\n",
              "    </tr>\n",
              "    <tr>\n",
              "      <th>...</th>\n",
              "      <td>...</td>\n",
              "      <td>...</td>\n",
              "      <td>...</td>\n",
              "      <td>...</td>\n",
              "      <td>...</td>\n",
              "      <td>...</td>\n",
              "      <td>...</td>\n",
              "      <td>...</td>\n",
              "      <td>...</td>\n",
              "      <td>...</td>\n",
              "    </tr>\n",
              "    <tr>\n",
              "      <th>10677</th>\n",
              "      <td>0</td>\n",
              "      <td>1554768000.0</td>\n",
              "      <td>3</td>\n",
              "      <td>0</td>\n",
              "      <td>71700</td>\n",
              "      <td>22:25</td>\n",
              "      <td>2h 30m</td>\n",
              "      <td>0</td>\n",
              "      <td>7</td>\n",
              "      <td>4107</td>\n",
              "    </tr>\n",
              "    <tr>\n",
              "      <th>10678</th>\n",
              "      <td>1</td>\n",
              "      <td>1556323200.0</td>\n",
              "      <td>3</td>\n",
              "      <td>0</td>\n",
              "      <td>74700</td>\n",
              "      <td>23:20</td>\n",
              "      <td>2h 35m</td>\n",
              "      <td>0</td>\n",
              "      <td>7</td>\n",
              "      <td>4145</td>\n",
              "    </tr>\n",
              "    <tr>\n",
              "      <th>10679</th>\n",
              "      <td>4</td>\n",
              "      <td>1556323200.0</td>\n",
              "      <td>0</td>\n",
              "      <td>2</td>\n",
              "      <td>30000</td>\n",
              "      <td>11:20</td>\n",
              "      <td>3h</td>\n",
              "      <td>0</td>\n",
              "      <td>7</td>\n",
              "      <td>7229</td>\n",
              "    </tr>\n",
              "    <tr>\n",
              "      <th>10680</th>\n",
              "      <td>10</td>\n",
              "      <td>1551398400.0</td>\n",
              "      <td>0</td>\n",
              "      <td>5</td>\n",
              "      <td>41400</td>\n",
              "      <td>14:10</td>\n",
              "      <td>2h 40m</td>\n",
              "      <td>0</td>\n",
              "      <td>7</td>\n",
              "      <td>12648</td>\n",
              "    </tr>\n",
              "    <tr>\n",
              "      <th>10681</th>\n",
              "      <td>1</td>\n",
              "      <td>1557360000.0</td>\n",
              "      <td>2</td>\n",
              "      <td>1</td>\n",
              "      <td>39300</td>\n",
              "      <td>19:15</td>\n",
              "      <td>8h 20m</td>\n",
              "      <td>2</td>\n",
              "      <td>7</td>\n",
              "      <td>11753</td>\n",
              "    </tr>\n",
              "  </tbody>\n",
              "</table>\n",
              "<p>10682 rows × 10 columns</p>\n",
              "</div>\n",
              "      <button class=\"colab-df-convert\" onclick=\"convertToInteractive('df-79e03a6d-fe89-4b61-9f5a-155014297c28')\"\n",
              "              title=\"Convert this dataframe to an interactive table.\"\n",
              "              style=\"display:none;\">\n",
              "        \n",
              "  <svg xmlns=\"http://www.w3.org/2000/svg\" height=\"24px\"viewBox=\"0 0 24 24\"\n",
              "       width=\"24px\">\n",
              "    <path d=\"M0 0h24v24H0V0z\" fill=\"none\"/>\n",
              "    <path d=\"M18.56 5.44l.94 2.06.94-2.06 2.06-.94-2.06-.94-.94-2.06-.94 2.06-2.06.94zm-11 1L8.5 8.5l.94-2.06 2.06-.94-2.06-.94L8.5 2.5l-.94 2.06-2.06.94zm10 10l.94 2.06.94-2.06 2.06-.94-2.06-.94-.94-2.06-.94 2.06-2.06.94z\"/><path d=\"M17.41 7.96l-1.37-1.37c-.4-.4-.92-.59-1.43-.59-.52 0-1.04.2-1.43.59L10.3 9.45l-7.72 7.72c-.78.78-.78 2.05 0 2.83L4 21.41c.39.39.9.59 1.41.59.51 0 1.02-.2 1.41-.59l7.78-7.78 2.81-2.81c.8-.78.8-2.07 0-2.86zM5.41 20L4 18.59l7.72-7.72 1.47 1.35L5.41 20z\"/>\n",
              "  </svg>\n",
              "      </button>\n",
              "      \n",
              "  <style>\n",
              "    .colab-df-container {\n",
              "      display:flex;\n",
              "      flex-wrap:wrap;\n",
              "      gap: 12px;\n",
              "    }\n",
              "\n",
              "    .colab-df-convert {\n",
              "      background-color: #E8F0FE;\n",
              "      border: none;\n",
              "      border-radius: 50%;\n",
              "      cursor: pointer;\n",
              "      display: none;\n",
              "      fill: #1967D2;\n",
              "      height: 32px;\n",
              "      padding: 0 0 0 0;\n",
              "      width: 32px;\n",
              "    }\n",
              "\n",
              "    .colab-df-convert:hover {\n",
              "      background-color: #E2EBFA;\n",
              "      box-shadow: 0px 1px 2px rgba(60, 64, 67, 0.3), 0px 1px 3px 1px rgba(60, 64, 67, 0.15);\n",
              "      fill: #174EA6;\n",
              "    }\n",
              "\n",
              "    [theme=dark] .colab-df-convert {\n",
              "      background-color: #3B4455;\n",
              "      fill: #D2E3FC;\n",
              "    }\n",
              "\n",
              "    [theme=dark] .colab-df-convert:hover {\n",
              "      background-color: #434B5C;\n",
              "      box-shadow: 0px 1px 3px 1px rgba(0, 0, 0, 0.15);\n",
              "      filter: drop-shadow(0px 1px 2px rgba(0, 0, 0, 0.3));\n",
              "      fill: #FFFFFF;\n",
              "    }\n",
              "  </style>\n",
              "\n",
              "      <script>\n",
              "        const buttonEl =\n",
              "          document.querySelector('#df-79e03a6d-fe89-4b61-9f5a-155014297c28 button.colab-df-convert');\n",
              "        buttonEl.style.display =\n",
              "          google.colab.kernel.accessAllowed ? 'block' : 'none';\n",
              "\n",
              "        async function convertToInteractive(key) {\n",
              "          const element = document.querySelector('#df-79e03a6d-fe89-4b61-9f5a-155014297c28');\n",
              "          const dataTable =\n",
              "            await google.colab.kernel.invokeFunction('convertToInteractive',\n",
              "                                                     [key], {});\n",
              "          if (!dataTable) return;\n",
              "\n",
              "          const docLinkHtml = 'Like what you see? Visit the ' +\n",
              "            '<a target=\"_blank\" href=https://colab.research.google.com/notebooks/data_table.ipynb>data table notebook</a>'\n",
              "            + ' to learn more about interactive tables.';\n",
              "          element.innerHTML = '';\n",
              "          dataTable['output_type'] = 'display_data';\n",
              "          await google.colab.output.renderOutput(dataTable, element);\n",
              "          const docLink = document.createElement('div');\n",
              "          docLink.innerHTML = docLinkHtml;\n",
              "          element.appendChild(docLink);\n",
              "        }\n",
              "      </script>\n",
              "    </div>\n",
              "  </div>\n",
              "  "
            ]
          },
          "metadata": {},
          "execution_count": 44
        }
      ]
    },
    {
      "cell_type": "code",
      "source": [
        "def get_sec_arrival(time_str):\n",
        "    lst = list(str(time_str).split(' '))\n",
        "    lst2 = lst[0].split(':')\n",
        "    if(len(lst2)==2):\n",
        "      return int(lst2[0])*3600+int(lst2[1])*60\n",
        "    else:\n",
        "      return int(lst2[0])*3600"
      ],
      "metadata": {
        "id": "dvZNB_46tvL4"
      },
      "execution_count": null,
      "outputs": []
    },
    {
      "cell_type": "code",
      "source": [
        "for i in range(len(data['Arrival_Time'])):\n",
        "  data['Arrival_Time'][i]=get_sec_arrival(data['Arrival_Time'].values[i])"
      ],
      "metadata": {
        "id": "lTd96w-WvY4U"
      },
      "execution_count": null,
      "outputs": []
    },
    {
      "cell_type": "code",
      "source": [
        "data"
      ],
      "metadata": {
        "colab": {
          "base_uri": "https://localhost:8080/",
          "height": 423
        },
        "id": "Qbdnm5orwWyh",
        "outputId": "97ce263c-db07-498f-ebf6-a3805d6cba89"
      },
      "execution_count": null,
      "outputs": [
        {
          "output_type": "execute_result",
          "data": {
            "text/plain": [
              "       Airline Date_of_Journey  Source  Destination Dep_Time Arrival_Time  \\\n",
              "0            3    1553385600.0       0            5    80400         4200   \n",
              "1            1    1556668800.0       3            0    21000        47700   \n",
              "2            4    1560038400.0       2            1    33900        15900   \n",
              "3            3    1557619200.0       3            0    65100        84600   \n",
              "4            3    1551398400.0       0            5    60600        77700   \n",
              "...        ...             ...     ...          ...      ...          ...   \n",
              "10677        0    1554768000.0       3            0    71700        80700   \n",
              "10678        1    1556323200.0       3            0    74700        84000   \n",
              "10679        4    1556323200.0       0            2    30000        40800   \n",
              "10680       10    1551398400.0       0            5    41400        51000   \n",
              "10681        1    1557360000.0       2            1    39300        69300   \n",
              "\n",
              "      Duration Total_Stops Additional_Info  Price  \n",
              "0       2h 50m           0               7   3897  \n",
              "1       7h 25m           2               7   7662  \n",
              "2          19h           2               7  13882  \n",
              "3       5h 25m           1               7   6218  \n",
              "4       4h 45m           1               7  13302  \n",
              "...        ...         ...             ...    ...  \n",
              "10677   2h 30m           0               7   4107  \n",
              "10678   2h 35m           0               7   4145  \n",
              "10679       3h           0               7   7229  \n",
              "10680   2h 40m           0               7  12648  \n",
              "10681   8h 20m           2               7  11753  \n",
              "\n",
              "[10682 rows x 10 columns]"
            ],
            "text/html": [
              "\n",
              "  <div id=\"df-22d8e8af-a352-4aee-ae11-19cbe676c05a\">\n",
              "    <div class=\"colab-df-container\">\n",
              "      <div>\n",
              "<style scoped>\n",
              "    .dataframe tbody tr th:only-of-type {\n",
              "        vertical-align: middle;\n",
              "    }\n",
              "\n",
              "    .dataframe tbody tr th {\n",
              "        vertical-align: top;\n",
              "    }\n",
              "\n",
              "    .dataframe thead th {\n",
              "        text-align: right;\n",
              "    }\n",
              "</style>\n",
              "<table border=\"1\" class=\"dataframe\">\n",
              "  <thead>\n",
              "    <tr style=\"text-align: right;\">\n",
              "      <th></th>\n",
              "      <th>Airline</th>\n",
              "      <th>Date_of_Journey</th>\n",
              "      <th>Source</th>\n",
              "      <th>Destination</th>\n",
              "      <th>Dep_Time</th>\n",
              "      <th>Arrival_Time</th>\n",
              "      <th>Duration</th>\n",
              "      <th>Total_Stops</th>\n",
              "      <th>Additional_Info</th>\n",
              "      <th>Price</th>\n",
              "    </tr>\n",
              "  </thead>\n",
              "  <tbody>\n",
              "    <tr>\n",
              "      <th>0</th>\n",
              "      <td>3</td>\n",
              "      <td>1553385600.0</td>\n",
              "      <td>0</td>\n",
              "      <td>5</td>\n",
              "      <td>80400</td>\n",
              "      <td>4200</td>\n",
              "      <td>2h 50m</td>\n",
              "      <td>0</td>\n",
              "      <td>7</td>\n",
              "      <td>3897</td>\n",
              "    </tr>\n",
              "    <tr>\n",
              "      <th>1</th>\n",
              "      <td>1</td>\n",
              "      <td>1556668800.0</td>\n",
              "      <td>3</td>\n",
              "      <td>0</td>\n",
              "      <td>21000</td>\n",
              "      <td>47700</td>\n",
              "      <td>7h 25m</td>\n",
              "      <td>2</td>\n",
              "      <td>7</td>\n",
              "      <td>7662</td>\n",
              "    </tr>\n",
              "    <tr>\n",
              "      <th>2</th>\n",
              "      <td>4</td>\n",
              "      <td>1560038400.0</td>\n",
              "      <td>2</td>\n",
              "      <td>1</td>\n",
              "      <td>33900</td>\n",
              "      <td>15900</td>\n",
              "      <td>19h</td>\n",
              "      <td>2</td>\n",
              "      <td>7</td>\n",
              "      <td>13882</td>\n",
              "    </tr>\n",
              "    <tr>\n",
              "      <th>3</th>\n",
              "      <td>3</td>\n",
              "      <td>1557619200.0</td>\n",
              "      <td>3</td>\n",
              "      <td>0</td>\n",
              "      <td>65100</td>\n",
              "      <td>84600</td>\n",
              "      <td>5h 25m</td>\n",
              "      <td>1</td>\n",
              "      <td>7</td>\n",
              "      <td>6218</td>\n",
              "    </tr>\n",
              "    <tr>\n",
              "      <th>4</th>\n",
              "      <td>3</td>\n",
              "      <td>1551398400.0</td>\n",
              "      <td>0</td>\n",
              "      <td>5</td>\n",
              "      <td>60600</td>\n",
              "      <td>77700</td>\n",
              "      <td>4h 45m</td>\n",
              "      <td>1</td>\n",
              "      <td>7</td>\n",
              "      <td>13302</td>\n",
              "    </tr>\n",
              "    <tr>\n",
              "      <th>...</th>\n",
              "      <td>...</td>\n",
              "      <td>...</td>\n",
              "      <td>...</td>\n",
              "      <td>...</td>\n",
              "      <td>...</td>\n",
              "      <td>...</td>\n",
              "      <td>...</td>\n",
              "      <td>...</td>\n",
              "      <td>...</td>\n",
              "      <td>...</td>\n",
              "    </tr>\n",
              "    <tr>\n",
              "      <th>10677</th>\n",
              "      <td>0</td>\n",
              "      <td>1554768000.0</td>\n",
              "      <td>3</td>\n",
              "      <td>0</td>\n",
              "      <td>71700</td>\n",
              "      <td>80700</td>\n",
              "      <td>2h 30m</td>\n",
              "      <td>0</td>\n",
              "      <td>7</td>\n",
              "      <td>4107</td>\n",
              "    </tr>\n",
              "    <tr>\n",
              "      <th>10678</th>\n",
              "      <td>1</td>\n",
              "      <td>1556323200.0</td>\n",
              "      <td>3</td>\n",
              "      <td>0</td>\n",
              "      <td>74700</td>\n",
              "      <td>84000</td>\n",
              "      <td>2h 35m</td>\n",
              "      <td>0</td>\n",
              "      <td>7</td>\n",
              "      <td>4145</td>\n",
              "    </tr>\n",
              "    <tr>\n",
              "      <th>10679</th>\n",
              "      <td>4</td>\n",
              "      <td>1556323200.0</td>\n",
              "      <td>0</td>\n",
              "      <td>2</td>\n",
              "      <td>30000</td>\n",
              "      <td>40800</td>\n",
              "      <td>3h</td>\n",
              "      <td>0</td>\n",
              "      <td>7</td>\n",
              "      <td>7229</td>\n",
              "    </tr>\n",
              "    <tr>\n",
              "      <th>10680</th>\n",
              "      <td>10</td>\n",
              "      <td>1551398400.0</td>\n",
              "      <td>0</td>\n",
              "      <td>5</td>\n",
              "      <td>41400</td>\n",
              "      <td>51000</td>\n",
              "      <td>2h 40m</td>\n",
              "      <td>0</td>\n",
              "      <td>7</td>\n",
              "      <td>12648</td>\n",
              "    </tr>\n",
              "    <tr>\n",
              "      <th>10681</th>\n",
              "      <td>1</td>\n",
              "      <td>1557360000.0</td>\n",
              "      <td>2</td>\n",
              "      <td>1</td>\n",
              "      <td>39300</td>\n",
              "      <td>69300</td>\n",
              "      <td>8h 20m</td>\n",
              "      <td>2</td>\n",
              "      <td>7</td>\n",
              "      <td>11753</td>\n",
              "    </tr>\n",
              "  </tbody>\n",
              "</table>\n",
              "<p>10682 rows × 10 columns</p>\n",
              "</div>\n",
              "      <button class=\"colab-df-convert\" onclick=\"convertToInteractive('df-22d8e8af-a352-4aee-ae11-19cbe676c05a')\"\n",
              "              title=\"Convert this dataframe to an interactive table.\"\n",
              "              style=\"display:none;\">\n",
              "        \n",
              "  <svg xmlns=\"http://www.w3.org/2000/svg\" height=\"24px\"viewBox=\"0 0 24 24\"\n",
              "       width=\"24px\">\n",
              "    <path d=\"M0 0h24v24H0V0z\" fill=\"none\"/>\n",
              "    <path d=\"M18.56 5.44l.94 2.06.94-2.06 2.06-.94-2.06-.94-.94-2.06-.94 2.06-2.06.94zm-11 1L8.5 8.5l.94-2.06 2.06-.94-2.06-.94L8.5 2.5l-.94 2.06-2.06.94zm10 10l.94 2.06.94-2.06 2.06-.94-2.06-.94-.94-2.06-.94 2.06-2.06.94z\"/><path d=\"M17.41 7.96l-1.37-1.37c-.4-.4-.92-.59-1.43-.59-.52 0-1.04.2-1.43.59L10.3 9.45l-7.72 7.72c-.78.78-.78 2.05 0 2.83L4 21.41c.39.39.9.59 1.41.59.51 0 1.02-.2 1.41-.59l7.78-7.78 2.81-2.81c.8-.78.8-2.07 0-2.86zM5.41 20L4 18.59l7.72-7.72 1.47 1.35L5.41 20z\"/>\n",
              "  </svg>\n",
              "      </button>\n",
              "      \n",
              "  <style>\n",
              "    .colab-df-container {\n",
              "      display:flex;\n",
              "      flex-wrap:wrap;\n",
              "      gap: 12px;\n",
              "    }\n",
              "\n",
              "    .colab-df-convert {\n",
              "      background-color: #E8F0FE;\n",
              "      border: none;\n",
              "      border-radius: 50%;\n",
              "      cursor: pointer;\n",
              "      display: none;\n",
              "      fill: #1967D2;\n",
              "      height: 32px;\n",
              "      padding: 0 0 0 0;\n",
              "      width: 32px;\n",
              "    }\n",
              "\n",
              "    .colab-df-convert:hover {\n",
              "      background-color: #E2EBFA;\n",
              "      box-shadow: 0px 1px 2px rgba(60, 64, 67, 0.3), 0px 1px 3px 1px rgba(60, 64, 67, 0.15);\n",
              "      fill: #174EA6;\n",
              "    }\n",
              "\n",
              "    [theme=dark] .colab-df-convert {\n",
              "      background-color: #3B4455;\n",
              "      fill: #D2E3FC;\n",
              "    }\n",
              "\n",
              "    [theme=dark] .colab-df-convert:hover {\n",
              "      background-color: #434B5C;\n",
              "      box-shadow: 0px 1px 3px 1px rgba(0, 0, 0, 0.15);\n",
              "      filter: drop-shadow(0px 1px 2px rgba(0, 0, 0, 0.3));\n",
              "      fill: #FFFFFF;\n",
              "    }\n",
              "  </style>\n",
              "\n",
              "      <script>\n",
              "        const buttonEl =\n",
              "          document.querySelector('#df-22d8e8af-a352-4aee-ae11-19cbe676c05a button.colab-df-convert');\n",
              "        buttonEl.style.display =\n",
              "          google.colab.kernel.accessAllowed ? 'block' : 'none';\n",
              "\n",
              "        async function convertToInteractive(key) {\n",
              "          const element = document.querySelector('#df-22d8e8af-a352-4aee-ae11-19cbe676c05a');\n",
              "          const dataTable =\n",
              "            await google.colab.kernel.invokeFunction('convertToInteractive',\n",
              "                                                     [key], {});\n",
              "          if (!dataTable) return;\n",
              "\n",
              "          const docLinkHtml = 'Like what you see? Visit the ' +\n",
              "            '<a target=\"_blank\" href=https://colab.research.google.com/notebooks/data_table.ipynb>data table notebook</a>'\n",
              "            + ' to learn more about interactive tables.';\n",
              "          element.innerHTML = '';\n",
              "          dataTable['output_type'] = 'display_data';\n",
              "          await google.colab.output.renderOutput(dataTable, element);\n",
              "          const docLink = document.createElement('div');\n",
              "          docLink.innerHTML = docLinkHtml;\n",
              "          element.appendChild(docLink);\n",
              "        }\n",
              "      </script>\n",
              "    </div>\n",
              "  </div>\n",
              "  "
            ]
          },
          "metadata": {},
          "execution_count": 47
        }
      ]
    },
    {
      "cell_type": "code",
      "source": [
        "def get_sec_duration(time_str):\n",
        "    lst = list(str(time_str).split(' '))\n",
        "    if(len(lst)==1):\n",
        "      return int(lst[0][:-1])*3600 \n",
        "    else:\n",
        "      return int(lst[0][:-1])*3600 + int(lst[1][:-1])*60"
      ],
      "metadata": {
        "id": "zETrEJCu7Uy_"
      },
      "execution_count": null,
      "outputs": []
    },
    {
      "cell_type": "code",
      "source": [
        "for i in range(len(data['Duration'])):\n",
        "  data['Duration'][i]=get_sec_duration(data['Duration'].values[i])"
      ],
      "metadata": {
        "id": "AUFdSQM87mSr"
      },
      "execution_count": null,
      "outputs": []
    },
    {
      "cell_type": "code",
      "source": [
        "data"
      ],
      "metadata": {
        "colab": {
          "base_uri": "https://localhost:8080/",
          "height": 423
        },
        "id": "pBRM-YEH7qAc",
        "outputId": "3176b245-4b39-404a-a908-ee3edfab94cc"
      },
      "execution_count": null,
      "outputs": [
        {
          "output_type": "execute_result",
          "data": {
            "text/plain": [
              "       Airline Date_of_Journey  Source  Destination Dep_Time Arrival_Time  \\\n",
              "0            3    1553385600.0       0            5    80400         4200   \n",
              "1            1    1556668800.0       3            0    21000        47700   \n",
              "2            4    1560038400.0       2            1    33900        15900   \n",
              "3            3    1557619200.0       3            0    65100        84600   \n",
              "4            3    1551398400.0       0            5    60600        77700   \n",
              "...        ...             ...     ...          ...      ...          ...   \n",
              "10677        0    1554768000.0       3            0    71700        80700   \n",
              "10678        1    1556323200.0       3            0    74700        84000   \n",
              "10679        4    1556323200.0       0            2    30000        40800   \n",
              "10680       10    1551398400.0       0            5    41400        51000   \n",
              "10681        1    1557360000.0       2            1    39300        69300   \n",
              "\n",
              "      Duration Total_Stops Additional_Info  Price  \n",
              "0        10200           0               7   3897  \n",
              "1        26700           2               7   7662  \n",
              "2        68400           2               7  13882  \n",
              "3        19500           1               7   6218  \n",
              "4        17100           1               7  13302  \n",
              "...        ...         ...             ...    ...  \n",
              "10677     9000           0               7   4107  \n",
              "10678     9300           0               7   4145  \n",
              "10679    10800           0               7   7229  \n",
              "10680     9600           0               7  12648  \n",
              "10681    30000           2               7  11753  \n",
              "\n",
              "[10682 rows x 10 columns]"
            ],
            "text/html": [
              "\n",
              "  <div id=\"df-e127708b-b6ff-4196-934d-9a56d208730d\">\n",
              "    <div class=\"colab-df-container\">\n",
              "      <div>\n",
              "<style scoped>\n",
              "    .dataframe tbody tr th:only-of-type {\n",
              "        vertical-align: middle;\n",
              "    }\n",
              "\n",
              "    .dataframe tbody tr th {\n",
              "        vertical-align: top;\n",
              "    }\n",
              "\n",
              "    .dataframe thead th {\n",
              "        text-align: right;\n",
              "    }\n",
              "</style>\n",
              "<table border=\"1\" class=\"dataframe\">\n",
              "  <thead>\n",
              "    <tr style=\"text-align: right;\">\n",
              "      <th></th>\n",
              "      <th>Airline</th>\n",
              "      <th>Date_of_Journey</th>\n",
              "      <th>Source</th>\n",
              "      <th>Destination</th>\n",
              "      <th>Dep_Time</th>\n",
              "      <th>Arrival_Time</th>\n",
              "      <th>Duration</th>\n",
              "      <th>Total_Stops</th>\n",
              "      <th>Additional_Info</th>\n",
              "      <th>Price</th>\n",
              "    </tr>\n",
              "  </thead>\n",
              "  <tbody>\n",
              "    <tr>\n",
              "      <th>0</th>\n",
              "      <td>3</td>\n",
              "      <td>1553385600.0</td>\n",
              "      <td>0</td>\n",
              "      <td>5</td>\n",
              "      <td>80400</td>\n",
              "      <td>4200</td>\n",
              "      <td>10200</td>\n",
              "      <td>0</td>\n",
              "      <td>7</td>\n",
              "      <td>3897</td>\n",
              "    </tr>\n",
              "    <tr>\n",
              "      <th>1</th>\n",
              "      <td>1</td>\n",
              "      <td>1556668800.0</td>\n",
              "      <td>3</td>\n",
              "      <td>0</td>\n",
              "      <td>21000</td>\n",
              "      <td>47700</td>\n",
              "      <td>26700</td>\n",
              "      <td>2</td>\n",
              "      <td>7</td>\n",
              "      <td>7662</td>\n",
              "    </tr>\n",
              "    <tr>\n",
              "      <th>2</th>\n",
              "      <td>4</td>\n",
              "      <td>1560038400.0</td>\n",
              "      <td>2</td>\n",
              "      <td>1</td>\n",
              "      <td>33900</td>\n",
              "      <td>15900</td>\n",
              "      <td>68400</td>\n",
              "      <td>2</td>\n",
              "      <td>7</td>\n",
              "      <td>13882</td>\n",
              "    </tr>\n",
              "    <tr>\n",
              "      <th>3</th>\n",
              "      <td>3</td>\n",
              "      <td>1557619200.0</td>\n",
              "      <td>3</td>\n",
              "      <td>0</td>\n",
              "      <td>65100</td>\n",
              "      <td>84600</td>\n",
              "      <td>19500</td>\n",
              "      <td>1</td>\n",
              "      <td>7</td>\n",
              "      <td>6218</td>\n",
              "    </tr>\n",
              "    <tr>\n",
              "      <th>4</th>\n",
              "      <td>3</td>\n",
              "      <td>1551398400.0</td>\n",
              "      <td>0</td>\n",
              "      <td>5</td>\n",
              "      <td>60600</td>\n",
              "      <td>77700</td>\n",
              "      <td>17100</td>\n",
              "      <td>1</td>\n",
              "      <td>7</td>\n",
              "      <td>13302</td>\n",
              "    </tr>\n",
              "    <tr>\n",
              "      <th>...</th>\n",
              "      <td>...</td>\n",
              "      <td>...</td>\n",
              "      <td>...</td>\n",
              "      <td>...</td>\n",
              "      <td>...</td>\n",
              "      <td>...</td>\n",
              "      <td>...</td>\n",
              "      <td>...</td>\n",
              "      <td>...</td>\n",
              "      <td>...</td>\n",
              "    </tr>\n",
              "    <tr>\n",
              "      <th>10677</th>\n",
              "      <td>0</td>\n",
              "      <td>1554768000.0</td>\n",
              "      <td>3</td>\n",
              "      <td>0</td>\n",
              "      <td>71700</td>\n",
              "      <td>80700</td>\n",
              "      <td>9000</td>\n",
              "      <td>0</td>\n",
              "      <td>7</td>\n",
              "      <td>4107</td>\n",
              "    </tr>\n",
              "    <tr>\n",
              "      <th>10678</th>\n",
              "      <td>1</td>\n",
              "      <td>1556323200.0</td>\n",
              "      <td>3</td>\n",
              "      <td>0</td>\n",
              "      <td>74700</td>\n",
              "      <td>84000</td>\n",
              "      <td>9300</td>\n",
              "      <td>0</td>\n",
              "      <td>7</td>\n",
              "      <td>4145</td>\n",
              "    </tr>\n",
              "    <tr>\n",
              "      <th>10679</th>\n",
              "      <td>4</td>\n",
              "      <td>1556323200.0</td>\n",
              "      <td>0</td>\n",
              "      <td>2</td>\n",
              "      <td>30000</td>\n",
              "      <td>40800</td>\n",
              "      <td>10800</td>\n",
              "      <td>0</td>\n",
              "      <td>7</td>\n",
              "      <td>7229</td>\n",
              "    </tr>\n",
              "    <tr>\n",
              "      <th>10680</th>\n",
              "      <td>10</td>\n",
              "      <td>1551398400.0</td>\n",
              "      <td>0</td>\n",
              "      <td>5</td>\n",
              "      <td>41400</td>\n",
              "      <td>51000</td>\n",
              "      <td>9600</td>\n",
              "      <td>0</td>\n",
              "      <td>7</td>\n",
              "      <td>12648</td>\n",
              "    </tr>\n",
              "    <tr>\n",
              "      <th>10681</th>\n",
              "      <td>1</td>\n",
              "      <td>1557360000.0</td>\n",
              "      <td>2</td>\n",
              "      <td>1</td>\n",
              "      <td>39300</td>\n",
              "      <td>69300</td>\n",
              "      <td>30000</td>\n",
              "      <td>2</td>\n",
              "      <td>7</td>\n",
              "      <td>11753</td>\n",
              "    </tr>\n",
              "  </tbody>\n",
              "</table>\n",
              "<p>10682 rows × 10 columns</p>\n",
              "</div>\n",
              "      <button class=\"colab-df-convert\" onclick=\"convertToInteractive('df-e127708b-b6ff-4196-934d-9a56d208730d')\"\n",
              "              title=\"Convert this dataframe to an interactive table.\"\n",
              "              style=\"display:none;\">\n",
              "        \n",
              "  <svg xmlns=\"http://www.w3.org/2000/svg\" height=\"24px\"viewBox=\"0 0 24 24\"\n",
              "       width=\"24px\">\n",
              "    <path d=\"M0 0h24v24H0V0z\" fill=\"none\"/>\n",
              "    <path d=\"M18.56 5.44l.94 2.06.94-2.06 2.06-.94-2.06-.94-.94-2.06-.94 2.06-2.06.94zm-11 1L8.5 8.5l.94-2.06 2.06-.94-2.06-.94L8.5 2.5l-.94 2.06-2.06.94zm10 10l.94 2.06.94-2.06 2.06-.94-2.06-.94-.94-2.06-.94 2.06-2.06.94z\"/><path d=\"M17.41 7.96l-1.37-1.37c-.4-.4-.92-.59-1.43-.59-.52 0-1.04.2-1.43.59L10.3 9.45l-7.72 7.72c-.78.78-.78 2.05 0 2.83L4 21.41c.39.39.9.59 1.41.59.51 0 1.02-.2 1.41-.59l7.78-7.78 2.81-2.81c.8-.78.8-2.07 0-2.86zM5.41 20L4 18.59l7.72-7.72 1.47 1.35L5.41 20z\"/>\n",
              "  </svg>\n",
              "      </button>\n",
              "      \n",
              "  <style>\n",
              "    .colab-df-container {\n",
              "      display:flex;\n",
              "      flex-wrap:wrap;\n",
              "      gap: 12px;\n",
              "    }\n",
              "\n",
              "    .colab-df-convert {\n",
              "      background-color: #E8F0FE;\n",
              "      border: none;\n",
              "      border-radius: 50%;\n",
              "      cursor: pointer;\n",
              "      display: none;\n",
              "      fill: #1967D2;\n",
              "      height: 32px;\n",
              "      padding: 0 0 0 0;\n",
              "      width: 32px;\n",
              "    }\n",
              "\n",
              "    .colab-df-convert:hover {\n",
              "      background-color: #E2EBFA;\n",
              "      box-shadow: 0px 1px 2px rgba(60, 64, 67, 0.3), 0px 1px 3px 1px rgba(60, 64, 67, 0.15);\n",
              "      fill: #174EA6;\n",
              "    }\n",
              "\n",
              "    [theme=dark] .colab-df-convert {\n",
              "      background-color: #3B4455;\n",
              "      fill: #D2E3FC;\n",
              "    }\n",
              "\n",
              "    [theme=dark] .colab-df-convert:hover {\n",
              "      background-color: #434B5C;\n",
              "      box-shadow: 0px 1px 3px 1px rgba(0, 0, 0, 0.15);\n",
              "      filter: drop-shadow(0px 1px 2px rgba(0, 0, 0, 0.3));\n",
              "      fill: #FFFFFF;\n",
              "    }\n",
              "  </style>\n",
              "\n",
              "      <script>\n",
              "        const buttonEl =\n",
              "          document.querySelector('#df-e127708b-b6ff-4196-934d-9a56d208730d button.colab-df-convert');\n",
              "        buttonEl.style.display =\n",
              "          google.colab.kernel.accessAllowed ? 'block' : 'none';\n",
              "\n",
              "        async function convertToInteractive(key) {\n",
              "          const element = document.querySelector('#df-e127708b-b6ff-4196-934d-9a56d208730d');\n",
              "          const dataTable =\n",
              "            await google.colab.kernel.invokeFunction('convertToInteractive',\n",
              "                                                     [key], {});\n",
              "          if (!dataTable) return;\n",
              "\n",
              "          const docLinkHtml = 'Like what you see? Visit the ' +\n",
              "            '<a target=\"_blank\" href=https://colab.research.google.com/notebooks/data_table.ipynb>data table notebook</a>'\n",
              "            + ' to learn more about interactive tables.';\n",
              "          element.innerHTML = '';\n",
              "          dataTable['output_type'] = 'display_data';\n",
              "          await google.colab.output.renderOutput(dataTable, element);\n",
              "          const docLink = document.createElement('div');\n",
              "          docLink.innerHTML = docLinkHtml;\n",
              "          element.appendChild(docLink);\n",
              "        }\n",
              "      </script>\n",
              "    </div>\n",
              "  </div>\n",
              "  "
            ]
          },
          "metadata": {},
          "execution_count": 50
        }
      ]
    },
    {
      "cell_type": "markdown",
      "source": [
        "### Min-Max Scaling"
      ],
      "metadata": {
        "id": "_pjZilbE9vQe"
      }
    },
    {
      "cell_type": "code",
      "source": [
        "def min_max_scaler(feature):\n",
        "  max_val=max(list(data[feature]))\n",
        "  min_val=min(list(data[feature]))\n",
        "  for i in range(len(data[feature])):\n",
        "    data[feature][i]=(data[feature].values[i]-min_val)/(max_val-min_val)"
      ],
      "metadata": {
        "id": "6jipeUwc72A1"
      },
      "execution_count": null,
      "outputs": []
    },
    {
      "cell_type": "code",
      "source": [
        "print(min(list(data['Date_of_Journey'])))"
      ],
      "metadata": {
        "colab": {
          "base_uri": "https://localhost:8080/"
        },
        "id": "MY--BzomE7Gt",
        "outputId": "94e94338-eab4-40d5-b576-c1c21be188e1"
      },
      "execution_count": null,
      "outputs": [
        {
          "output_type": "stream",
          "name": "stdout",
          "text": [
            "1551398400.0\n"
          ]
        }
      ]
    },
    {
      "cell_type": "code",
      "source": [
        "max(data['Duration'])"
      ],
      "metadata": {
        "colab": {
          "base_uri": "https://localhost:8080/"
        },
        "id": "wxASyBuTUfTm",
        "outputId": "8cce9d46-a6b0-475f-d5a1-227033818f8e"
      },
      "execution_count": null,
      "outputs": [
        {
          "output_type": "execute_result",
          "data": {
            "text/plain": [
              "171600"
            ]
          },
          "metadata": {},
          "execution_count": 53
        }
      ]
    },
    {
      "cell_type": "code",
      "source": [
        "min(data['Duration'])"
      ],
      "metadata": {
        "colab": {
          "base_uri": "https://localhost:8080/"
        },
        "id": "SttEDcENUhRB",
        "outputId": "e571387f-7070-4dab-d40d-83e00a05ae1c"
      },
      "execution_count": null,
      "outputs": [
        {
          "output_type": "execute_result",
          "data": {
            "text/plain": [
              "4500"
            ]
          },
          "metadata": {},
          "execution_count": 54
        }
      ]
    },
    {
      "cell_type": "code",
      "source": [
        "min_max_scaler('Date_of_Journey')\n",
        "min_max_scaler('Dep_Time')\n",
        "min_max_scaler('Arrival_Time')\n",
        "min_max_scaler('Duration')\n",
        "data"
      ],
      "metadata": {
        "colab": {
          "base_uri": "https://localhost:8080/"
        },
        "id": "-9UzFRBi-LdC",
        "outputId": "9e50fc21-3a76-4855-ec96-6a0d42dcff69"
      },
      "execution_count": null,
      "outputs": [
        {
          "output_type": "execute_result",
          "data": {
            "text/plain": [
              "       Airline Date_of_Journey  Source  Destination  Dep_Time Arrival_Time  \\\n",
              "0            3        0.194915       0            5  0.932862     0.045455   \n",
              "1            1        0.516949       3            0  0.233216     0.552448   \n",
              "2            4        0.847458       2            1  0.385159     0.181818   \n",
              "3            3        0.610169       3            0   0.75265     0.982517   \n",
              "4            3             0.0       0            5  0.699647     0.902098   \n",
              "...        ...             ...     ...          ...       ...          ...   \n",
              "10677        0        0.330508       3            0  0.830389     0.937063   \n",
              "10678        1        0.483051       3            0  0.865724     0.975524   \n",
              "10679        4        0.483051       0            2  0.339223     0.472028   \n",
              "10680       10             0.0       0            5  0.473498     0.590909   \n",
              "10681        1        0.584746       2            1  0.448763     0.804196   \n",
              "\n",
              "       Duration Total_Stops Additional_Info  Price  \n",
              "0      0.034111           0               7   3897  \n",
              "1      0.132855           2               7   7662  \n",
              "2      0.382406           2               7  13882  \n",
              "3      0.089767           1               7   6218  \n",
              "4      0.075404           1               7  13302  \n",
              "...         ...         ...             ...    ...  \n",
              "10677   0.02693           0               7   4107  \n",
              "10678  0.028725           0               7   4145  \n",
              "10679  0.037702           0               7   7229  \n",
              "10680  0.030521           0               7  12648  \n",
              "10681  0.152603           2               7  11753  \n",
              "\n",
              "[10682 rows x 10 columns]"
            ],
            "text/html": [
              "\n",
              "  <div id=\"df-c25b3284-8fef-49fd-aaad-a7464d918e12\">\n",
              "    <div class=\"colab-df-container\">\n",
              "      <div>\n",
              "<style scoped>\n",
              "    .dataframe tbody tr th:only-of-type {\n",
              "        vertical-align: middle;\n",
              "    }\n",
              "\n",
              "    .dataframe tbody tr th {\n",
              "        vertical-align: top;\n",
              "    }\n",
              "\n",
              "    .dataframe thead th {\n",
              "        text-align: right;\n",
              "    }\n",
              "</style>\n",
              "<table border=\"1\" class=\"dataframe\">\n",
              "  <thead>\n",
              "    <tr style=\"text-align: right;\">\n",
              "      <th></th>\n",
              "      <th>Airline</th>\n",
              "      <th>Date_of_Journey</th>\n",
              "      <th>Source</th>\n",
              "      <th>Destination</th>\n",
              "      <th>Dep_Time</th>\n",
              "      <th>Arrival_Time</th>\n",
              "      <th>Duration</th>\n",
              "      <th>Total_Stops</th>\n",
              "      <th>Additional_Info</th>\n",
              "      <th>Price</th>\n",
              "    </tr>\n",
              "  </thead>\n",
              "  <tbody>\n",
              "    <tr>\n",
              "      <th>0</th>\n",
              "      <td>3</td>\n",
              "      <td>0.194915</td>\n",
              "      <td>0</td>\n",
              "      <td>5</td>\n",
              "      <td>0.932862</td>\n",
              "      <td>0.045455</td>\n",
              "      <td>0.034111</td>\n",
              "      <td>0</td>\n",
              "      <td>7</td>\n",
              "      <td>3897</td>\n",
              "    </tr>\n",
              "    <tr>\n",
              "      <th>1</th>\n",
              "      <td>1</td>\n",
              "      <td>0.516949</td>\n",
              "      <td>3</td>\n",
              "      <td>0</td>\n",
              "      <td>0.233216</td>\n",
              "      <td>0.552448</td>\n",
              "      <td>0.132855</td>\n",
              "      <td>2</td>\n",
              "      <td>7</td>\n",
              "      <td>7662</td>\n",
              "    </tr>\n",
              "    <tr>\n",
              "      <th>2</th>\n",
              "      <td>4</td>\n",
              "      <td>0.847458</td>\n",
              "      <td>2</td>\n",
              "      <td>1</td>\n",
              "      <td>0.385159</td>\n",
              "      <td>0.181818</td>\n",
              "      <td>0.382406</td>\n",
              "      <td>2</td>\n",
              "      <td>7</td>\n",
              "      <td>13882</td>\n",
              "    </tr>\n",
              "    <tr>\n",
              "      <th>3</th>\n",
              "      <td>3</td>\n",
              "      <td>0.610169</td>\n",
              "      <td>3</td>\n",
              "      <td>0</td>\n",
              "      <td>0.75265</td>\n",
              "      <td>0.982517</td>\n",
              "      <td>0.089767</td>\n",
              "      <td>1</td>\n",
              "      <td>7</td>\n",
              "      <td>6218</td>\n",
              "    </tr>\n",
              "    <tr>\n",
              "      <th>4</th>\n",
              "      <td>3</td>\n",
              "      <td>0.0</td>\n",
              "      <td>0</td>\n",
              "      <td>5</td>\n",
              "      <td>0.699647</td>\n",
              "      <td>0.902098</td>\n",
              "      <td>0.075404</td>\n",
              "      <td>1</td>\n",
              "      <td>7</td>\n",
              "      <td>13302</td>\n",
              "    </tr>\n",
              "    <tr>\n",
              "      <th>...</th>\n",
              "      <td>...</td>\n",
              "      <td>...</td>\n",
              "      <td>...</td>\n",
              "      <td>...</td>\n",
              "      <td>...</td>\n",
              "      <td>...</td>\n",
              "      <td>...</td>\n",
              "      <td>...</td>\n",
              "      <td>...</td>\n",
              "      <td>...</td>\n",
              "    </tr>\n",
              "    <tr>\n",
              "      <th>10677</th>\n",
              "      <td>0</td>\n",
              "      <td>0.330508</td>\n",
              "      <td>3</td>\n",
              "      <td>0</td>\n",
              "      <td>0.830389</td>\n",
              "      <td>0.937063</td>\n",
              "      <td>0.02693</td>\n",
              "      <td>0</td>\n",
              "      <td>7</td>\n",
              "      <td>4107</td>\n",
              "    </tr>\n",
              "    <tr>\n",
              "      <th>10678</th>\n",
              "      <td>1</td>\n",
              "      <td>0.483051</td>\n",
              "      <td>3</td>\n",
              "      <td>0</td>\n",
              "      <td>0.865724</td>\n",
              "      <td>0.975524</td>\n",
              "      <td>0.028725</td>\n",
              "      <td>0</td>\n",
              "      <td>7</td>\n",
              "      <td>4145</td>\n",
              "    </tr>\n",
              "    <tr>\n",
              "      <th>10679</th>\n",
              "      <td>4</td>\n",
              "      <td>0.483051</td>\n",
              "      <td>0</td>\n",
              "      <td>2</td>\n",
              "      <td>0.339223</td>\n",
              "      <td>0.472028</td>\n",
              "      <td>0.037702</td>\n",
              "      <td>0</td>\n",
              "      <td>7</td>\n",
              "      <td>7229</td>\n",
              "    </tr>\n",
              "    <tr>\n",
              "      <th>10680</th>\n",
              "      <td>10</td>\n",
              "      <td>0.0</td>\n",
              "      <td>0</td>\n",
              "      <td>5</td>\n",
              "      <td>0.473498</td>\n",
              "      <td>0.590909</td>\n",
              "      <td>0.030521</td>\n",
              "      <td>0</td>\n",
              "      <td>7</td>\n",
              "      <td>12648</td>\n",
              "    </tr>\n",
              "    <tr>\n",
              "      <th>10681</th>\n",
              "      <td>1</td>\n",
              "      <td>0.584746</td>\n",
              "      <td>2</td>\n",
              "      <td>1</td>\n",
              "      <td>0.448763</td>\n",
              "      <td>0.804196</td>\n",
              "      <td>0.152603</td>\n",
              "      <td>2</td>\n",
              "      <td>7</td>\n",
              "      <td>11753</td>\n",
              "    </tr>\n",
              "  </tbody>\n",
              "</table>\n",
              "<p>10682 rows × 10 columns</p>\n",
              "</div>\n",
              "      <button class=\"colab-df-convert\" onclick=\"convertToInteractive('df-c25b3284-8fef-49fd-aaad-a7464d918e12')\"\n",
              "              title=\"Convert this dataframe to an interactive table.\"\n",
              "              style=\"display:none;\">\n",
              "        \n",
              "  <svg xmlns=\"http://www.w3.org/2000/svg\" height=\"24px\"viewBox=\"0 0 24 24\"\n",
              "       width=\"24px\">\n",
              "    <path d=\"M0 0h24v24H0V0z\" fill=\"none\"/>\n",
              "    <path d=\"M18.56 5.44l.94 2.06.94-2.06 2.06-.94-2.06-.94-.94-2.06-.94 2.06-2.06.94zm-11 1L8.5 8.5l.94-2.06 2.06-.94-2.06-.94L8.5 2.5l-.94 2.06-2.06.94zm10 10l.94 2.06.94-2.06 2.06-.94-2.06-.94-.94-2.06-.94 2.06-2.06.94z\"/><path d=\"M17.41 7.96l-1.37-1.37c-.4-.4-.92-.59-1.43-.59-.52 0-1.04.2-1.43.59L10.3 9.45l-7.72 7.72c-.78.78-.78 2.05 0 2.83L4 21.41c.39.39.9.59 1.41.59.51 0 1.02-.2 1.41-.59l7.78-7.78 2.81-2.81c.8-.78.8-2.07 0-2.86zM5.41 20L4 18.59l7.72-7.72 1.47 1.35L5.41 20z\"/>\n",
              "  </svg>\n",
              "      </button>\n",
              "      \n",
              "  <style>\n",
              "    .colab-df-container {\n",
              "      display:flex;\n",
              "      flex-wrap:wrap;\n",
              "      gap: 12px;\n",
              "    }\n",
              "\n",
              "    .colab-df-convert {\n",
              "      background-color: #E8F0FE;\n",
              "      border: none;\n",
              "      border-radius: 50%;\n",
              "      cursor: pointer;\n",
              "      display: none;\n",
              "      fill: #1967D2;\n",
              "      height: 32px;\n",
              "      padding: 0 0 0 0;\n",
              "      width: 32px;\n",
              "    }\n",
              "\n",
              "    .colab-df-convert:hover {\n",
              "      background-color: #E2EBFA;\n",
              "      box-shadow: 0px 1px 2px rgba(60, 64, 67, 0.3), 0px 1px 3px 1px rgba(60, 64, 67, 0.15);\n",
              "      fill: #174EA6;\n",
              "    }\n",
              "\n",
              "    [theme=dark] .colab-df-convert {\n",
              "      background-color: #3B4455;\n",
              "      fill: #D2E3FC;\n",
              "    }\n",
              "\n",
              "    [theme=dark] .colab-df-convert:hover {\n",
              "      background-color: #434B5C;\n",
              "      box-shadow: 0px 1px 3px 1px rgba(0, 0, 0, 0.15);\n",
              "      filter: drop-shadow(0px 1px 2px rgba(0, 0, 0, 0.3));\n",
              "      fill: #FFFFFF;\n",
              "    }\n",
              "  </style>\n",
              "\n",
              "      <script>\n",
              "        const buttonEl =\n",
              "          document.querySelector('#df-c25b3284-8fef-49fd-aaad-a7464d918e12 button.colab-df-convert');\n",
              "        buttonEl.style.display =\n",
              "          google.colab.kernel.accessAllowed ? 'block' : 'none';\n",
              "\n",
              "        async function convertToInteractive(key) {\n",
              "          const element = document.querySelector('#df-c25b3284-8fef-49fd-aaad-a7464d918e12');\n",
              "          const dataTable =\n",
              "            await google.colab.kernel.invokeFunction('convertToInteractive',\n",
              "                                                     [key], {});\n",
              "          if (!dataTable) return;\n",
              "\n",
              "          const docLinkHtml = 'Like what you see? Visit the ' +\n",
              "            '<a target=\"_blank\" href=https://colab.research.google.com/notebooks/data_table.ipynb>data table notebook</a>'\n",
              "            + ' to learn more about interactive tables.';\n",
              "          element.innerHTML = '';\n",
              "          dataTable['output_type'] = 'display_data';\n",
              "          await google.colab.output.renderOutput(dataTable, element);\n",
              "          const docLink = document.createElement('div');\n",
              "          docLink.innerHTML = docLinkHtml;\n",
              "          element.appendChild(docLink);\n",
              "        }\n",
              "      </script>\n",
              "    </div>\n",
              "  </div>\n",
              "  "
            ]
          },
          "metadata": {},
          "execution_count": 55
        }
      ]
    },
    {
      "cell_type": "code",
      "source": [
        "data[\"Date_of_Journey\"] = pd.to_numeric(data[\"Date_of_Journey\"], downcast=\"float\")\n",
        "data[\"Arrival_Time\"] = pd.to_numeric(data[\"Arrival_Time\"], downcast=\"float\")\n",
        "data[\"Duration\"] = pd.to_numeric(data[\"Duration\"], downcast=\"float\")\n",
        "data[\"Total_Stops\"] = pd.to_numeric(data[\"Total_Stops\"], downcast=\"float\")\n",
        "data[\"Additional_Info\"] = pd.to_numeric(data[\"Additional_Info\"], downcast=\"float\")\n",
        "data[\"Dep_Time\"] = pd.to_numeric(data[\"Dep_Time\"], downcast=\"float\")\n"
      ],
      "metadata": {
        "id": "bajV1XvlAHdn"
      },
      "execution_count": null,
      "outputs": []
    },
    {
      "cell_type": "code",
      "source": [
        "data.dtypes"
      ],
      "metadata": {
        "colab": {
          "base_uri": "https://localhost:8080/"
        },
        "id": "Iojg5GKc__H1",
        "outputId": "9d77ae3b-47ef-4938-f205-59fd95981962"
      },
      "execution_count": null,
      "outputs": [
        {
          "output_type": "execute_result",
          "data": {
            "text/plain": [
              "Airline              int64\n",
              "Date_of_Journey    float32\n",
              "Source               int64\n",
              "Destination          int64\n",
              "Dep_Time           float32\n",
              "Arrival_Time       float32\n",
              "Duration           float32\n",
              "Total_Stops        float32\n",
              "Additional_Info    float32\n",
              "Price                int64\n",
              "dtype: object"
            ]
          },
          "metadata": {},
          "execution_count": 57
        }
      ]
    },
    {
      "cell_type": "markdown",
      "source": [
        "## Data Visualisation Continued"
      ],
      "metadata": {
        "id": "HtpbvAsCsdM0"
      }
    },
    {
      "cell_type": "code",
      "source": [
        "plt.figure(figsize = (12, 6))\n",
        "plt.title('Distribution of Departure Time')\n",
        "sns.distplot(data['Dep_Time'],color=current_palette[0])"
      ],
      "metadata": {
        "colab": {
          "base_uri": "https://localhost:8080/"
        },
        "id": "w8keZy1LsguY",
        "outputId": "7a347bdf-bd4b-4715-c99d-5616322bf627"
      },
      "execution_count": null,
      "outputs": [
        {
          "output_type": "execute_result",
          "data": {
            "text/plain": [
              "<matplotlib.axes._subplots.AxesSubplot at 0x7fe8da108090>"
            ]
          },
          "metadata": {},
          "execution_count": 58
        },
        {
          "output_type": "display_data",
          "data": {
            "text/plain": [
              "<Figure size 864x432 with 1 Axes>"
            ],
            "image/png": "[encoded data removed]"
          },
          "metadata": {
            "needs_background": "light"
          }
        }
      ]
    },
    {
      "cell_type": "code",
      "source": [
        "plt.figure(figsize = (12, 6))\n",
        "plt.title('Distribution of Arrival Time')\n",
        "sns.distplot(data['Arrival_Time'],color=current_palette[1])"
      ],
      "metadata": {
        "colab": {
          "base_uri": "https://localhost:8080/"
        },
        "id": "OWCDtV_RtVaW",
        "outputId": "fbf2bd25-31d9-4b2d-a2bb-d1f1d982051e"
      },
      "execution_count": null,
      "outputs": [
        {
          "output_type": "execute_result",
          "data": {
            "text/plain": [
              "<matplotlib.axes._subplots.AxesSubplot at 0x7fe8d9ee19d0>"
            ]
          },
          "metadata": {},
          "execution_count": 59
        },
        {
          "output_type": "display_data",
          "data": {
            "text/plain": [
              "<Figure size 864x432 with 1 Axes>"
            ],
            "image/png": "[encoded data removed]"
          },
          "metadata": {
            "needs_background": "light"
          }
        }
      ]
    },
    {
      "cell_type": "code",
      "source": [
        "plt.figure(figsize = (12, 6))\n",
        "plt.title('Distribution of Duration')\n",
        "sns.distplot(data['Duration'],color=current_palette[2])"
      ],
      "metadata": {
        "colab": {
          "base_uri": "https://localhost:8080/"
        },
        "id": "oA7lbZChvLGf",
        "outputId": "88630c9c-795d-4108-ae5b-791e1d8fcf1a"
      },
      "execution_count": null,
      "outputs": [
        {
          "output_type": "execute_result",
          "data": {
            "text/plain": [
              "<matplotlib.axes._subplots.AxesSubplot at 0x7fe8d9ee1d10>"
            ]
          },
          "metadata": {},
          "execution_count": 60
        },
        {
          "output_type": "display_data",
          "data": {
            "text/plain": [
              "<Figure size 864x432 with 1 Axes>"
            ],
            "image/png": "[encoded data removed]"
          },
          "metadata": {
            "needs_background": "light"
          }
        }
      ]
    },
    {
      "cell_type": "code",
      "source": [
        "plt.figure()\n",
        "plt.subplots(figsize=(16, 8))\n",
        "sns.heatmap(data.corr(), annot=True)"
      ],
      "metadata": {
        "colab": {
          "base_uri": "https://localhost:8080/"
        },
        "id": "NkjJkDzFwCd1",
        "outputId": "4d0a8e82-93cd-4686-bf6e-8a37dd52cd4a"
      },
      "execution_count": null,
      "outputs": [
        {
          "output_type": "execute_result",
          "data": {
            "text/plain": [
              "<matplotlib.axes._subplots.AxesSubplot at 0x7fe8da46c1d0>"
            ]
          },
          "metadata": {},
          "execution_count": 61
        },
        {
          "output_type": "display_data",
          "data": {
            "text/plain": [
              "<Figure size 432x288 with 0 Axes>"
            ]
          },
          "metadata": {}
        },
        {
          "output_type": "display_data",
          "data": {
            "text/plain": [
              "<Figure size 1152x576 with 2 Axes>"
            ],
            "image/png": "[encoded data removed]"
          },
          "metadata": {
            "needs_background": "light"
          }
        }
      ]
    },
    {
      "cell_type": "markdown",
      "metadata": {
        "id": "hhmA92N9_cwm"
      },
      "source": [
        "## Train Test Split"
      ]
    },
    {
      "cell_type": "code",
      "execution_count": null,
      "metadata": {
        "id": "PJWSKu2RkYmx"
      },
      "outputs": [],
      "source": [
        "X=data.drop(['Price'],axis=1)\n",
        "Y=data['Price']"
      ]
    },
    {
      "cell_type": "code",
      "execution_count": null,
      "metadata": {
        "colab": {
          "base_uri": "https://localhost:8080/"
        },
        "id": "qYXeCXsNh-KD",
        "outputId": "38154a69-6ffa-47d5-cfec-ee117bc78326"
      },
      "outputs": [
        {
          "output_type": "execute_result",
          "data": {
            "text/plain": [
              "       Airline  Date_of_Journey  Source  Destination  Dep_Time  Arrival_Time  \\\n",
              "10264        1         0.872881       2            1  0.918728      0.804196   \n",
              "4831         1         0.847458       3            0  0.282686      0.853147   \n",
              "5425         3         0.610169       1            4  0.922261      0.013986   \n",
              "9943         3         0.974576       3            0  0.473498      0.587413   \n",
              "1330         3         0.796610       4            3  0.374558      0.444056   \n",
              "...        ...              ...     ...          ...       ...           ...   \n",
              "8044         3         0.144068       3            0  0.628975      0.741259   \n",
              "3498         4         0.711864       3            0  0.392226      0.601399   \n",
              "3015         4         0.686441       3            0  0.685512      0.192308   \n",
              "4058         4         0.584746       3            0  0.583039      0.192308   \n",
              "2155         6         1.000000       2            1  0.749117      0.059441   \n",
              "\n",
              "       Duration  Total_Stops  Additional_Info  \n",
              "10264  0.430880          2.0              7.0  \n",
              "4831   0.262118          1.0              7.0  \n",
              "5425   0.023339          0.0              7.0  \n",
              "9943   0.028725          0.0              7.0  \n",
              "1330   0.005386          0.0              7.0  \n",
              "...         ...          ...              ...  \n",
              "8044   0.028725          0.0              7.0  \n",
              "3498   0.594255          1.0              6.0  \n",
              "3015   0.235189          1.0              7.0  \n",
              "4058   0.287253          1.0              7.0  \n",
              "2155   0.134650          1.0              7.0  \n",
              "\n",
              "[7477 rows x 9 columns]"
            ],
            "text/html": [
              "\n",
              "  <div id=\"df-f653ee72-41d3-4811-a5ba-cf9c60f48ea9\">\n",
              "    <div class=\"colab-df-container\">\n",
              "      <div>\n",
              "<style scoped>\n",
              "    .dataframe tbody tr th:only-of-type {\n",
              "        vertical-align: middle;\n",
              "    }\n",
              "\n",
              "    .dataframe tbody tr th {\n",
              "        vertical-align: top;\n",
              "    }\n",
              "\n",
              "    .dataframe thead th {\n",
              "        text-align: right;\n",
              "    }\n",
              "</style>\n",
              "<table border=\"1\" class=\"dataframe\">\n",
              "  <thead>\n",
              "    <tr style=\"text-align: right;\">\n",
              "      <th></th>\n",
              "      <th>Airline</th>\n",
              "      <th>Date_of_Journey</th>\n",
              "      <th>Source</th>\n",
              "      <th>Destination</th>\n",
              "      <th>Dep_Time</th>\n",
              "      <th>Arrival_Time</th>\n",
              "      <th>Duration</th>\n",
              "      <th>Total_Stops</th>\n",
              "      <th>Additional_Info</th>\n",
              "    </tr>\n",
              "  </thead>\n",
              "  <tbody>\n",
              "    <tr>\n",
              "      <th>10264</th>\n",
              "      <td>1</td>\n",
              "      <td>0.872881</td>\n",
              "      <td>2</td>\n",
              "      <td>1</td>\n",
              "      <td>0.918728</td>\n",
              "      <td>0.804196</td>\n",
              "      <td>0.430880</td>\n",
              "      <td>2.0</td>\n",
              "      <td>7.0</td>\n",
              "    </tr>\n",
              "    <tr>\n",
              "      <th>4831</th>\n",
              "      <td>1</td>\n",
              "      <td>0.847458</td>\n",
              "      <td>3</td>\n",
              "      <td>0</td>\n",
              "      <td>0.282686</td>\n",
              "      <td>0.853147</td>\n",
              "      <td>0.262118</td>\n",
              "      <td>1.0</td>\n",
              "      <td>7.0</td>\n",
              "    </tr>\n",
              "    <tr>\n",
              "      <th>5425</th>\n",
              "      <td>3</td>\n",
              "      <td>0.610169</td>\n",
              "      <td>1</td>\n",
              "      <td>4</td>\n",
              "      <td>0.922261</td>\n",
              "      <td>0.013986</td>\n",
              "      <td>0.023339</td>\n",
              "      <td>0.0</td>\n",
              "      <td>7.0</td>\n",
              "    </tr>\n",
              "    <tr>\n",
              "      <th>9943</th>\n",
              "      <td>3</td>\n",
              "      <td>0.974576</td>\n",
              "      <td>3</td>\n",
              "      <td>0</td>\n",
              "      <td>0.473498</td>\n",
              "      <td>0.587413</td>\n",
              "      <td>0.028725</td>\n",
              "      <td>0.0</td>\n",
              "      <td>7.0</td>\n",
              "    </tr>\n",
              "    <tr>\n",
              "      <th>1330</th>\n",
              "      <td>3</td>\n",
              "      <td>0.796610</td>\n",
              "      <td>4</td>\n",
              "      <td>3</td>\n",
              "      <td>0.374558</td>\n",
              "      <td>0.444056</td>\n",
              "      <td>0.005386</td>\n",
              "      <td>0.0</td>\n",
              "      <td>7.0</td>\n",
              "    </tr>\n",
              "    <tr>\n",
              "      <th>...</th>\n",
              "      <td>...</td>\n",
              "      <td>...</td>\n",
              "      <td>...</td>\n",
              "      <td>...</td>\n",
              "      <td>...</td>\n",
              "      <td>...</td>\n",
              "      <td>...</td>\n",
              "      <td>...</td>\n",
              "      <td>...</td>\n",
              "    </tr>\n",
              "    <tr>\n",
              "      <th>8044</th>\n",
              "      <td>3</td>\n",
              "      <td>0.144068</td>\n",
              "      <td>3</td>\n",
              "      <td>0</td>\n",
              "      <td>0.628975</td>\n",
              "      <td>0.741259</td>\n",
              "      <td>0.028725</td>\n",
              "      <td>0.0</td>\n",
              "      <td>7.0</td>\n",
              "    </tr>\n",
              "    <tr>\n",
              "      <th>3498</th>\n",
              "      <td>4</td>\n",
              "      <td>0.711864</td>\n",
              "      <td>3</td>\n",
              "      <td>0</td>\n",
              "      <td>0.392226</td>\n",
              "      <td>0.601399</td>\n",
              "      <td>0.594255</td>\n",
              "      <td>1.0</td>\n",
              "      <td>6.0</td>\n",
              "    </tr>\n",
              "    <tr>\n",
              "      <th>3015</th>\n",
              "      <td>4</td>\n",
              "      <td>0.686441</td>\n",
              "      <td>3</td>\n",
              "      <td>0</td>\n",
              "      <td>0.685512</td>\n",
              "      <td>0.192308</td>\n",
              "      <td>0.235189</td>\n",
              "      <td>1.0</td>\n",
              "      <td>7.0</td>\n",
              "    </tr>\n",
              "    <tr>\n",
              "      <th>4058</th>\n",
              "      <td>4</td>\n",
              "      <td>0.584746</td>\n",
              "      <td>3</td>\n",
              "      <td>0</td>\n",
              "      <td>0.583039</td>\n",
              "      <td>0.192308</td>\n",
              "      <td>0.287253</td>\n",
              "      <td>1.0</td>\n",
              "      <td>7.0</td>\n",
              "    </tr>\n",
              "    <tr>\n",
              "      <th>2155</th>\n",
              "      <td>6</td>\n",
              "      <td>1.000000</td>\n",
              "      <td>2</td>\n",
              "      <td>1</td>\n",
              "      <td>0.749117</td>\n",
              "      <td>0.059441</td>\n",
              "      <td>0.134650</td>\n",
              "      <td>1.0</td>\n",
              "      <td>7.0</td>\n",
              "    </tr>\n",
              "  </tbody>\n",
              "</table>\n",
              "<p>7477 rows × 9 columns</p>\n",
              "</div>\n",
              "      <button class=\"colab-df-convert\" onclick=\"convertToInteractive('df-f653ee72-41d3-4811-a5ba-cf9c60f48ea9')\"\n",
              "              title=\"Convert this dataframe to an interactive table.\"\n",
              "              style=\"display:none;\">\n",
              "        \n",
              "  <svg xmlns=\"http://www.w3.org/2000/svg\" height=\"24px\"viewBox=\"0 0 24 24\"\n",
              "       width=\"24px\">\n",
              "    <path d=\"M0 0h24v24H0V0z\" fill=\"none\"/>\n",
              "    <path d=\"M18.56 5.44l.94 2.06.94-2.06 2.06-.94-2.06-.94-.94-2.06-.94 2.06-2.06.94zm-11 1L8.5 8.5l.94-2.06 2.06-.94-2.06-.94L8.5 2.5l-.94 2.06-2.06.94zm10 10l.94 2.06.94-2.06 2.06-.94-2.06-.94-.94-2.06-.94 2.06-2.06.94z\"/><path d=\"M17.41 7.96l-1.37-1.37c-.4-.4-.92-.59-1.43-.59-.52 0-1.04.2-1.43.59L10.3 9.45l-7.72 7.72c-.78.78-.78 2.05 0 2.83L4 21.41c.39.39.9.59 1.41.59.51 0 1.02-.2 1.41-.59l7.78-7.78 2.81-2.81c.8-.78.8-2.07 0-2.86zM5.41 20L4 18.59l7.72-7.72 1.47 1.35L5.41 20z\"/>\n",
              "  </svg>\n",
              "      </button>\n",
              "      \n",
              "  <style>\n",
              "    .colab-df-container {\n",
              "      display:flex;\n",
              "      flex-wrap:wrap;\n",
              "      gap: 12px;\n",
              "    }\n",
              "\n",
              "    .colab-df-convert {\n",
              "      background-color: #E8F0FE;\n",
              "      border: none;\n",
              "      border-radius: 50%;\n",
              "      cursor: pointer;\n",
              "      display: none;\n",
              "      fill: #1967D2;\n",
              "      height: 32px;\n",
              "      padding: 0 0 0 0;\n",
              "      width: 32px;\n",
              "    }\n",
              "\n",
              "    .colab-df-convert:hover {\n",
              "      background-color: #E2EBFA;\n",
              "      box-shadow: 0px 1px 2px rgba(60, 64, 67, 0.3), 0px 1px 3px 1px rgba(60, 64, 67, 0.15);\n",
              "      fill: #174EA6;\n",
              "    }\n",
              "\n",
              "    [theme=dark] .colab-df-convert {\n",
              "      background-color: #3B4455;\n",
              "      fill: #D2E3FC;\n",
              "    }\n",
              "\n",
              "    [theme=dark] .colab-df-convert:hover {\n",
              "      background-color: #434B5C;\n",
              "      box-shadow: 0px 1px 3px 1px rgba(0, 0, 0, 0.15);\n",
              "      filter: drop-shadow(0px 1px 2px rgba(0, 0, 0, 0.3));\n",
              "      fill: #FFFFFF;\n",
              "    }\n",
              "  </style>\n",
              "\n",
              "      <script>\n",
              "        const buttonEl =\n",
              "          document.querySelector('#df-f653ee72-41d3-4811-a5ba-cf9c60f48ea9 button.colab-df-convert');\n",
              "        buttonEl.style.display =\n",
              "          google.colab.kernel.accessAllowed ? 'block' : 'none';\n",
              "\n",
              "        async function convertToInteractive(key) {\n",
              "          const element = document.querySelector('#df-f653ee72-41d3-4811-a5ba-cf9c60f48ea9');\n",
              "          const dataTable =\n",
              "            await google.colab.kernel.invokeFunction('convertToInteractive',\n",
              "                                                     [key], {});\n",
              "          if (!dataTable) return;\n",
              "\n",
              "          const docLinkHtml = 'Like what you see? Visit the ' +\n",
              "            '<a target=\"_blank\" href=https://colab.research.google.com/notebooks/data_table.ipynb>data table notebook</a>'\n",
              "            + ' to learn more about interactive tables.';\n",
              "          element.innerHTML = '';\n",
              "          dataTable['output_type'] = 'display_data';\n",
              "          await google.colab.output.renderOutput(dataTable, element);\n",
              "          const docLink = document.createElement('div');\n",
              "          docLink.innerHTML = docLinkHtml;\n",
              "          element.appendChild(docLink);\n",
              "        }\n",
              "      </script>\n",
              "    </div>\n",
              "  </div>\n",
              "  "
            ]
          },
          "metadata": {},
          "execution_count": 63
        }
      ],
      "source": [
        "from sklearn.model_selection import train_test_split as tts\n",
        "x_train,x_test,y_train,y_test=tts(X,Y,train_size=0.7)\n",
        "\n",
        "\n",
        "x_train"
      ]
    },
    {
      "cell_type": "code",
      "execution_count": null,
      "metadata": {
        "colab": {
          "base_uri": "https://localhost:8080/"
        },
        "id": "E1EdKG5k_qpu",
        "outputId": "a44a35b8-ca84-4b18-bfbb-c5cca8d8ac5e"
      },
      "outputs": [
        {
          "output_type": "execute_result",
          "data": {
            "text/plain": [
              "10264    10231\n",
              "4831     10413\n",
              "5425      5277\n",
              "9943      4804\n",
              "1330      4049\n",
              "         ...  \n",
              "8044      4462\n",
              "3498     10703\n",
              "3015     14388\n",
              "4058     13941\n",
              "2155      7198\n",
              "Name: Price, Length: 7477, dtype: int64"
            ]
          },
          "metadata": {},
          "execution_count": 64
        }
      ],
      "source": [
        "y_train"
      ]
    },
    {
      "cell_type": "code",
      "execution_count": null,
      "metadata": {
        "colab": {
          "base_uri": "https://localhost:8080/"
        },
        "id": "pj-eOlyC_t3B",
        "outputId": "c7640bc4-ef67-44ee-d82a-d81a81ea383b"
      },
      "outputs": [
        {
          "output_type": "execute_result",
          "data": {
            "text/plain": [
              "       Airline  Date_of_Journey  Source  Destination  Dep_Time  Arrival_Time  \\\n",
              "166          1         0.016949       4            3  0.575972      0.643357   \n",
              "10196        3         0.584746       4            3  0.494700      0.562937   \n",
              "8287         4         0.516949       2            1  0.219081      0.181818   \n",
              "520          3         0.016949       2            1  0.194346      0.891608   \n",
              "7241         3         0.584746       0            2  0.346290      0.472028   \n",
              "...        ...              ...     ...          ...       ...           ...   \n",
              "6426         3         0.661017       0            2  0.766784      0.891608   \n",
              "505          1         0.737288       4            3  0.879859      0.937063   \n",
              "3070         4         0.737288       2            1  0.798587      0.524476   \n",
              "10245        6         0.779661       2            1  0.286219      0.877622   \n",
              "3830         4         0.686441       2            1  0.219081      0.524476   \n",
              "\n",
              "       Duration  Total_Stops  Additional_Info  \n",
              "166    0.005386          0.0              7.0  \n",
              "10196  0.005386          0.0              7.0  \n",
              "8287   0.466786          2.0              7.0  \n",
              "520    0.326750          2.0              7.0  \n",
              "7241   0.034111          0.0              7.0  \n",
              "...         ...          ...              ...  \n",
              "6426   0.035907          0.0              7.0  \n",
              "505    0.001795          0.0              7.0  \n",
              "3070   0.348294          2.0              7.0  \n",
              "10245  0.272890          1.0              6.0  \n",
              "3830   0.125673          2.0              7.0  \n",
              "\n",
              "[3205 rows x 9 columns]"
            ],
            "text/html": [
              "\n",
              "  <div id=\"df-f70af5b2-45b3-4c36-8e19-e5762e18f505\">\n",
              "    <div class=\"colab-df-container\">\n",
              "      <div>\n",
              "<style scoped>\n",
              "    .dataframe tbody tr th:only-of-type {\n",
              "        vertical-align: middle;\n",
              "    }\n",
              "\n",
              "    .dataframe tbody tr th {\n",
              "        vertical-align: top;\n",
              "    }\n",
              "\n",
              "    .dataframe thead th {\n",
              "        text-align: right;\n",
              "    }\n",
              "</style>\n",
              "<table border=\"1\" class=\"dataframe\">\n",
              "  <thead>\n",
              "    <tr style=\"text-align: right;\">\n",
              "      <th></th>\n",
              "      <th>Airline</th>\n",
              "      <th>Date_of_Journey</th>\n",
              "      <th>Source</th>\n",
              "      <th>Destination</th>\n",
              "      <th>Dep_Time</th>\n",
              "      <th>Arrival_Time</th>\n",
              "      <th>Duration</th>\n",
              "      <th>Total_Stops</th>\n",
              "      <th>Additional_Info</th>\n",
              "    </tr>\n",
              "  </thead>\n",
              "  <tbody>\n",
              "    <tr>\n",
              "      <th>166</th>\n",
              "      <td>1</td>\n",
              "      <td>0.016949</td>\n",
              "      <td>4</td>\n",
              "      <td>3</td>\n",
              "      <td>0.575972</td>\n",
              "      <td>0.643357</td>\n",
              "      <td>0.005386</td>\n",
              "      <td>0.0</td>\n",
              "      <td>7.0</td>\n",
              "    </tr>\n",
              "    <tr>\n",
              "      <th>10196</th>\n",
              "      <td>3</td>\n",
              "      <td>0.584746</td>\n",
              "      <td>4</td>\n",
              "      <td>3</td>\n",
              "      <td>0.494700</td>\n",
              "      <td>0.562937</td>\n",
              "      <td>0.005386</td>\n",
              "      <td>0.0</td>\n",
              "      <td>7.0</td>\n",
              "    </tr>\n",
              "    <tr>\n",
              "      <th>8287</th>\n",
              "      <td>4</td>\n",
              "      <td>0.516949</td>\n",
              "      <td>2</td>\n",
              "      <td>1</td>\n",
              "      <td>0.219081</td>\n",
              "      <td>0.181818</td>\n",
              "      <td>0.466786</td>\n",
              "      <td>2.0</td>\n",
              "      <td>7.0</td>\n",
              "    </tr>\n",
              "    <tr>\n",
              "      <th>520</th>\n",
              "      <td>3</td>\n",
              "      <td>0.016949</td>\n",
              "      <td>2</td>\n",
              "      <td>1</td>\n",
              "      <td>0.194346</td>\n",
              "      <td>0.891608</td>\n",
              "      <td>0.326750</td>\n",
              "      <td>2.0</td>\n",
              "      <td>7.0</td>\n",
              "    </tr>\n",
              "    <tr>\n",
              "      <th>7241</th>\n",
              "      <td>3</td>\n",
              "      <td>0.584746</td>\n",
              "      <td>0</td>\n",
              "      <td>2</td>\n",
              "      <td>0.346290</td>\n",
              "      <td>0.472028</td>\n",
              "      <td>0.034111</td>\n",
              "      <td>0.0</td>\n",
              "      <td>7.0</td>\n",
              "    </tr>\n",
              "    <tr>\n",
              "      <th>...</th>\n",
              "      <td>...</td>\n",
              "      <td>...</td>\n",
              "      <td>...</td>\n",
              "      <td>...</td>\n",
              "      <td>...</td>\n",
              "      <td>...</td>\n",
              "      <td>...</td>\n",
              "      <td>...</td>\n",
              "      <td>...</td>\n",
              "    </tr>\n",
              "    <tr>\n",
              "      <th>6426</th>\n",
              "      <td>3</td>\n",
              "      <td>0.661017</td>\n",
              "      <td>0</td>\n",
              "      <td>2</td>\n",
              "      <td>0.766784</td>\n",
              "      <td>0.891608</td>\n",
              "      <td>0.035907</td>\n",
              "      <td>0.0</td>\n",
              "      <td>7.0</td>\n",
              "    </tr>\n",
              "    <tr>\n",
              "      <th>505</th>\n",
              "      <td>1</td>\n",
              "      <td>0.737288</td>\n",
              "      <td>4</td>\n",
              "      <td>3</td>\n",
              "      <td>0.879859</td>\n",
              "      <td>0.937063</td>\n",
              "      <td>0.001795</td>\n",
              "      <td>0.0</td>\n",
              "      <td>7.0</td>\n",
              "    </tr>\n",
              "    <tr>\n",
              "      <th>3070</th>\n",
              "      <td>4</td>\n",
              "      <td>0.737288</td>\n",
              "      <td>2</td>\n",
              "      <td>1</td>\n",
              "      <td>0.798587</td>\n",
              "      <td>0.524476</td>\n",
              "      <td>0.348294</td>\n",
              "      <td>2.0</td>\n",
              "      <td>7.0</td>\n",
              "    </tr>\n",
              "    <tr>\n",
              "      <th>10245</th>\n",
              "      <td>6</td>\n",
              "      <td>0.779661</td>\n",
              "      <td>2</td>\n",
              "      <td>1</td>\n",
              "      <td>0.286219</td>\n",
              "      <td>0.877622</td>\n",
              "      <td>0.272890</td>\n",
              "      <td>1.0</td>\n",
              "      <td>6.0</td>\n",
              "    </tr>\n",
              "    <tr>\n",
              "      <th>3830</th>\n",
              "      <td>4</td>\n",
              "      <td>0.686441</td>\n",
              "      <td>2</td>\n",
              "      <td>1</td>\n",
              "      <td>0.219081</td>\n",
              "      <td>0.524476</td>\n",
              "      <td>0.125673</td>\n",
              "      <td>2.0</td>\n",
              "      <td>7.0</td>\n",
              "    </tr>\n",
              "  </tbody>\n",
              "</table>\n",
              "<p>3205 rows × 9 columns</p>\n",
              "</div>\n",
              "      <button class=\"colab-df-convert\" onclick=\"convertToInteractive('df-f70af5b2-45b3-4c36-8e19-e5762e18f505')\"\n",
              "              title=\"Convert this dataframe to an interactive table.\"\n",
              "              style=\"display:none;\">\n",
              "        \n",
              "  <svg xmlns=\"http://www.w3.org/2000/svg\" height=\"24px\"viewBox=\"0 0 24 24\"\n",
              "       width=\"24px\">\n",
              "    <path d=\"M0 0h24v24H0V0z\" fill=\"none\"/>\n",
              "    <path d=\"M18.56 5.44l.94 2.06.94-2.06 2.06-.94-2.06-.94-.94-2.06-.94 2.06-2.06.94zm-11 1L8.5 8.5l.94-2.06 2.06-.94-2.06-.94L8.5 2.5l-.94 2.06-2.06.94zm10 10l.94 2.06.94-2.06 2.06-.94-2.06-.94-.94-2.06-.94 2.06-2.06.94z\"/><path d=\"M17.41 7.96l-1.37-1.37c-.4-.4-.92-.59-1.43-.59-.52 0-1.04.2-1.43.59L10.3 9.45l-7.72 7.72c-.78.78-.78 2.05 0 2.83L4 21.41c.39.39.9.59 1.41.59.51 0 1.02-.2 1.41-.59l7.78-7.78 2.81-2.81c.8-.78.8-2.07 0-2.86zM5.41 20L4 18.59l7.72-7.72 1.47 1.35L5.41 20z\"/>\n",
              "  </svg>\n",
              "      </button>\n",
              "      \n",
              "  <style>\n",
              "    .colab-df-container {\n",
              "      display:flex;\n",
              "      flex-wrap:wrap;\n",
              "      gap: 12px;\n",
              "    }\n",
              "\n",
              "    .colab-df-convert {\n",
              "      background-color: #E8F0FE;\n",
              "      border: none;\n",
              "      border-radius: 50%;\n",
              "      cursor: pointer;\n",
              "      display: none;\n",
              "      fill: #1967D2;\n",
              "      height: 32px;\n",
              "      padding: 0 0 0 0;\n",
              "      width: 32px;\n",
              "    }\n",
              "\n",
              "    .colab-df-convert:hover {\n",
              "      background-color: #E2EBFA;\n",
              "      box-shadow: 0px 1px 2px rgba(60, 64, 67, 0.3), 0px 1px 3px 1px rgba(60, 64, 67, 0.15);\n",
              "      fill: #174EA6;\n",
              "    }\n",
              "\n",
              "    [theme=dark] .colab-df-convert {\n",
              "      background-color: #3B4455;\n",
              "      fill: #D2E3FC;\n",
              "    }\n",
              "\n",
              "    [theme=dark] .colab-df-convert:hover {\n",
              "      background-color: #434B5C;\n",
              "      box-shadow: 0px 1px 3px 1px rgba(0, 0, 0, 0.15);\n",
              "      filter: drop-shadow(0px 1px 2px rgba(0, 0, 0, 0.3));\n",
              "      fill: #FFFFFF;\n",
              "    }\n",
              "  </style>\n",
              "\n",
              "      <script>\n",
              "        const buttonEl =\n",
              "          document.querySelector('#df-f70af5b2-45b3-4c36-8e19-e5762e18f505 button.colab-df-convert');\n",
              "        buttonEl.style.display =\n",
              "          google.colab.kernel.accessAllowed ? 'block' : 'none';\n",
              "\n",
              "        async function convertToInteractive(key) {\n",
              "          const element = document.querySelector('#df-f70af5b2-45b3-4c36-8e19-e5762e18f505');\n",
              "          const dataTable =\n",
              "            await google.colab.kernel.invokeFunction('convertToInteractive',\n",
              "                                                     [key], {});\n",
              "          if (!dataTable) return;\n",
              "\n",
              "          const docLinkHtml = 'Like what you see? Visit the ' +\n",
              "            '<a target=\"_blank\" href=https://colab.research.google.com/notebooks/data_table.ipynb>data table notebook</a>'\n",
              "            + ' to learn more about interactive tables.';\n",
              "          element.innerHTML = '';\n",
              "          dataTable['output_type'] = 'display_data';\n",
              "          await google.colab.output.renderOutput(dataTable, element);\n",
              "          const docLink = document.createElement('div');\n",
              "          docLink.innerHTML = docLinkHtml;\n",
              "          element.appendChild(docLink);\n",
              "        }\n",
              "      </script>\n",
              "    </div>\n",
              "  </div>\n",
              "  "
            ]
          },
          "metadata": {},
          "execution_count": 65
        }
      ],
      "source": [
        "x_test"
      ]
    },
    {
      "cell_type": "code",
      "execution_count": null,
      "metadata": {
        "colab": {
          "base_uri": "https://localhost:8080/"
        },
        "id": "qHn-ocJb_vrr",
        "outputId": "76359220-ff20-44c7-a443-3d8acd31cd44"
      },
      "outputs": [
        {
          "output_type": "execute_result",
          "data": {
            "text/plain": [
              "166       6092\n",
              "10196     4392\n",
              "8287     15129\n",
              "520       8899\n",
              "7241      4823\n",
              "         ...  \n",
              "6426      4823\n",
              "505       3100\n",
              "3070     15129\n",
              "10245    10406\n",
              "3830     16274\n",
              "Name: Price, Length: 3205, dtype: int64"
            ]
          },
          "metadata": {},
          "execution_count": 66
        }
      ],
      "source": [
        "y_test"
      ]
    },
    {
      "cell_type": "markdown",
      "source": [
        "## Extra Regressor"
      ],
      "metadata": {
        "id": "ia9jImXJrcVA"
      }
    },
    {
      "cell_type": "code",
      "source": [
        "from sklearn.ensemble import ExtraTreesRegressor\n",
        "selection = ExtraTreesRegressor()\n",
        "selection.fit(X, Y)"
      ],
      "metadata": {
        "colab": {
          "base_uri": "https://localhost:8080/"
        },
        "id": "bbyr1NvjreIG",
        "outputId": "3a9bbb33-f489-4b94-cce1-e99c737fba97"
      },
      "execution_count": null,
      "outputs": [
        {
          "output_type": "execute_result",
          "data": {
            "text/plain": [
              "ExtraTreesRegressor()"
            ]
          },
          "metadata": {},
          "execution_count": 67
        }
      ]
    },
    {
      "cell_type": "code",
      "source": [
        "plt.figure(figsize = (12,8))\n",
        "feat_importances = pd.Series(selection.feature_importances_, index=X.columns)\n",
        "feat_importances.nlargest(20).plot(kind='barh')\n",
        "plt.xlabel('Percent Importance')\n",
        "plt.ylabel('feature')\n",
        "plt.title('Feature Importance')\n",
        "plt.show()"
      ],
      "metadata": {
        "colab": {
          "base_uri": "https://localhost:8080/"
        },
        "id": "8zcrewTdrkR4",
        "outputId": "0e2c7652-61fd-448e-ee02-648bf5628de7"
      },
      "execution_count": null,
      "outputs": [
        {
          "output_type": "display_data",
          "data": {
            "text/plain": [
              "<Figure size 864x576 with 1 Axes>"
            ],
            "image/png": "[encoded data removed]"
          },
          "metadata": {
            "needs_background": "light"
          }
        }
      ]
    },
    {
      "cell_type": "markdown",
      "source": [
        "## Decision Tree Regressor"
      ],
      "metadata": {
        "id": "xwHA3Rv48EbX"
      }
    },
    {
      "cell_type": "code",
      "source": [
        "dtc=DecisionTreeRegressor(random_state=42)\n",
        "dtc.fit(x_train, y_train)\n",
        "y_pred_dtc=dtc.predict(x_test)"
      ],
      "metadata": {
        "id": "8OIBZvlR8HdH"
      },
      "execution_count": null,
      "outputs": []
    },
    {
      "cell_type": "code",
      "source": [
        "dtc_r2_score=r2_score(np.array(y_test), np.array(y_pred_dtc))\n",
        "dtc_r2_score"
      ],
      "metadata": {
        "colab": {
          "base_uri": "https://localhost:8080/"
        },
        "id": "TpDJZgXd8R8I",
        "outputId": "d2d1ecf0-472b-4646-b7a2-04a3c19d3578"
      },
      "execution_count": null,
      "outputs": [
        {
          "output_type": "execute_result",
          "data": {
            "text/plain": [
              "0.763884461857921"
            ]
          },
          "metadata": {},
          "execution_count": 77
        }
      ]
    },
    {
      "cell_type": "code",
      "source": [
        "dtc_mae=mean_absolute_error(np.array(y_test), np.array(y_pred_dtc))\n",
        "dtc_mae"
      ],
      "metadata": {
        "colab": {
          "base_uri": "https://localhost:8080/"
        },
        "id": "STWxMiD7Xn1p",
        "outputId": "01ece23e-833a-4c89-81f0-0959da4c3898"
      },
      "execution_count": null,
      "outputs": [
        {
          "output_type": "execute_result",
          "data": {
            "text/plain": [
              "777.3052002080084"
            ]
          },
          "metadata": {},
          "execution_count": 79
        }
      ]
    },
    {
      "cell_type": "code",
      "source": [
        "dtc_mse=mean_squared_error(np.array(y_test), np.array(y_pred_dtc))\n",
        "dtc_mse"
      ],
      "metadata": {
        "colab": {
          "base_uri": "https://localhost:8080/"
        },
        "id": "GtnC07jlXzw_",
        "outputId": "aa9deeab-21f0-4335-d268-fa205de53764"
      },
      "execution_count": null,
      "outputs": [
        {
          "output_type": "execute_result",
          "data": {
            "text/plain": [
              "5223478.629563183"
            ]
          },
          "metadata": {},
          "execution_count": 80
        }
      ]
    },
    {
      "cell_type": "code",
      "source": [
        "y_pred_dtc"
      ],
      "metadata": {
        "colab": {
          "base_uri": "https://localhost:8080/"
        },
        "id": "gq8MgmIB_e4d",
        "outputId": "d409faf1-2a19-43c8-b22d-7cf2e189f3a0"
      },
      "execution_count": null,
      "outputs": [
        {
          "output_type": "execute_result",
          "data": {
            "text/plain": [
              "array([13885.,  2754., 15129., ..., 15129., 10406., 16274.])"
            ]
          },
          "metadata": {},
          "execution_count": 71
        }
      ]
    },
    {
      "cell_type": "code",
      "source": [
        "plt.subplots(figsize=(8, 4))\n",
        "sns.distplot(y_test-y_pred_dtc)\n",
        "plt.title('Distribution of Difference in Predicted Value')\n",
        "plt.show()"
      ],
      "metadata": {
        "colab": {
          "base_uri": "https://localhost:8080/",
          "height": 295
        },
        "id": "_FXMtRlLwRXn",
        "outputId": "cd75f5e9-a807-4145-e6f9-9092d8854231"
      },
      "execution_count": null,
      "outputs": [
        {
          "output_type": "display_data",
          "data": {
            "text/plain": [
              "<Figure size 576x288 with 1 Axes>"
            ],
            "image/png": "[encoded data removed]"
          },
          "metadata": {
            "needs_background": "light"
          }
        }
      ]
    },
    {
      "cell_type": "markdown",
      "source": [
        "## Random Forest Regressor"
      ],
      "metadata": {
        "id": "pbed0wPI8a0N"
      }
    },
    {
      "cell_type": "code",
      "source": [
        "tree_para = {\"n_estimators\":[50,100,200,300,400,450,500,550,600,700]}\n",
        "clf = GridSearchCV(RandomForestRegressor(random_state=42), tree_para, cv=5)\n",
        "(clf.fit(x_train, y_train))\n",
        "y_pred=clf.predict(x_test)\n",
        "print(\"Best parameters:\", clf.best_params_)"
      ],
      "metadata": {
        "colab": {
          "base_uri": "https://localhost:8080/"
        },
        "id": "nybELtXPwmda",
        "outputId": "bd50e1b7-5f72-46ba-ad8e-d3922e77cc2d"
      },
      "execution_count": null,
      "outputs": [
        {
          "output_type": "stream",
          "name": "stdout",
          "text": [
            "Best parameters: {'n_estimators': 400}\n"
          ]
        }
      ]
    },
    {
      "cell_type": "code",
      "source": [
        "tree_para = {\"max_depth\":[2,3,4,5,6,7,8,9]}\n",
        "clf = GridSearchCV(RandomForestRegressor(random_state=42,n_estimators=400), tree_para, cv=5)\n",
        "(clf.fit(x_train, y_train))\n",
        "y_pred=clf.predict(x_test)\n",
        "print(\"Best parameters:\", clf.best_params_)"
      ],
      "metadata": {
        "colab": {
          "base_uri": "https://localhost:8080/"
        },
        "id": "6P6rvH94zZ4o",
        "outputId": "6c3fe3d3-65d5-4c85-dbd9-7c6cfc744bc8"
      },
      "execution_count": null,
      "outputs": [
        {
          "output_type": "stream",
          "name": "stdout",
          "text": [
            "Best parameters: {'max_depth': 9}\n"
          ]
        }
      ]
    },
    {
      "cell_type": "code",
      "source": [
        "tree_para = {\"min_samples_split\":[2,3,4,5,6,7,8,9,10,11,12,13,14,15,16,17,18,19,20]}\n",
        "clf = GridSearchCV(RandomForestRegressor(random_state=42,n_estimators=400,max_depth=9), tree_para, cv=5)\n",
        "(clf.fit(x_train, y_train))\n",
        "y_pred=clf.predict(x_test)\n",
        "print(\"Best parameters:\", clf.best_params_)"
      ],
      "metadata": {
        "colab": {
          "base_uri": "https://localhost:8080/"
        },
        "id": "6JO3jBrL0MkK",
        "outputId": "ba21dc6c-7d57-453f-9772-3ac6104a8a00"
      },
      "execution_count": null,
      "outputs": [
        {
          "output_type": "stream",
          "name": "stdout",
          "text": [
            "Best parameters: {'min_samples_split': 2}\n"
          ]
        }
      ]
    },
    {
      "cell_type": "code",
      "source": [
        "rfc=RandomForestRegressor(random_state=42,n_estimators=400,max_depth=10,min_samples_split=2)\n",
        "rfc.fit(x_train,y_train)\n",
        "y_pred_rfc=rfc.predict(x_test)"
      ],
      "metadata": {
        "id": "0ToI4SN88dIM"
      },
      "execution_count": null,
      "outputs": []
    },
    {
      "cell_type": "code",
      "source": [
        "rfc_r2_score = r2_score(np.array(y_test), np.array(y_pred_rfc))\n",
        "rfc_r2_score"
      ],
      "metadata": {
        "colab": {
          "base_uri": "https://localhost:8080/"
        },
        "id": "ByHOXQ1N8iK8",
        "outputId": "f3983dd8-c271-4a20-bbcd-828a86168514"
      },
      "execution_count": null,
      "outputs": [
        {
          "output_type": "execute_result",
          "data": {
            "text/plain": [
              "0.8320885831557412"
            ]
          },
          "metadata": {},
          "execution_count": 84
        }
      ]
    },
    {
      "cell_type": "code",
      "source": [
        "rfc_mae = mean_absolute_error(np.array(y_test), np.array(y_pred_rfc))\n",
        "rfc_mae"
      ],
      "metadata": {
        "colab": {
          "base_uri": "https://localhost:8080/"
        },
        "id": "V7_adDxbX86D",
        "outputId": "91991508-30c8-4474-ecc0-9f840aa9bd04"
      },
      "execution_count": null,
      "outputs": [
        {
          "output_type": "execute_result",
          "data": {
            "text/plain": [
              "936.1092118083654"
            ]
          },
          "metadata": {},
          "execution_count": 85
        }
      ]
    },
    {
      "cell_type": "code",
      "source": [
        "rfc_mse = mean_squared_error(np.array(y_test), np.array(y_pred_rfc))\n",
        "rfc_mse"
      ],
      "metadata": {
        "colab": {
          "base_uri": "https://localhost:8080/"
        },
        "id": "NidrW2XvYGWW",
        "outputId": "f4183a89-c0c8-475d-9e68-d2df30ad7a59"
      },
      "execution_count": null,
      "outputs": [
        {
          "output_type": "execute_result",
          "data": {
            "text/plain": [
              "3714629.3058353923"
            ]
          },
          "metadata": {},
          "execution_count": 86
        }
      ]
    },
    {
      "cell_type": "code",
      "source": [
        "plt.subplots(figsize=(8, 4))\n",
        "sns.distplot(y_test-y_pred_rfc)\n",
        "plt.title('Distribution of Difference in Predicted Value')\n",
        "plt.show()"
      ],
      "metadata": {
        "colab": {
          "base_uri": "https://localhost:8080/",
          "height": 295
        },
        "id": "9VvTpIPt2lV_",
        "outputId": "7d32ff3a-5155-4ef4-d936-fd4161155b03"
      },
      "execution_count": null,
      "outputs": [
        {
          "output_type": "display_data",
          "data": {
            "text/plain": [
              "<Figure size 576x288 with 1 Axes>"
            ],
            "image/png": "[encoded data removed]"
          },
          "metadata": {
            "needs_background": "light"
          }
        }
      ]
    },
    {
      "cell_type": "markdown",
      "source": [
        "## XG Boost Regressor"
      ],
      "metadata": {
        "id": "LsLNrs_o_cq7"
      }
    },
    {
      "cell_type": "code",
      "source": [
        "tree_para = {\"n_estimators\":[50,100,200,300,400,450,500,550,600,700]}\n",
        "clf = GridSearchCV(XGBRegressor(random_state=42), tree_para, cv=5)\n",
        "(clf.fit(x_train, y_train))\n",
        "y_pred=clf.predict(x_test)\n",
        "print(\"Best parameters:\", clf.best_params_)"
      ],
      "metadata": {
        "colab": {
          "base_uri": "https://localhost:8080/"
        },
        "id": "l9ZPINxJ6L7u",
        "outputId": "160b99be-1573-4859-e1e4-9070305041df"
      },
      "execution_count": null,
      "outputs": [
        {
          "output_type": "stream",
          "name": "stdout",
          "text": [
            "[10:41:27] WARNING: /workspace/src/objective/regression_obj.cu:152: reg:linear is now deprecated in favor of reg:squarederror.\n",
            "[10:41:27] WARNING: /workspace/src/objective/regression_obj.cu:152: reg:linear is now deprecated in favor of reg:squarederror.\n",
            "[10:41:27] WARNING: /workspace/src/objective/regression_obj.cu:152: reg:linear is now deprecated in favor of reg:squarederror.\n",
            "[10:41:28] WARNING: /workspace/src/objective/regression_obj.cu:152: reg:linear is now deprecated in favor of reg:squarederror.\n",
            "[10:41:28] WARNING: /workspace/src/objective/regression_obj.cu:152: reg:linear is now deprecated in favor of reg:squarederror.\n",
            "[10:41:28] WARNING: /workspace/src/objective/regression_obj.cu:152: reg:linear is now deprecated in favor of reg:squarederror.\n",
            "[10:41:28] WARNING: /workspace/src/objective/regression_obj.cu:152: reg:linear is now deprecated in favor of reg:squarederror.\n",
            "[10:41:28] WARNING: /workspace/src/objective/regression_obj.cu:152: reg:linear is now deprecated in favor of reg:squarederror.\n",
            "[10:41:29] WARNING: /workspace/src/objective/regression_obj.cu:152: reg:linear is now deprecated in favor of reg:squarederror.\n",
            "[10:41:29] WARNING: /workspace/src/objective/regression_obj.cu:152: reg:linear is now deprecated in favor of reg:squarederror.\n",
            "[10:41:29] WARNING: /workspace/src/objective/regression_obj.cu:152: reg:linear is now deprecated in favor of reg:squarederror.\n",
            "[10:41:30] WARNING: /workspace/src/objective/regression_obj.cu:152: reg:linear is now deprecated in favor of reg:squarederror.\n",
            "[10:41:30] WARNING: /workspace/src/objective/regression_obj.cu:152: reg:linear is now deprecated in favor of reg:squarederror.\n",
            "[10:41:31] WARNING: /workspace/src/objective/regression_obj.cu:152: reg:linear is now deprecated in favor of reg:squarederror.\n",
            "[10:41:31] WARNING: /workspace/src/objective/regression_obj.cu:152: reg:linear is now deprecated in favor of reg:squarederror.\n",
            "[10:41:32] WARNING: /workspace/src/objective/regression_obj.cu:152: reg:linear is now deprecated in favor of reg:squarederror.\n",
            "[10:41:33] WARNING: /workspace/src/objective/regression_obj.cu:152: reg:linear is now deprecated in favor of reg:squarederror.\n",
            "[10:41:34] WARNING: /workspace/src/objective/regression_obj.cu:152: reg:linear is now deprecated in favor of reg:squarederror.\n",
            "[10:41:34] WARNING: /workspace/src/objective/regression_obj.cu:152: reg:linear is now deprecated in favor of reg:squarederror.\n",
            "[10:41:35] WARNING: /workspace/src/objective/regression_obj.cu:152: reg:linear is now deprecated in favor of reg:squarederror.\n",
            "[10:41:36] WARNING: /workspace/src/objective/regression_obj.cu:152: reg:linear is now deprecated in favor of reg:squarederror.\n",
            "[10:41:37] WARNING: /workspace/src/objective/regression_obj.cu:152: reg:linear is now deprecated in favor of reg:squarederror.\n",
            "[10:41:38] WARNING: /workspace/src/objective/regression_obj.cu:152: reg:linear is now deprecated in favor of reg:squarederror.\n",
            "[10:41:39] WARNING: /workspace/src/objective/regression_obj.cu:152: reg:linear is now deprecated in favor of reg:squarederror.\n",
            "[10:41:40] WARNING: /workspace/src/objective/regression_obj.cu:152: reg:linear is now deprecated in favor of reg:squarederror.\n",
            "[10:41:41] WARNING: /workspace/src/objective/regression_obj.cu:152: reg:linear is now deprecated in favor of reg:squarederror.\n",
            "[10:41:42] WARNING: /workspace/src/objective/regression_obj.cu:152: reg:linear is now deprecated in favor of reg:squarederror.\n",
            "[10:41:43] WARNING: /workspace/src/objective/regression_obj.cu:152: reg:linear is now deprecated in favor of reg:squarederror.\n",
            "[10:41:45] WARNING: /workspace/src/objective/regression_obj.cu:152: reg:linear is now deprecated in favor of reg:squarederror.\n",
            "[10:41:46] WARNING: /workspace/src/objective/regression_obj.cu:152: reg:linear is now deprecated in favor of reg:squarederror.\n",
            "[10:41:47] WARNING: /workspace/src/objective/regression_obj.cu:152: reg:linear is now deprecated in favor of reg:squarederror.\n",
            "[10:41:48] WARNING: /workspace/src/objective/regression_obj.cu:152: reg:linear is now deprecated in favor of reg:squarederror.\n",
            "[10:41:49] WARNING: /workspace/src/objective/regression_obj.cu:152: reg:linear is now deprecated in favor of reg:squarederror.\n",
            "[10:41:51] WARNING: /workspace/src/objective/regression_obj.cu:152: reg:linear is now deprecated in favor of reg:squarederror.\n",
            "[10:41:52] WARNING: /workspace/src/objective/regression_obj.cu:152: reg:linear is now deprecated in favor of reg:squarederror.\n",
            "[10:41:53] WARNING: /workspace/src/objective/regression_obj.cu:152: reg:linear is now deprecated in favor of reg:squarederror.\n",
            "[10:41:55] WARNING: /workspace/src/objective/regression_obj.cu:152: reg:linear is now deprecated in favor of reg:squarederror.\n",
            "[10:41:56] WARNING: /workspace/src/objective/regression_obj.cu:152: reg:linear is now deprecated in favor of reg:squarederror.\n",
            "[10:41:58] WARNING: /workspace/src/objective/regression_obj.cu:152: reg:linear is now deprecated in favor of reg:squarederror.\n",
            "[10:41:59] WARNING: /workspace/src/objective/regression_obj.cu:152: reg:linear is now deprecated in favor of reg:squarederror.\n",
            "[10:42:00] WARNING: /workspace/src/objective/regression_obj.cu:152: reg:linear is now deprecated in favor of reg:squarederror.\n",
            "[10:42:02] WARNING: /workspace/src/objective/regression_obj.cu:152: reg:linear is now deprecated in favor of reg:squarederror.\n",
            "[10:42:04] WARNING: /workspace/src/objective/regression_obj.cu:152: reg:linear is now deprecated in favor of reg:squarederror.\n",
            "[10:42:05] WARNING: /workspace/src/objective/regression_obj.cu:152: reg:linear is now deprecated in favor of reg:squarederror.\n",
            "[10:42:07] WARNING: /workspace/src/objective/regression_obj.cu:152: reg:linear is now deprecated in favor of reg:squarederror.\n",
            "[10:42:08] WARNING: /workspace/src/objective/regression_obj.cu:152: reg:linear is now deprecated in favor of reg:squarederror.\n",
            "[10:42:10] WARNING: /workspace/src/objective/regression_obj.cu:152: reg:linear is now deprecated in favor of reg:squarederror.\n",
            "[10:42:12] WARNING: /workspace/src/objective/regression_obj.cu:152: reg:linear is now deprecated in favor of reg:squarederror.\n",
            "[10:42:14] WARNING: /workspace/src/objective/regression_obj.cu:152: reg:linear is now deprecated in favor of reg:squarederror.\n",
            "[10:42:15] WARNING: /workspace/src/objective/regression_obj.cu:152: reg:linear is now deprecated in favor of reg:squarederror.\n",
            "[10:42:17] WARNING: /workspace/src/objective/regression_obj.cu:152: reg:linear is now deprecated in favor of reg:squarederror.\n",
            "Best parameters: {'n_estimators': 700}\n"
          ]
        }
      ]
    },
    {
      "cell_type": "code",
      "source": [
        "tree_para = {\"max_depth\":[2,3,4,5,6,7,8,9,10,11,12,13,14,15]}\n",
        "clf = GridSearchCV(XGBRegressor(random_state=42,n_estimators=700,), tree_para, cv=5)\n",
        "(clf.fit(x_train, y_train))\n",
        "y_pred=clf.predict(x_test)\n",
        "print(\"Best parameters:\", clf.best_params_)"
      ],
      "metadata": {
        "colab": {
          "base_uri": "https://localhost:8080/"
        },
        "id": "n81LEu0u663K",
        "outputId": "59cef839-ac1c-4b75-d72f-a8dae8e0ac56"
      },
      "execution_count": null,
      "outputs": [
        {
          "output_type": "stream",
          "name": "stdout",
          "text": [
            "[10:44:36] WARNING: /workspace/src/objective/regression_obj.cu:152: reg:linear is now deprecated in favor of reg:squarederror.\n",
            "[10:44:38] WARNING: /workspace/src/objective/regression_obj.cu:152: reg:linear is now deprecated in favor of reg:squarederror.\n",
            "[10:44:40] WARNING: /workspace/src/objective/regression_obj.cu:152: reg:linear is now deprecated in favor of reg:squarederror.\n",
            "[10:44:41] WARNING: /workspace/src/objective/regression_obj.cu:152: reg:linear is now deprecated in favor of reg:squarederror.\n",
            "[10:44:42] WARNING: /workspace/src/objective/regression_obj.cu:152: reg:linear is now deprecated in favor of reg:squarederror.\n",
            "[10:44:44] WARNING: /workspace/src/objective/regression_obj.cu:152: reg:linear is now deprecated in favor of reg:squarederror.\n",
            "[10:44:46] WARNING: /workspace/src/objective/regression_obj.cu:152: reg:linear is now deprecated in favor of reg:squarederror.\n",
            "[10:44:47] WARNING: /workspace/src/objective/regression_obj.cu:152: reg:linear is now deprecated in favor of reg:squarederror.\n",
            "[10:44:49] WARNING: /workspace/src/objective/regression_obj.cu:152: reg:linear is now deprecated in favor of reg:squarederror.\n",
            "[10:44:51] WARNING: /workspace/src/objective/regression_obj.cu:152: reg:linear is now deprecated in favor of reg:squarederror.\n",
            "[10:44:53] WARNING: /workspace/src/objective/regression_obj.cu:152: reg:linear is now deprecated in favor of reg:squarederror.\n",
            "[10:44:55] WARNING: /workspace/src/objective/regression_obj.cu:152: reg:linear is now deprecated in favor of reg:squarederror.\n",
            "[10:44:57] WARNING: /workspace/src/objective/regression_obj.cu:152: reg:linear is now deprecated in favor of reg:squarederror.\n",
            "[10:45:00] WARNING: /workspace/src/objective/regression_obj.cu:152: reg:linear is now deprecated in favor of reg:squarederror.\n",
            "[10:45:02] WARNING: /workspace/src/objective/regression_obj.cu:152: reg:linear is now deprecated in favor of reg:squarederror.\n",
            "[10:45:06] WARNING: /workspace/src/objective/regression_obj.cu:152: reg:linear is now deprecated in favor of reg:squarederror.\n",
            "[10:45:09] WARNING: /workspace/src/objective/regression_obj.cu:152: reg:linear is now deprecated in favor of reg:squarederror.\n",
            "[10:45:12] WARNING: /workspace/src/objective/regression_obj.cu:152: reg:linear is now deprecated in favor of reg:squarederror.\n",
            "[10:45:15] WARNING: /workspace/src/objective/regression_obj.cu:152: reg:linear is now deprecated in favor of reg:squarederror.\n",
            "[10:45:18] WARNING: /workspace/src/objective/regression_obj.cu:152: reg:linear is now deprecated in favor of reg:squarederror.\n",
            "[10:45:20] WARNING: /workspace/src/objective/regression_obj.cu:152: reg:linear is now deprecated in favor of reg:squarederror.\n",
            "[10:45:24] WARNING: /workspace/src/objective/regression_obj.cu:152: reg:linear is now deprecated in favor of reg:squarederror.\n",
            "[10:45:27] WARNING: /workspace/src/objective/regression_obj.cu:152: reg:linear is now deprecated in favor of reg:squarederror.\n",
            "[10:45:31] WARNING: /workspace/src/objective/regression_obj.cu:152: reg:linear is now deprecated in favor of reg:squarederror.\n",
            "[10:45:34] WARNING: /workspace/src/objective/regression_obj.cu:152: reg:linear is now deprecated in favor of reg:squarederror.\n",
            "[10:45:38] WARNING: /workspace/src/objective/regression_obj.cu:152: reg:linear is now deprecated in favor of reg:squarederror.\n",
            "[10:45:42] WARNING: /workspace/src/objective/regression_obj.cu:152: reg:linear is now deprecated in favor of reg:squarederror.\n",
            "[10:45:46] WARNING: /workspace/src/objective/regression_obj.cu:152: reg:linear is now deprecated in favor of reg:squarederror.\n",
            "[10:45:50] WARNING: /workspace/src/objective/regression_obj.cu:152: reg:linear is now deprecated in favor of reg:squarederror.\n",
            "[10:45:54] WARNING: /workspace/src/objective/regression_obj.cu:152: reg:linear is now deprecated in favor of reg:squarederror.\n",
            "[10:45:58] WARNING: /workspace/src/objective/regression_obj.cu:152: reg:linear is now deprecated in favor of reg:squarederror.\n",
            "[10:46:03] WARNING: /workspace/src/objective/regression_obj.cu:152: reg:linear is now deprecated in favor of reg:squarederror.\n",
            "[10:46:08] WARNING: /workspace/src/objective/regression_obj.cu:152: reg:linear is now deprecated in favor of reg:squarederror.\n",
            "[10:46:13] WARNING: /workspace/src/objective/regression_obj.cu:152: reg:linear is now deprecated in favor of reg:squarederror.\n",
            "[10:46:17] WARNING: /workspace/src/objective/regression_obj.cu:152: reg:linear is now deprecated in favor of reg:squarederror.\n",
            "[10:46:22] WARNING: /workspace/src/objective/regression_obj.cu:152: reg:linear is now deprecated in favor of reg:squarederror.\n",
            "[10:46:28] WARNING: /workspace/src/objective/regression_obj.cu:152: reg:linear is now deprecated in favor of reg:squarederror.\n",
            "[10:46:33] WARNING: /workspace/src/objective/regression_obj.cu:152: reg:linear is now deprecated in favor of reg:squarederror.\n",
            "[10:46:39] WARNING: /workspace/src/objective/regression_obj.cu:152: reg:linear is now deprecated in favor of reg:squarederror.\n",
            "[10:46:45] WARNING: /workspace/src/objective/regression_obj.cu:152: reg:linear is now deprecated in favor of reg:squarederror.\n",
            "[10:46:50] WARNING: /workspace/src/objective/regression_obj.cu:152: reg:linear is now deprecated in favor of reg:squarederror.\n",
            "[10:46:56] WARNING: /workspace/src/objective/regression_obj.cu:152: reg:linear is now deprecated in favor of reg:squarederror.\n",
            "[10:47:03] WARNING: /workspace/src/objective/regression_obj.cu:152: reg:linear is now deprecated in favor of reg:squarederror.\n",
            "[10:47:09] WARNING: /workspace/src/objective/regression_obj.cu:152: reg:linear is now deprecated in favor of reg:squarederror.\n",
            "[10:47:16] WARNING: /workspace/src/objective/regression_obj.cu:152: reg:linear is now deprecated in favor of reg:squarederror.\n",
            "[10:47:22] WARNING: /workspace/src/objective/regression_obj.cu:152: reg:linear is now deprecated in favor of reg:squarederror.\n",
            "[10:47:30] WARNING: /workspace/src/objective/regression_obj.cu:152: reg:linear is now deprecated in favor of reg:squarederror.\n",
            "[10:47:37] WARNING: /workspace/src/objective/regression_obj.cu:152: reg:linear is now deprecated in favor of reg:squarederror.\n",
            "[10:47:44] WARNING: /workspace/src/objective/regression_obj.cu:152: reg:linear is now deprecated in favor of reg:squarederror.\n",
            "[10:47:52] WARNING: /workspace/src/objective/regression_obj.cu:152: reg:linear is now deprecated in favor of reg:squarederror.\n",
            "[10:47:59] WARNING: /workspace/src/objective/regression_obj.cu:152: reg:linear is now deprecated in favor of reg:squarederror.\n",
            "[10:48:07] WARNING: /workspace/src/objective/regression_obj.cu:152: reg:linear is now deprecated in favor of reg:squarederror.\n",
            "[10:48:16] WARNING: /workspace/src/objective/regression_obj.cu:152: reg:linear is now deprecated in favor of reg:squarederror.\n",
            "[10:48:24] WARNING: /workspace/src/objective/regression_obj.cu:152: reg:linear is now deprecated in favor of reg:squarederror.\n",
            "[10:48:33] WARNING: /workspace/src/objective/regression_obj.cu:152: reg:linear is now deprecated in favor of reg:squarederror.\n",
            "[10:48:41] WARNING: /workspace/src/objective/regression_obj.cu:152: reg:linear is now deprecated in favor of reg:squarederror.\n",
            "[10:48:50] WARNING: /workspace/src/objective/regression_obj.cu:152: reg:linear is now deprecated in favor of reg:squarederror.\n",
            "[10:48:59] WARNING: /workspace/src/objective/regression_obj.cu:152: reg:linear is now deprecated in favor of reg:squarederror.\n",
            "[10:49:09] WARNING: /workspace/src/objective/regression_obj.cu:152: reg:linear is now deprecated in favor of reg:squarederror.\n",
            "[10:49:18] WARNING: /workspace/src/objective/regression_obj.cu:152: reg:linear is now deprecated in favor of reg:squarederror.\n",
            "[10:49:27] WARNING: /workspace/src/objective/regression_obj.cu:152: reg:linear is now deprecated in favor of reg:squarederror.\n",
            "[10:49:38] WARNING: /workspace/src/objective/regression_obj.cu:152: reg:linear is now deprecated in favor of reg:squarederror.\n",
            "[10:49:48] WARNING: /workspace/src/objective/regression_obj.cu:152: reg:linear is now deprecated in favor of reg:squarederror.\n",
            "[10:49:59] WARNING: /workspace/src/objective/regression_obj.cu:152: reg:linear is now deprecated in favor of reg:squarederror.\n",
            "[10:50:09] WARNING: /workspace/src/objective/regression_obj.cu:152: reg:linear is now deprecated in favor of reg:squarederror.\n",
            "[10:50:20] WARNING: /workspace/src/objective/regression_obj.cu:152: reg:linear is now deprecated in favor of reg:squarederror.\n",
            "[10:50:31] WARNING: /workspace/src/objective/regression_obj.cu:152: reg:linear is now deprecated in favor of reg:squarederror.\n",
            "[10:50:43] WARNING: /workspace/src/objective/regression_obj.cu:152: reg:linear is now deprecated in favor of reg:squarederror.\n",
            "[10:50:54] WARNING: /workspace/src/objective/regression_obj.cu:152: reg:linear is now deprecated in favor of reg:squarederror.\n",
            "[10:51:06] WARNING: /workspace/src/objective/regression_obj.cu:152: reg:linear is now deprecated in favor of reg:squarederror.\n",
            "[10:51:17] WARNING: /workspace/src/objective/regression_obj.cu:152: reg:linear is now deprecated in favor of reg:squarederror.\n",
            "Best parameters: {'max_depth': 6}\n"
          ]
        }
      ]
    },
    {
      "cell_type": "code",
      "source": [
        "tree_para = {\"min_samples_split\":[2,3,4,5,6,7,8,9,10,11,12,13,14,15]}\n",
        "clf = GridSearchCV(XGBRegressor(random_state=42,n_estimators=700,max_depth=6), tree_para, cv=5)\n",
        "(clf.fit(x_train, y_train))\n",
        "y_pred=clf.predict(x_test)\n",
        "print(\"Best parameters:\", clf.best_params_)"
      ],
      "metadata": {
        "colab": {
          "base_uri": "https://localhost:8080/"
        },
        "id": "xALLfd8q8uW0",
        "outputId": "19c247f0-16fc-4e15-f393-3bf4947cd282"
      },
      "execution_count": null,
      "outputs": [
        {
          "output_type": "stream",
          "name": "stdout",
          "text": [
            "[10:52:12] WARNING: /workspace/src/objective/regression_obj.cu:152: reg:linear is now deprecated in favor of reg:squarederror.\n",
            "[10:52:17] WARNING: /workspace/src/objective/regression_obj.cu:152: reg:linear is now deprecated in favor of reg:squarederror.\n",
            "[10:52:20] WARNING: /workspace/src/objective/regression_obj.cu:152: reg:linear is now deprecated in favor of reg:squarederror.\n",
            "[10:52:24] WARNING: /workspace/src/objective/regression_obj.cu:152: reg:linear is now deprecated in favor of reg:squarederror.\n",
            "[10:52:27] WARNING: /workspace/src/objective/regression_obj.cu:152: reg:linear is now deprecated in favor of reg:squarederror.\n",
            "[10:52:30] WARNING: /workspace/src/objective/regression_obj.cu:152: reg:linear is now deprecated in favor of reg:squarederror.\n",
            "[10:52:34] WARNING: /workspace/src/objective/regression_obj.cu:152: reg:linear is now deprecated in favor of reg:squarederror.\n",
            "[10:52:37] WARNING: /workspace/src/objective/regression_obj.cu:152: reg:linear is now deprecated in favor of reg:squarederror.\n",
            "[10:52:41] WARNING: /workspace/src/objective/regression_obj.cu:152: reg:linear is now deprecated in favor of reg:squarederror.\n",
            "[10:52:44] WARNING: /workspace/src/objective/regression_obj.cu:152: reg:linear is now deprecated in favor of reg:squarederror.\n",
            "[10:52:48] WARNING: /workspace/src/objective/regression_obj.cu:152: reg:linear is now deprecated in favor of reg:squarederror.\n",
            "[10:52:51] WARNING: /workspace/src/objective/regression_obj.cu:152: reg:linear is now deprecated in favor of reg:squarederror.\n",
            "[10:52:55] WARNING: /workspace/src/objective/regression_obj.cu:152: reg:linear is now deprecated in favor of reg:squarederror.\n",
            "[10:52:58] WARNING: /workspace/src/objective/regression_obj.cu:152: reg:linear is now deprecated in favor of reg:squarederror.\n",
            "[10:53:01] WARNING: /workspace/src/objective/regression_obj.cu:152: reg:linear is now deprecated in favor of reg:squarederror.\n",
            "[10:53:05] WARNING: /workspace/src/objective/regression_obj.cu:152: reg:linear is now deprecated in favor of reg:squarederror.\n",
            "[10:53:08] WARNING: /workspace/src/objective/regression_obj.cu:152: reg:linear is now deprecated in favor of reg:squarederror.\n",
            "[10:53:12] WARNING: /workspace/src/objective/regression_obj.cu:152: reg:linear is now deprecated in favor of reg:squarederror.\n",
            "[10:53:15] WARNING: /workspace/src/objective/regression_obj.cu:152: reg:linear is now deprecated in favor of reg:squarederror.\n",
            "[10:53:19] WARNING: /workspace/src/objective/regression_obj.cu:152: reg:linear is now deprecated in favor of reg:squarederror.\n",
            "[10:53:22] WARNING: /workspace/src/objective/regression_obj.cu:152: reg:linear is now deprecated in favor of reg:squarederror.\n",
            "[10:53:25] WARNING: /workspace/src/objective/regression_obj.cu:152: reg:linear is now deprecated in favor of reg:squarederror.\n",
            "[10:53:29] WARNING: /workspace/src/objective/regression_obj.cu:152: reg:linear is now deprecated in favor of reg:squarederror.\n",
            "[10:53:32] WARNING: /workspace/src/objective/regression_obj.cu:152: reg:linear is now deprecated in favor of reg:squarederror.\n",
            "[10:53:36] WARNING: /workspace/src/objective/regression_obj.cu:152: reg:linear is now deprecated in favor of reg:squarederror.\n",
            "[10:53:39] WARNING: /workspace/src/objective/regression_obj.cu:152: reg:linear is now deprecated in favor of reg:squarederror.\n",
            "[10:53:43] WARNING: /workspace/src/objective/regression_obj.cu:152: reg:linear is now deprecated in favor of reg:squarederror.\n",
            "[10:53:46] WARNING: /workspace/src/objective/regression_obj.cu:152: reg:linear is now deprecated in favor of reg:squarederror.\n",
            "[10:53:49] WARNING: /workspace/src/objective/regression_obj.cu:152: reg:linear is now deprecated in favor of reg:squarederror.\n",
            "[10:53:54] WARNING: /workspace/src/objective/regression_obj.cu:152: reg:linear is now deprecated in favor of reg:squarederror.\n",
            "[10:53:57] WARNING: /workspace/src/objective/regression_obj.cu:152: reg:linear is now deprecated in favor of reg:squarederror.\n",
            "[10:54:01] WARNING: /workspace/src/objective/regression_obj.cu:152: reg:linear is now deprecated in favor of reg:squarederror.\n",
            "[10:54:04] WARNING: /workspace/src/objective/regression_obj.cu:152: reg:linear is now deprecated in favor of reg:squarederror.\n",
            "[10:54:08] WARNING: /workspace/src/objective/regression_obj.cu:152: reg:linear is now deprecated in favor of reg:squarederror.\n",
            "[10:54:11] WARNING: /workspace/src/objective/regression_obj.cu:152: reg:linear is now deprecated in favor of reg:squarederror.\n",
            "[10:54:14] WARNING: /workspace/src/objective/regression_obj.cu:152: reg:linear is now deprecated in favor of reg:squarederror.\n",
            "[10:54:18] WARNING: /workspace/src/objective/regression_obj.cu:152: reg:linear is now deprecated in favor of reg:squarederror.\n",
            "[10:54:21] WARNING: /workspace/src/objective/regression_obj.cu:152: reg:linear is now deprecated in favor of reg:squarederror.\n",
            "[10:54:25] WARNING: /workspace/src/objective/regression_obj.cu:152: reg:linear is now deprecated in favor of reg:squarederror.\n",
            "[10:54:28] WARNING: /workspace/src/objective/regression_obj.cu:152: reg:linear is now deprecated in favor of reg:squarederror.\n",
            "[10:54:32] WARNING: /workspace/src/objective/regression_obj.cu:152: reg:linear is now deprecated in favor of reg:squarederror.\n",
            "[10:54:35] WARNING: /workspace/src/objective/regression_obj.cu:152: reg:linear is now deprecated in favor of reg:squarederror.\n",
            "[10:54:40] WARNING: /workspace/src/objective/regression_obj.cu:152: reg:linear is now deprecated in favor of reg:squarederror.\n",
            "[10:54:44] WARNING: /workspace/src/objective/regression_obj.cu:152: reg:linear is now deprecated in favor of reg:squarederror.\n",
            "[10:54:47] WARNING: /workspace/src/objective/regression_obj.cu:152: reg:linear is now deprecated in favor of reg:squarederror.\n",
            "[10:54:51] WARNING: /workspace/src/objective/regression_obj.cu:152: reg:linear is now deprecated in favor of reg:squarederror.\n",
            "[10:54:54] WARNING: /workspace/src/objective/regression_obj.cu:152: reg:linear is now deprecated in favor of reg:squarederror.\n",
            "[10:54:58] WARNING: /workspace/src/objective/regression_obj.cu:152: reg:linear is now deprecated in favor of reg:squarederror.\n",
            "[10:55:01] WARNING: /workspace/src/objective/regression_obj.cu:152: reg:linear is now deprecated in favor of reg:squarederror.\n",
            "[10:55:04] WARNING: /workspace/src/objective/regression_obj.cu:152: reg:linear is now deprecated in favor of reg:squarederror.\n",
            "[10:55:08] WARNING: /workspace/src/objective/regression_obj.cu:152: reg:linear is now deprecated in favor of reg:squarederror.\n",
            "[10:55:11] WARNING: /workspace/src/objective/regression_obj.cu:152: reg:linear is now deprecated in favor of reg:squarederror.\n",
            "[10:55:15] WARNING: /workspace/src/objective/regression_obj.cu:152: reg:linear is now deprecated in favor of reg:squarederror.\n",
            "[10:55:18] WARNING: /workspace/src/objective/regression_obj.cu:152: reg:linear is now deprecated in favor of reg:squarederror.\n",
            "[10:55:22] WARNING: /workspace/src/objective/regression_obj.cu:152: reg:linear is now deprecated in favor of reg:squarederror.\n",
            "[10:55:25] WARNING: /workspace/src/objective/regression_obj.cu:152: reg:linear is now deprecated in favor of reg:squarederror.\n",
            "[10:55:28] WARNING: /workspace/src/objective/regression_obj.cu:152: reg:linear is now deprecated in favor of reg:squarederror.\n",
            "[10:55:32] WARNING: /workspace/src/objective/regression_obj.cu:152: reg:linear is now deprecated in favor of reg:squarederror.\n",
            "[10:55:35] WARNING: /workspace/src/objective/regression_obj.cu:152: reg:linear is now deprecated in favor of reg:squarederror.\n",
            "[10:55:39] WARNING: /workspace/src/objective/regression_obj.cu:152: reg:linear is now deprecated in favor of reg:squarederror.\n",
            "[10:55:42] WARNING: /workspace/src/objective/regression_obj.cu:152: reg:linear is now deprecated in favor of reg:squarederror.\n",
            "[10:55:46] WARNING: /workspace/src/objective/regression_obj.cu:152: reg:linear is now deprecated in favor of reg:squarederror.\n",
            "[10:55:49] WARNING: /workspace/src/objective/regression_obj.cu:152: reg:linear is now deprecated in favor of reg:squarederror.\n",
            "[10:55:52] WARNING: /workspace/src/objective/regression_obj.cu:152: reg:linear is now deprecated in favor of reg:squarederror.\n",
            "[10:55:56] WARNING: /workspace/src/objective/regression_obj.cu:152: reg:linear is now deprecated in favor of reg:squarederror.\n",
            "[10:55:59] WARNING: /workspace/src/objective/regression_obj.cu:152: reg:linear is now deprecated in favor of reg:squarederror.\n",
            "[10:56:03] WARNING: /workspace/src/objective/regression_obj.cu:152: reg:linear is now deprecated in favor of reg:squarederror.\n",
            "[10:56:06] WARNING: /workspace/src/objective/regression_obj.cu:152: reg:linear is now deprecated in favor of reg:squarederror.\n",
            "[10:56:10] WARNING: /workspace/src/objective/regression_obj.cu:152: reg:linear is now deprecated in favor of reg:squarederror.\n",
            "[10:56:13] WARNING: /workspace/src/objective/regression_obj.cu:152: reg:linear is now deprecated in favor of reg:squarederror.\n",
            "[10:56:16] WARNING: /workspace/src/objective/regression_obj.cu:152: reg:linear is now deprecated in favor of reg:squarederror.\n",
            "Best parameters: {'min_samples_split': 2}\n"
          ]
        }
      ]
    },
    {
      "cell_type": "code",
      "source": [
        "XGBModel = XGBRegressor(random_state=42,n_estimators=700,max_depth=6,min_samples_split=2)\n",
        "XGBModel.fit(x_train,y_train)\n",
        "y_pred_xgbr = XGBModel.predict(x_test)"
      ],
      "metadata": {
        "colab": {
          "base_uri": "https://localhost:8080/"
        },
        "id": "JiXw4bW0_rw4",
        "outputId": "abc864a8-8937-48bb-d5d3-392b2da57d52"
      },
      "execution_count": null,
      "outputs": [
        {
          "output_type": "stream",
          "name": "stdout",
          "text": [
            "[17:31:27] WARNING: /workspace/src/objective/regression_obj.cu:152: reg:linear is now deprecated in favor of reg:squarederror.\n"
          ]
        }
      ]
    },
    {
      "cell_type": "code",
      "source": [
        "xgbr_r2_score = r2_score(np.array(y_test), np.array(y_pred_xgbr))\n",
        "xgbr_r2_score"
      ],
      "metadata": {
        "id": "CdhU2gvtBC5i",
        "colab": {
          "base_uri": "https://localhost:8080/"
        },
        "outputId": "cf75bfa9-3883-4d17-db8f-fbc9048e4c27"
      },
      "execution_count": null,
      "outputs": [
        {
          "output_type": "execute_result",
          "data": {
            "text/plain": [
              "0.851489986720672"
            ]
          },
          "metadata": {},
          "execution_count": 88
        }
      ]
    },
    {
      "cell_type": "code",
      "source": [
        "xgbr_mae=mean_absolute_error(np.array(y_test), np.array(y_pred_xgbr))\n",
        "xgbr_mae"
      ],
      "metadata": {
        "colab": {
          "base_uri": "https://localhost:8080/"
        },
        "id": "CyLOJcvMYNZx",
        "outputId": "b44a8d4a-29e9-470a-ad45-7835a9fb8c54"
      },
      "execution_count": null,
      "outputs": [
        {
          "output_type": "execute_result",
          "data": {
            "text/plain": [
              "719.462792473613"
            ]
          },
          "metadata": {},
          "execution_count": 89
        }
      ]
    },
    {
      "cell_type": "code",
      "source": [
        "xgbr_mse=mean_squared_error(np.array(y_test), np.array(y_pred_xgbr))\n",
        "xgbr_mse"
      ],
      "metadata": {
        "colab": {
          "base_uri": "https://localhost:8080/"
        },
        "id": "njLozkmoYVIb",
        "outputId": "93afc705-82d5-48b5-ac65-c90c262f1988"
      },
      "execution_count": null,
      "outputs": [
        {
          "output_type": "execute_result",
          "data": {
            "text/plain": [
              "3285420.717097935"
            ]
          },
          "metadata": {},
          "execution_count": 90
        }
      ]
    },
    {
      "cell_type": "code",
      "source": [
        "plt.subplots(figsize=(8, 4))\n",
        "sns.distplot(y_test-y_pred_xgbr)\n",
        "plt.title('Distribution of Difference in Predicted Value')\n",
        "plt.show()"
      ],
      "metadata": {
        "colab": {
          "base_uri": "https://localhost:8080/",
          "height": 295
        },
        "id": "8o3hpYqYZRch",
        "outputId": "736f34f5-66da-469b-f539-f44c49307105"
      },
      "execution_count": null,
      "outputs": [
        {
          "output_type": "display_data",
          "data": {
            "text/plain": [
              "<Figure size 576x288 with 1 Axes>"
            ],
            "image/png": "[encoded data removed]"
          },
          "metadata": {
            "needs_background": "light"
          }
        }
      ]
    },
    {
      "cell_type": "markdown",
      "source": [
        "## Light GBM Regressor"
      ],
      "metadata": {
        "id": "tY29OsjbBIAe"
      }
    },
    {
      "cell_type": "code",
      "source": [
        "tree_para = {\"n_estimators\":[100,200,300,400,500,600,700,800,900,1000]}\n",
        "clf = GridSearchCV(LGBMRegressor(random_state=42), tree_para, cv=5)\n",
        "(clf.fit(x_train, y_train))\n",
        "y_pred=clf.predict(x_test)\n",
        "print(\"Best parameters:\", clf.best_params_)"
      ],
      "metadata": {
        "colab": {
          "base_uri": "https://localhost:8080/"
        },
        "id": "MxB0Kcr4-DVb",
        "outputId": "ecfd9a89-0bee-4ba8-c7e8-311299770a77"
      },
      "execution_count": null,
      "outputs": [
        {
          "output_type": "stream",
          "name": "stdout",
          "text": [
            "Best parameters: {'n_estimators': 700}\n"
          ]
        }
      ]
    },
    {
      "cell_type": "code",
      "source": [
        "tree_para = {\"max_depth\":[2,3,4,5,6,7,8,9,10,11,12,13,14,15]}\n",
        "clf = GridSearchCV(LGBMRegressor(random_state=42,n_estimators=700,), tree_para, cv=5)\n",
        "(clf.fit(x_train, y_train))\n",
        "y_pred=clf.predict(x_test)\n",
        "print(\"Best parameters:\", clf.best_params_)"
      ],
      "metadata": {
        "colab": {
          "base_uri": "https://localhost:8080/"
        },
        "id": "5RmiNQ4e-aLp",
        "outputId": "b8db8655-a6c4-4c4d-a8ec-517c8d431562"
      },
      "execution_count": null,
      "outputs": [
        {
          "output_type": "stream",
          "name": "stdout",
          "text": [
            "Best parameters: {'max_depth': 15}\n"
          ]
        }
      ]
    },
    {
      "cell_type": "code",
      "source": [
        "tree_para = {\"min_samples_split\":[2,3,4,5,6,7,8,9,10,11,12,13,14,15,16,17,18]}\n",
        "clf = GridSearchCV(LGBMRegressor(random_state=42,n_estimators=700,max_depth=15), tree_para, cv=5)\n",
        "(clf.fit(x_train, y_train))\n",
        "y_pred=clf.predict(x_test)\n",
        "print(\"Best parameters:\", clf.best_params_)"
      ],
      "metadata": {
        "colab": {
          "base_uri": "https://localhost:8080/"
        },
        "id": "b0gLjapIB-kF",
        "outputId": "0ff17758-6540-4f76-f8fe-c6928246bd1d"
      },
      "execution_count": null,
      "outputs": [
        {
          "output_type": "stream",
          "name": "stdout",
          "text": [
            "Best parameters: {'min_samples_split': 2}\n"
          ]
        }
      ]
    },
    {
      "cell_type": "code",
      "source": [
        "lgbm = LGBMRegressor(random_state=42,n_estimators=700,max_depth=15,min_samples_split=2)\n",
        "lgbm.fit(x_train,y_train)\n",
        "y_pred_lgbm = lgbm.predict(x_test)"
      ],
      "metadata": {
        "id": "OfNEpQpEa7KP"
      },
      "execution_count": null,
      "outputs": []
    },
    {
      "cell_type": "code",
      "source": [
        "lgbm_r2_score = r2_score(np.array(y_test), np.array(y_pred_lgbm))\n",
        "lgbm_r2_score"
      ],
      "metadata": {
        "colab": {
          "base_uri": "https://localhost:8080/"
        },
        "id": "SZ32YftLa-Fu",
        "outputId": "50f151ed-172b-4018-bce2-bd1f2452b976"
      },
      "execution_count": null,
      "outputs": [
        {
          "output_type": "execute_result",
          "data": {
            "text/plain": [
              "0.8756516986988021"
            ]
          },
          "metadata": {},
          "execution_count": 93
        }
      ]
    },
    {
      "cell_type": "code",
      "source": [
        "lgbm_mae = mean_absolute_error(np.array(y_test), np.array(y_pred_lgbm))\n",
        "lgbm_mae"
      ],
      "metadata": {
        "colab": {
          "base_uri": "https://localhost:8080/"
        },
        "id": "aiTDb0jeYdKB",
        "outputId": "9ee512ec-5fbd-4ecb-812b-71ddf2821056"
      },
      "execution_count": null,
      "outputs": [
        {
          "output_type": "execute_result",
          "data": {
            "text/plain": [
              "739.687519804976"
            ]
          },
          "metadata": {},
          "execution_count": 94
        }
      ]
    },
    {
      "cell_type": "code",
      "source": [
        "lgbm_mse = mean_squared_error(np.array(y_test), np.array(y_pred_lgbm))\n",
        "lgbm_mse"
      ],
      "metadata": {
        "colab": {
          "base_uri": "https://localhost:8080/"
        },
        "id": "FJxGYcGoYiEz",
        "outputId": "7f9947dc-396b-44a2-ee90-94bbf4006376"
      },
      "execution_count": null,
      "outputs": [
        {
          "output_type": "execute_result",
          "data": {
            "text/plain": [
              "2750901.9507155227"
            ]
          },
          "metadata": {},
          "execution_count": 95
        }
      ]
    },
    {
      "cell_type": "code",
      "source": [
        "plt.subplots(figsize=(8, 4))\n",
        "sns.distplot(y_test-y_pred_lgbm)\n",
        "plt.title('Distribution of Difference in Predicted Value')\n",
        "plt.show()"
      ],
      "metadata": {
        "colab": {
          "base_uri": "https://localhost:8080/",
          "height": 295
        },
        "id": "mrQoiWSDZU3R",
        "outputId": "df098881-4b41-4e47-d8d2-e2fdebe3f422"
      },
      "execution_count": null,
      "outputs": [
        {
          "output_type": "display_data",
          "data": {
            "text/plain": [
              "<Figure size 576x288 with 1 Axes>"
            ],
            "image/png": "[encoded data removed]"
          },
          "metadata": {
            "needs_background": "light"
          }
        }
      ]
    },
    {
      "cell_type": "markdown",
      "source": [
        "## SVM"
      ],
      "metadata": {
        "id": "CJauXaGNBcGB"
      }
    },
    {
      "cell_type": "code",
      "source": [
        "svm = make_pipeline(SVC(gamma='auto'))\n",
        "svm.fit(x_train, y_train)\n",
        "y_pred_svm=svm.predict(x_test)"
      ],
      "metadata": {
        "id": "pwUGD5NvBdQp"
      },
      "execution_count": null,
      "outputs": []
    },
    {
      "cell_type": "code",
      "source": [
        "svm_r2_score = r2_score(np.array(y_test), np.array(y_pred_svm))\n",
        "svm_r2_score"
      ],
      "metadata": {
        "colab": {
          "base_uri": "https://localhost:8080/"
        },
        "id": "KB0bomgnBhiZ",
        "outputId": "77ddc57d-0011-4c1c-94f6-1f14399320a8"
      },
      "execution_count": null,
      "outputs": [
        {
          "output_type": "execute_result",
          "data": {
            "text/plain": [
              "0.5413707491540307"
            ]
          },
          "metadata": {},
          "execution_count": 97
        }
      ]
    },
    {
      "cell_type": "code",
      "source": [
        "svm_mae = mean_absolute_error(np.array(y_test), np.array(y_pred_svm))\n",
        "svm_mae"
      ],
      "metadata": {
        "colab": {
          "base_uri": "https://localhost:8080/"
        },
        "id": "Iy_B_lV9Y6EQ",
        "outputId": "d5a48cbb-7820-4c31-8cfb-9d4e170dd00c"
      },
      "execution_count": null,
      "outputs": [
        {
          "output_type": "execute_result",
          "data": {
            "text/plain": [
              "1719.1244929797192"
            ]
          },
          "metadata": {},
          "execution_count": 98
        }
      ]
    },
    {
      "cell_type": "code",
      "source": [
        "svm_mse = mean_squared_error(np.array(y_test), np.array(y_pred_svm))\n",
        "svm_mse"
      ],
      "metadata": {
        "colab": {
          "base_uri": "https://localhost:8080/"
        },
        "id": "ptnF6POMY9OD",
        "outputId": "f0e39b19-8b95-43c9-a1f8-cdcbfa5c2e46"
      },
      "execution_count": null,
      "outputs": [
        {
          "output_type": "execute_result",
          "data": {
            "text/plain": [
              "10146050.147893915"
            ]
          },
          "metadata": {},
          "execution_count": 99
        }
      ]
    },
    {
      "cell_type": "code",
      "source": [
        "plt.subplots(figsize=(8, 4))\n",
        "sns.distplot(y_test-y_pred_svm)\n",
        "plt.title('Distribution of Difference in Predicted Value')\n",
        "plt.show()"
      ],
      "metadata": {
        "colab": {
          "base_uri": "https://localhost:8080/",
          "height": 295
        },
        "id": "JvoexjwNZW85",
        "outputId": "de20f81f-1fad-4528-9151-e7ace32c4f71"
      },
      "execution_count": null,
      "outputs": [
        {
          "output_type": "display_data",
          "data": {
            "text/plain": [
              "<Figure size 576x288 with 1 Axes>"
            ],
            "image/png": "[encoded data removed]"
          },
          "metadata": {
            "needs_background": "light"
          }
        }
      ]
    },
    {
      "cell_type": "markdown",
      "source": [
        "## Logistic Regression"
      ],
      "metadata": {
        "id": "Dxx3OwmGBURU"
      }
    },
    {
      "cell_type": "code",
      "source": [
        "lgr = LinearRegression()\n",
        "lgr.fit(x_train, y_train)\n",
        "y_pred_lgr=lgr.predict(x_test)"
      ],
      "metadata": {
        "id": "8DysQ4P9BWLI"
      },
      "execution_count": null,
      "outputs": []
    },
    {
      "cell_type": "code",
      "source": [
        "lgr_r2_score = r2_score(np.array(y_test), np.array(y_pred_lgr))\n",
        "lgr_r2_score"
      ],
      "metadata": {
        "colab": {
          "base_uri": "https://localhost:8080/"
        },
        "id": "lfp3APUwBXE6",
        "outputId": "120b1568-42c2-4d43-9c81-0faaea75c1e9"
      },
      "execution_count": null,
      "outputs": [
        {
          "output_type": "execute_result",
          "data": {
            "text/plain": [
              "0.4377395857436972"
            ]
          },
          "metadata": {},
          "execution_count": 101
        }
      ]
    },
    {
      "cell_type": "code",
      "source": [
        "lgr_mae = mean_absolute_error(np.array(y_test), np.array(y_pred_lgr))\n",
        "lgr_mae"
      ],
      "metadata": {
        "colab": {
          "base_uri": "https://localhost:8080/"
        },
        "id": "ao8apA5-ZE7e",
        "outputId": "703d5aa0-064d-4c59-880a-346c0ba8bf27"
      },
      "execution_count": null,
      "outputs": [
        {
          "output_type": "execute_result",
          "data": {
            "text/plain": [
              "2466.073393363479"
            ]
          },
          "metadata": {},
          "execution_count": 102
        }
      ]
    },
    {
      "cell_type": "code",
      "source": [
        "lgr_mse = mean_squared_error(np.array(y_test), np.array(y_pred_lgr))\n",
        "lgr_mse"
      ],
      "metadata": {
        "colab": {
          "base_uri": "https://localhost:8080/"
        },
        "id": "A3PuWma5ZIeU",
        "outputId": "d6a1aa5f-f5af-4f47-f062-24016baeabc2"
      },
      "execution_count": null,
      "outputs": [
        {
          "output_type": "execute_result",
          "data": {
            "text/plain": [
              "12438636.106827796"
            ]
          },
          "metadata": {},
          "execution_count": 103
        }
      ]
    },
    {
      "cell_type": "code",
      "source": [
        "plt.subplots(figsize=(8, 4))\n",
        "sns.distplot(y_test-y_pred_lgr)\n",
        "plt.title('Distribution of Difference in Predicted Value')\n",
        "plt.show()"
      ],
      "metadata": {
        "colab": {
          "base_uri": "https://localhost:8080/",
          "height": 295
        },
        "id": "gWHbX7yCZZgv",
        "outputId": "41cb89fe-8108-463a-d0ce-ab462b13095a"
      },
      "execution_count": null,
      "outputs": [
        {
          "output_type": "display_data",
          "data": {
            "text/plain": [
              "<Figure size 576x288 with 1 Axes>"
            ],
            "image/png": "[encoded data removed]"
          },
          "metadata": {
            "needs_background": "light"
          }
        }
      ]
    },
    {
      "cell_type": "markdown",
      "source": [
        "## Deep Neural Network"
      ],
      "metadata": {
        "id": "fGcY67PeSjtk"
      }
    },
    {
      "cell_type": "code",
      "source": [
        "x_train = tf.cast(x_train, tf.float32) \n",
        "y_train=tf.cast(y_train,tf.float32)\n",
        "x_test = tf.cast(x_test, tf.float32) \n",
        "y_test=tf.cast(y_test,tf.float32)"
      ],
      "metadata": {
        "id": "8Zt_vYYNQpoH"
      },
      "execution_count": null,
      "outputs": []
    },
    {
      "cell_type": "code",
      "source": [
        "model = Sequential()\n",
        "model.add(Dense(32, activation='relu'))\n",
        "model.add(Dense(64,activation='relu'))\n",
        "model.add(Dense(128,activation='relu'))\n",
        "model.add(Dense(256,activation='relu'))\n",
        "model.add(Dense(512,activation='relu'))\n",
        "model.add(Dense(1,activation='relu'))"
      ],
      "metadata": {
        "id": "GbgF3lQcSmNM"
      },
      "execution_count": null,
      "outputs": []
    },
    {
      "cell_type": "code",
      "source": [
        "model.compile(loss='mean_squared_error', optimizer='adam')"
      ],
      "metadata": {
        "id": "66Isxwe-S-3n"
      },
      "execution_count": null,
      "outputs": []
    },
    {
      "cell_type": "code",
      "source": [
        "model.summary()"
      ],
      "metadata": {
        "colab": {
          "base_uri": "https://localhost:8080/"
        },
        "id": "jicxP0PrS2GO",
        "outputId": "140af1fd-d951-4872-914e-a28ffb25bd2c"
      },
      "execution_count": null,
      "outputs": [
        {
          "output_type": "stream",
          "name": "stdout",
          "text": [
            "Model: \"sequential\"\n",
            "_________________________________________________________________\n",
            " Layer (type)                Output Shape              Param #   \n",
            "=================================================================\n",
            " dense (Dense)               (None, 32)                320       \n",
            "                                                                 \n",
            " dense_1 (Dense)             (None, 64)                2112      \n",
            "                                                                 \n",
            " dense_2 (Dense)             (None, 128)               8320      \n",
            "                                                                 \n",
            " dense_3 (Dense)             (None, 256)               33024     \n",
            "                                                                 \n",
            " dense_4 (Dense)             (None, 512)               131584    \n",
            "                                                                 \n",
            " dense_5 (Dense)             (None, 1)                 513       \n",
            "                                                                 \n",
            "=================================================================\n",
            "Total params: 175,873\n",
            "Trainable params: 175,873\n",
            "Non-trainable params: 0\n",
            "_________________________________________________________________\n"
          ]
        }
      ]
    },
    {
      "cell_type": "code",
      "source": [
        "history=model.fit(x_train,y_train,epochs=250)"
      ],
      "metadata": {
        "colab": {
          "base_uri": "https://localhost:8080/"
        },
        "id": "98KH_gGvTCE3",
        "outputId": "772c849d-ad29-478f-fe46-a6d44db258fe"
      },
      "execution_count": null,
      "outputs": [
        {
          "output_type": "stream",
          "name": "stdout",
          "text": [
            "Epoch 1/250\n",
            "234/234 [==============================] - 3s 6ms/step - loss: 31409510.0000\n",
            "Epoch 2/250\n",
            "234/234 [==============================] - 1s 6ms/step - loss: 12641754.0000\n",
            "Epoch 3/250\n",
            "234/234 [==============================] - 1s 5ms/step - loss: 11094664.0000\n",
            "Epoch 4/250\n",
            "234/234 [==============================] - 1s 4ms/step - loss: 10576627.0000\n",
            "Epoch 5/250\n",
            "234/234 [==============================] - 1s 4ms/step - loss: 10272544.0000\n",
            "Epoch 6/250\n",
            "234/234 [==============================] - 1s 5ms/step - loss: 9871712.0000\n",
            "Epoch 7/250\n",
            "234/234 [==============================] - 2s 7ms/step - loss: 9438401.0000\n",
            "Epoch 8/250\n",
            "234/234 [==============================] - 2s 7ms/step - loss: 9114657.0000\n",
            "Epoch 9/250\n",
            "234/234 [==============================] - 2s 7ms/step - loss: 8713148.0000\n",
            "Epoch 10/250\n",
            "234/234 [==============================] - 2s 7ms/step - loss: 8396295.0000\n",
            "Epoch 11/250\n",
            "234/234 [==============================] - 1s 6ms/step - loss: 8010749.5000\n",
            "Epoch 12/250\n",
            "234/234 [==============================] - 2s 8ms/step - loss: 7742165.5000\n",
            "Epoch 13/250\n",
            "234/234 [==============================] - 1s 6ms/step - loss: 7611860.0000\n",
            "Epoch 14/250\n",
            "234/234 [==============================] - 2s 7ms/step - loss: 7349782.5000\n",
            "Epoch 15/250\n",
            "234/234 [==============================] - 2s 10ms/step - loss: 7286115.5000\n",
            "Epoch 16/250\n",
            "234/234 [==============================] - 1s 5ms/step - loss: 6970734.0000\n",
            "Epoch 17/250\n",
            "234/234 [==============================] - 1s 6ms/step - loss: 6856771.5000\n",
            "Epoch 18/250\n",
            "234/234 [==============================] - 1s 6ms/step - loss: 6606514.0000\n",
            "Epoch 19/250\n",
            "234/234 [==============================] - 1s 5ms/step - loss: 6412988.0000\n",
            "Epoch 20/250\n",
            "234/234 [==============================] - 1s 6ms/step - loss: 6313326.5000\n",
            "Epoch 21/250\n",
            "234/234 [==============================] - 1s 6ms/step - loss: 6233809.5000\n",
            "Epoch 22/250\n",
            "234/234 [==============================] - 2s 7ms/step - loss: 6193208.0000\n",
            "Epoch 23/250\n",
            "234/234 [==============================] - 2s 7ms/step - loss: 5959880.0000\n",
            "Epoch 24/250\n",
            "234/234 [==============================] - 2s 7ms/step - loss: 5799743.5000\n",
            "Epoch 25/250\n",
            "234/234 [==============================] - 2s 7ms/step - loss: 5685355.5000\n",
            "Epoch 26/250\n",
            "234/234 [==============================] - 1s 6ms/step - loss: 5542634.5000\n",
            "Epoch 27/250\n",
            "234/234 [==============================] - 2s 6ms/step - loss: 5532436.5000\n",
            "Epoch 28/250\n",
            "234/234 [==============================] - 2s 6ms/step - loss: 5438312.0000\n",
            "Epoch 29/250\n",
            "234/234 [==============================] - 1s 6ms/step - loss: 5421724.5000\n",
            "Epoch 30/250\n",
            "234/234 [==============================] - 2s 6ms/step - loss: 5339096.5000\n",
            "Epoch 31/250\n",
            "234/234 [==============================] - 2s 8ms/step - loss: 5339693.5000\n",
            "Epoch 32/250\n",
            "234/234 [==============================] - 2s 9ms/step - loss: 5136101.0000\n",
            "Epoch 33/250\n",
            "234/234 [==============================] - 2s 9ms/step - loss: 5037791.5000\n",
            "Epoch 34/250\n",
            "234/234 [==============================] - 2s 8ms/step - loss: 5075532.5000\n",
            "Epoch 35/250\n",
            "234/234 [==============================] - 2s 8ms/step - loss: 4789390.5000\n",
            "Epoch 36/250\n",
            "234/234 [==============================] - 2s 8ms/step - loss: 5108197.5000\n",
            "Epoch 37/250\n",
            "234/234 [==============================] - 2s 10ms/step - loss: 4762115.0000\n",
            "Epoch 38/250\n",
            "234/234 [==============================] - 2s 9ms/step - loss: 4860274.0000\n",
            "Epoch 39/250\n",
            "234/234 [==============================] - 2s 10ms/step - loss: 4739765.0000\n",
            "Epoch 40/250\n",
            "234/234 [==============================] - 2s 11ms/step - loss: 4404378.0000\n",
            "Epoch 41/250\n",
            "234/234 [==============================] - 2s 10ms/step - loss: 4390972.0000\n",
            "Epoch 42/250\n",
            "234/234 [==============================] - 2s 9ms/step - loss: 4367697.0000\n",
            "Epoch 43/250\n",
            "234/234 [==============================] - 2s 7ms/step - loss: 4359474.0000\n",
            "Epoch 44/250\n",
            "234/234 [==============================] - 2s 8ms/step - loss: 4437958.5000\n",
            "Epoch 45/250\n",
            "234/234 [==============================] - 2s 8ms/step - loss: 4197854.0000\n",
            "Epoch 46/250\n",
            "234/234 [==============================] - 2s 7ms/step - loss: 4173291.2500\n",
            "Epoch 47/250\n",
            "234/234 [==============================] - 2s 7ms/step - loss: 4232752.5000\n",
            "Epoch 48/250\n",
            "234/234 [==============================] - 2s 7ms/step - loss: 4064736.2500\n",
            "Epoch 49/250\n",
            "234/234 [==============================] - 2s 7ms/step - loss: 4117606.0000\n",
            "Epoch 50/250\n",
            "234/234 [==============================] - 2s 7ms/step - loss: 3903609.5000\n",
            "Epoch 51/250\n",
            "234/234 [==============================] - 3s 11ms/step - loss: 4102715.0000\n",
            "Epoch 52/250\n",
            "234/234 [==============================] - 2s 8ms/step - loss: 4005979.5000\n",
            "Epoch 53/250\n",
            "234/234 [==============================] - 2s 8ms/step - loss: 3981193.7500\n",
            "Epoch 54/250\n",
            "234/234 [==============================] - 2s 7ms/step - loss: 4140655.7500\n",
            "Epoch 55/250\n",
            "234/234 [==============================] - 2s 7ms/step - loss: 4006974.5000\n",
            "Epoch 56/250\n",
            "234/234 [==============================] - 2s 7ms/step - loss: 3891484.2500\n",
            "Epoch 57/250\n",
            "234/234 [==============================] - 2s 7ms/step - loss: 3821841.7500\n",
            "Epoch 58/250\n",
            "234/234 [==============================] - 2s 7ms/step - loss: 3884163.2500\n",
            "Epoch 59/250\n",
            "234/234 [==============================] - 2s 7ms/step - loss: 3799587.7500\n",
            "Epoch 60/250\n",
            "234/234 [==============================] - 2s 8ms/step - loss: 3881376.2500\n",
            "Epoch 61/250\n",
            "234/234 [==============================] - 2s 8ms/step - loss: 3801598.7500\n",
            "Epoch 62/250\n",
            "234/234 [==============================] - 2s 7ms/step - loss: 3898944.7500\n",
            "Epoch 63/250\n",
            "234/234 [==============================] - 2s 8ms/step - loss: 3742818.2500\n",
            "Epoch 64/250\n",
            "234/234 [==============================] - 2s 7ms/step - loss: 3770900.7500\n",
            "Epoch 65/250\n",
            "234/234 [==============================] - 2s 7ms/step - loss: 3852922.7500\n",
            "Epoch 66/250\n",
            "234/234 [==============================] - 2s 7ms/step - loss: 3745845.7500\n",
            "Epoch 67/250\n",
            "234/234 [==============================] - 3s 11ms/step - loss: 3581674.0000\n",
            "Epoch 68/250\n",
            "234/234 [==============================] - 2s 8ms/step - loss: 3807090.7500\n",
            "Epoch 69/250\n",
            "234/234 [==============================] - 2s 7ms/step - loss: 3789181.0000\n",
            "Epoch 70/250\n",
            "234/234 [==============================] - 2s 8ms/step - loss: 3768247.5000\n",
            "Epoch 71/250\n",
            "234/234 [==============================] - 2s 7ms/step - loss: 3516647.0000\n",
            "Epoch 72/250\n",
            "234/234 [==============================] - 2s 7ms/step - loss: 3639863.7500\n",
            "Epoch 73/250\n",
            "234/234 [==============================] - 2s 6ms/step - loss: 3668511.2500\n",
            "Epoch 74/250\n",
            "234/234 [==============================] - 2s 7ms/step - loss: 3528183.5000\n",
            "Epoch 75/250\n",
            "234/234 [==============================] - 2s 7ms/step - loss: 3554300.7500\n",
            "Epoch 76/250\n",
            "234/234 [==============================] - 2s 8ms/step - loss: 3650599.7500\n",
            "Epoch 77/250\n",
            "234/234 [==============================] - 2s 7ms/step - loss: 3555296.7500\n",
            "Epoch 78/250\n",
            "234/234 [==============================] - 2s 6ms/step - loss: 3487564.2500\n",
            "Epoch 79/250\n",
            "234/234 [==============================] - 2s 7ms/step - loss: 3708274.2500\n",
            "Epoch 80/250\n",
            "234/234 [==============================] - 1s 6ms/step - loss: 3531602.5000\n",
            "Epoch 81/250\n",
            "234/234 [==============================] - 2s 6ms/step - loss: 3550038.0000\n",
            "Epoch 82/250\n",
            "234/234 [==============================] - 2s 7ms/step - loss: 3444294.2500\n",
            "Epoch 83/250\n",
            "234/234 [==============================] - 2s 8ms/step - loss: 3594569.5000\n",
            "Epoch 84/250\n",
            "234/234 [==============================] - 2s 7ms/step - loss: 3593483.5000\n",
            "Epoch 85/250\n",
            "234/234 [==============================] - 2s 7ms/step - loss: 3758373.0000\n",
            "Epoch 86/250\n",
            "234/234 [==============================] - 2s 7ms/step - loss: 3460670.2500\n",
            "Epoch 87/250\n",
            "234/234 [==============================] - 2s 7ms/step - loss: 3624427.2500\n",
            "Epoch 88/250\n",
            "234/234 [==============================] - 2s 9ms/step - loss: 3345043.0000\n",
            "Epoch 89/250\n",
            "234/234 [==============================] - 2s 9ms/step - loss: 3393954.5000\n",
            "Epoch 90/250\n",
            "234/234 [==============================] - 2s 9ms/step - loss: 3440257.0000\n",
            "Epoch 91/250\n",
            "234/234 [==============================] - 2s 10ms/step - loss: 3331713.7500\n",
            "Epoch 92/250\n",
            "234/234 [==============================] - 2s 9ms/step - loss: 3376866.5000\n",
            "Epoch 93/250\n",
            "234/234 [==============================] - 2s 9ms/step - loss: 3386840.0000\n",
            "Epoch 94/250\n",
            "234/234 [==============================] - 2s 10ms/step - loss: 3475835.7500\n",
            "Epoch 95/250\n",
            "234/234 [==============================] - 2s 9ms/step - loss: 3338902.2500\n",
            "Epoch 96/250\n",
            "234/234 [==============================] - 2s 9ms/step - loss: 3548145.5000\n",
            "Epoch 97/250\n",
            "234/234 [==============================] - 2s 9ms/step - loss: 3452883.2500\n",
            "Epoch 98/250\n",
            "234/234 [==============================] - 2s 10ms/step - loss: 3270421.7500\n",
            "Epoch 99/250\n",
            "234/234 [==============================] - 2s 9ms/step - loss: 3338972.7500\n",
            "Epoch 100/250\n",
            "234/234 [==============================] - 2s 9ms/step - loss: 3396938.7500\n",
            "Epoch 101/250\n",
            "234/234 [==============================] - 2s 9ms/step - loss: 3232649.7500\n",
            "Epoch 102/250\n",
            "234/234 [==============================] - 2s 10ms/step - loss: 3335652.7500\n",
            "Epoch 103/250\n",
            "234/234 [==============================] - 2s 9ms/step - loss: 3431053.0000\n",
            "Epoch 104/250\n",
            "234/234 [==============================] - 2s 9ms/step - loss: 3336761.7500\n",
            "Epoch 105/250\n",
            "234/234 [==============================] - 2s 9ms/step - loss: 3291144.7500\n",
            "Epoch 106/250\n",
            "234/234 [==============================] - 2s 9ms/step - loss: 3438113.7500\n",
            "Epoch 107/250\n",
            "234/234 [==============================] - 2s 8ms/step - loss: 3432350.7500\n",
            "Epoch 108/250\n",
            "234/234 [==============================] - 2s 9ms/step - loss: 3433335.5000\n",
            "Epoch 109/250\n",
            "234/234 [==============================] - 2s 10ms/step - loss: 3373378.7500\n",
            "Epoch 110/250\n",
            "234/234 [==============================] - 2s 7ms/step - loss: 3284867.2500\n",
            "Epoch 111/250\n",
            "234/234 [==============================] - 2s 6ms/step - loss: 3357174.5000\n",
            "Epoch 112/250\n",
            "234/234 [==============================] - 1s 6ms/step - loss: 3129889.0000\n",
            "Epoch 113/250\n",
            "234/234 [==============================] - 2s 7ms/step - loss: 3310210.0000\n",
            "Epoch 114/250\n",
            "234/234 [==============================] - 2s 7ms/step - loss: 3246118.2500\n",
            "Epoch 115/250\n",
            "234/234 [==============================] - 2s 7ms/step - loss: 3156348.5000\n",
            "Epoch 116/250\n",
            "234/234 [==============================] - 2s 7ms/step - loss: 3324349.7500\n",
            "Epoch 117/250\n",
            "234/234 [==============================] - 2s 7ms/step - loss: 3268819.7500\n",
            "Epoch 118/250\n",
            "234/234 [==============================] - 2s 7ms/step - loss: 3178511.0000\n",
            "Epoch 119/250\n",
            "234/234 [==============================] - 2s 7ms/step - loss: 3252759.7500\n",
            "Epoch 120/250\n",
            "234/234 [==============================] - 2s 7ms/step - loss: 3156775.7500\n",
            "Epoch 121/250\n",
            "234/234 [==============================] - 2s 10ms/step - loss: 3276169.7500\n",
            "Epoch 122/250\n",
            "234/234 [==============================] - 2s 8ms/step - loss: 3488840.2500\n",
            "Epoch 123/250\n",
            "234/234 [==============================] - 2s 7ms/step - loss: 3184176.7500\n",
            "Epoch 124/250\n",
            "234/234 [==============================] - 2s 7ms/step - loss: 3172559.2500\n",
            "Epoch 125/250\n",
            "234/234 [==============================] - 2s 7ms/step - loss: 3271577.2500\n",
            "Epoch 126/250\n",
            "234/234 [==============================] - 2s 7ms/step - loss: 3243807.5000\n",
            "Epoch 127/250\n",
            "234/234 [==============================] - 2s 7ms/step - loss: 3226554.5000\n",
            "Epoch 128/250\n",
            "234/234 [==============================] - 2s 7ms/step - loss: 3105953.0000\n",
            "Epoch 129/250\n",
            "234/234 [==============================] - 2s 7ms/step - loss: 3161902.5000\n",
            "Epoch 130/250\n",
            "234/234 [==============================] - 2s 7ms/step - loss: 3143634.2500\n",
            "Epoch 131/250\n",
            "234/234 [==============================] - 2s 7ms/step - loss: 3182668.2500\n",
            "Epoch 132/250\n",
            "234/234 [==============================] - 1s 6ms/step - loss: 3082657.5000\n",
            "Epoch 133/250\n",
            "234/234 [==============================] - 2s 7ms/step - loss: 3091492.2500\n",
            "Epoch 134/250\n",
            "234/234 [==============================] - 2s 7ms/step - loss: 3080459.0000\n",
            "Epoch 135/250\n",
            "234/234 [==============================] - 2s 7ms/step - loss: 3246012.5000\n",
            "Epoch 136/250\n",
            "234/234 [==============================] - 2s 7ms/step - loss: 3055327.5000\n",
            "Epoch 137/250\n",
            "234/234 [==============================] - 2s 7ms/step - loss: 3313861.7500\n",
            "Epoch 138/250\n",
            "234/234 [==============================] - 2s 6ms/step - loss: 3087315.5000\n",
            "Epoch 139/250\n",
            "234/234 [==============================] - 2s 7ms/step - loss: 3033464.2500\n",
            "Epoch 140/250\n",
            "234/234 [==============================] - 1s 6ms/step - loss: 3108482.5000\n",
            "Epoch 141/250\n",
            "234/234 [==============================] - 2s 7ms/step - loss: 3042964.7500\n",
            "Epoch 142/250\n",
            "234/234 [==============================] - 2s 7ms/step - loss: 3060902.0000\n",
            "Epoch 143/250\n",
            "234/234 [==============================] - 2s 6ms/step - loss: 3046607.0000\n",
            "Epoch 144/250\n",
            "234/234 [==============================] - 1s 6ms/step - loss: 3125330.7500\n",
            "Epoch 145/250\n",
            "234/234 [==============================] - 2s 7ms/step - loss: 3053080.7500\n",
            "Epoch 146/250\n",
            "234/234 [==============================] - 2s 7ms/step - loss: 3041949.2500\n",
            "Epoch 147/250\n",
            "234/234 [==============================] - 2s 6ms/step - loss: 3171095.0000\n",
            "Epoch 148/250\n",
            "234/234 [==============================] - 2s 7ms/step - loss: 3086680.7500\n",
            "Epoch 149/250\n",
            "234/234 [==============================] - 2s 7ms/step - loss: 3171667.5000\n",
            "Epoch 150/250\n",
            "234/234 [==============================] - 2s 7ms/step - loss: 3076414.5000\n",
            "Epoch 151/250\n",
            "234/234 [==============================] - 2s 7ms/step - loss: 3099784.7500\n",
            "Epoch 152/250\n",
            "234/234 [==============================] - 2s 7ms/step - loss: 3071659.5000\n",
            "Epoch 153/250\n",
            "234/234 [==============================] - 2s 7ms/step - loss: 3052340.5000\n",
            "Epoch 154/250\n",
            "234/234 [==============================] - 2s 7ms/step - loss: 3071076.5000\n",
            "Epoch 155/250\n",
            "234/234 [==============================] - 2s 7ms/step - loss: 3001784.5000\n",
            "Epoch 156/250\n",
            "234/234 [==============================] - 2s 7ms/step - loss: 2979421.2500\n",
            "Epoch 157/250\n",
            "234/234 [==============================] - 2s 7ms/step - loss: 3083146.7500\n",
            "Epoch 158/250\n",
            "234/234 [==============================] - 2s 7ms/step - loss: 3080455.2500\n",
            "Epoch 159/250\n",
            "234/234 [==============================] - 2s 9ms/step - loss: 2915571.2500\n",
            "Epoch 160/250\n",
            "234/234 [==============================] - 2s 9ms/step - loss: 2951204.5000\n",
            "Epoch 161/250\n",
            "234/234 [==============================] - 2s 7ms/step - loss: 3075280.0000\n",
            "Epoch 162/250\n",
            "234/234 [==============================] - 2s 7ms/step - loss: 2857163.7500\n",
            "Epoch 163/250\n",
            "234/234 [==============================] - 2s 7ms/step - loss: 3007209.5000\n",
            "Epoch 164/250\n",
            "234/234 [==============================] - 2s 7ms/step - loss: 2999171.0000\n",
            "Epoch 165/250\n",
            "234/234 [==============================] - 2s 7ms/step - loss: 2936657.2500\n",
            "Epoch 166/250\n",
            "234/234 [==============================] - 1s 6ms/step - loss: 2945782.0000\n",
            "Epoch 167/250\n",
            "234/234 [==============================] - 1s 6ms/step - loss: 3022272.0000\n",
            "Epoch 168/250\n",
            "234/234 [==============================] - 2s 6ms/step - loss: 2931118.7500\n",
            "Epoch 169/250\n",
            "234/234 [==============================] - 1s 6ms/step - loss: 3124030.5000\n",
            "Epoch 170/250\n",
            "234/234 [==============================] - 1s 6ms/step - loss: 3038545.5000\n",
            "Epoch 171/250\n",
            "234/234 [==============================] - 2s 7ms/step - loss: 2849699.7500\n",
            "Epoch 172/250\n",
            "234/234 [==============================] - 2s 6ms/step - loss: 3049772.5000\n",
            "Epoch 173/250\n",
            "234/234 [==============================] - 2s 6ms/step - loss: 3012134.2500\n",
            "Epoch 174/250\n",
            "234/234 [==============================] - 1s 6ms/step - loss: 2882560.7500\n",
            "Epoch 175/250\n",
            "234/234 [==============================] - 2s 7ms/step - loss: 2886402.2500\n",
            "Epoch 176/250\n",
            "234/234 [==============================] - 1s 6ms/step - loss: 2821352.2500\n",
            "Epoch 177/250\n",
            "234/234 [==============================] - 1s 6ms/step - loss: 2897845.2500\n",
            "Epoch 178/250\n",
            "234/234 [==============================] - 1s 6ms/step - loss: 2996904.5000\n",
            "Epoch 179/250\n",
            "234/234 [==============================] - 1s 6ms/step - loss: 2886300.2500\n",
            "Epoch 180/250\n",
            "234/234 [==============================] - 1s 6ms/step - loss: 2891772.5000\n",
            "Epoch 181/250\n",
            "234/234 [==============================] - 1s 6ms/step - loss: 2823822.2500\n",
            "Epoch 182/250\n",
            "234/234 [==============================] - 1s 6ms/step - loss: 2939488.2500\n",
            "Epoch 183/250\n",
            "234/234 [==============================] - 2s 7ms/step - loss: 2846943.7500\n",
            "Epoch 184/250\n",
            "234/234 [==============================] - 1s 6ms/step - loss: 2837200.2500\n",
            "Epoch 185/250\n",
            "234/234 [==============================] - 2s 6ms/step - loss: 3017232.0000\n",
            "Epoch 186/250\n",
            "234/234 [==============================] - 2s 6ms/step - loss: 2734991.2500\n",
            "Epoch 187/250\n",
            "234/234 [==============================] - 1s 6ms/step - loss: 2790252.2500\n",
            "Epoch 188/250\n",
            "234/234 [==============================] - 1s 6ms/step - loss: 2914242.0000\n",
            "Epoch 189/250\n",
            "234/234 [==============================] - 1s 6ms/step - loss: 2938534.5000\n",
            "Epoch 190/250\n",
            "234/234 [==============================] - 1s 6ms/step - loss: 2701668.2500\n",
            "Epoch 191/250\n",
            "234/234 [==============================] - 1s 6ms/step - loss: 2881922.0000\n",
            "Epoch 192/250\n",
            "234/234 [==============================] - 2s 7ms/step - loss: 2938624.5000\n",
            "Epoch 193/250\n",
            "234/234 [==============================] - 1s 6ms/step - loss: 2831490.2500\n",
            "Epoch 194/250\n",
            "234/234 [==============================] - 2s 7ms/step - loss: 2729081.5000\n",
            "Epoch 195/250\n",
            "234/234 [==============================] - 1s 6ms/step - loss: 2895518.0000\n",
            "Epoch 196/250\n",
            "234/234 [==============================] - 2s 7ms/step - loss: 2868586.0000\n",
            "Epoch 197/250\n",
            "234/234 [==============================] - 1s 6ms/step - loss: 2714958.2500\n",
            "Epoch 198/250\n",
            "234/234 [==============================] - 1s 6ms/step - loss: 2703718.7500\n",
            "Epoch 199/250\n",
            "234/234 [==============================] - 1s 6ms/step - loss: 2772338.2500\n",
            "Epoch 200/250\n",
            "234/234 [==============================] - 2s 7ms/step - loss: 2760359.7500\n",
            "Epoch 201/250\n",
            "234/234 [==============================] - 2s 9ms/step - loss: 2720948.0000\n",
            "Epoch 202/250\n",
            "234/234 [==============================] - 2s 6ms/step - loss: 2805586.0000\n",
            "Epoch 203/250\n",
            "234/234 [==============================] - 2s 6ms/step - loss: 2729489.2500\n",
            "Epoch 204/250\n",
            "234/234 [==============================] - 1s 6ms/step - loss: 2665708.2500\n",
            "Epoch 205/250\n",
            "234/234 [==============================] - 1s 6ms/step - loss: 2711161.5000\n",
            "Epoch 206/250\n",
            "234/234 [==============================] - 1s 6ms/step - loss: 2846495.5000\n",
            "Epoch 207/250\n",
            "234/234 [==============================] - 2s 7ms/step - loss: 2736869.2500\n",
            "Epoch 208/250\n",
            "234/234 [==============================] - 2s 6ms/step - loss: 2885823.2500\n",
            "Epoch 209/250\n",
            "234/234 [==============================] - 1s 6ms/step - loss: 2642453.2500\n",
            "Epoch 210/250\n",
            "234/234 [==============================] - 2s 6ms/step - loss: 2719562.7500\n",
            "Epoch 211/250\n",
            "234/234 [==============================] - 2s 7ms/step - loss: 2845985.5000\n",
            "Epoch 212/250\n",
            "234/234 [==============================] - 2s 7ms/step - loss: 2706988.2500\n",
            "Epoch 213/250\n",
            "234/234 [==============================] - 1s 6ms/step - loss: 2711104.7500\n",
            "Epoch 214/250\n",
            "234/234 [==============================] - 2s 7ms/step - loss: 2800059.2500\n",
            "Epoch 215/250\n",
            "234/234 [==============================] - 1s 6ms/step - loss: 2661130.0000\n",
            "Epoch 216/250\n",
            "234/234 [==============================] - 1s 6ms/step - loss: 2673342.0000\n",
            "Epoch 217/250\n",
            "234/234 [==============================] - 1s 6ms/step - loss: 2626308.5000\n",
            "Epoch 218/250\n",
            "234/234 [==============================] - 1s 6ms/step - loss: 2786351.7500\n",
            "Epoch 219/250\n",
            "234/234 [==============================] - 1s 6ms/step - loss: 2683214.0000\n",
            "Epoch 220/250\n",
            "234/234 [==============================] - 2s 7ms/step - loss: 2628158.5000\n",
            "Epoch 221/250\n",
            "234/234 [==============================] - 1s 6ms/step - loss: 2648110.5000\n",
            "Epoch 222/250\n",
            "234/234 [==============================] - 1s 6ms/step - loss: 2635904.2500\n",
            "Epoch 223/250\n",
            "234/234 [==============================] - 2s 7ms/step - loss: 2745316.2500\n",
            "Epoch 224/250\n",
            "234/234 [==============================] - 2s 7ms/step - loss: 2635893.0000\n",
            "Epoch 225/250\n",
            "234/234 [==============================] - 2s 6ms/step - loss: 2704711.0000\n",
            "Epoch 226/250\n",
            "234/234 [==============================] - 1s 6ms/step - loss: 2650571.2500\n",
            "Epoch 227/250\n",
            "234/234 [==============================] - 2s 7ms/step - loss: 2652056.7500\n",
            "Epoch 228/250\n",
            "234/234 [==============================] - 1s 6ms/step - loss: 2594620.0000\n",
            "Epoch 229/250\n",
            "234/234 [==============================] - 1s 6ms/step - loss: 2709779.2500\n",
            "Epoch 230/250\n",
            "234/234 [==============================] - 1s 6ms/step - loss: 2688598.0000\n",
            "Epoch 231/250\n",
            "234/234 [==============================] - 1s 6ms/step - loss: 2670127.0000\n",
            "Epoch 232/250\n",
            "234/234 [==============================] - 1s 6ms/step - loss: 2800640.2500\n",
            "Epoch 233/250\n",
            "234/234 [==============================] - 1s 6ms/step - loss: 2691537.0000\n",
            "Epoch 234/250\n",
            "234/234 [==============================] - 1s 6ms/step - loss: 2578629.2500\n",
            "Epoch 235/250\n",
            "234/234 [==============================] - 1s 6ms/step - loss: 2639805.7500\n",
            "Epoch 236/250\n",
            "234/234 [==============================] - 1s 6ms/step - loss: 2566894.5000\n",
            "Epoch 237/250\n",
            "234/234 [==============================] - 1s 6ms/step - loss: 2686736.0000\n",
            "Epoch 238/250\n",
            "234/234 [==============================] - 1s 6ms/step - loss: 2581514.5000\n",
            "Epoch 239/250\n",
            "234/234 [==============================] - 1s 6ms/step - loss: 2591443.0000\n",
            "Epoch 240/250\n",
            "234/234 [==============================] - 1s 6ms/step - loss: 2588139.7500\n",
            "Epoch 241/250\n",
            "234/234 [==============================] - 1s 6ms/step - loss: 2632411.2500\n",
            "Epoch 242/250\n",
            "234/234 [==============================] - 2s 10ms/step - loss: 2730227.2500\n",
            "Epoch 243/250\n",
            "234/234 [==============================] - 2s 7ms/step - loss: 2661834.0000\n",
            "Epoch 244/250\n",
            "234/234 [==============================] - 2s 7ms/step - loss: 2696901.5000\n",
            "Epoch 245/250\n",
            "234/234 [==============================] - 1s 6ms/step - loss: 2519163.5000\n",
            "Epoch 246/250\n",
            "234/234 [==============================] - 1s 6ms/step - loss: 2785176.0000\n",
            "Epoch 247/250\n",
            "234/234 [==============================] - 2s 7ms/step - loss: 2530782.0000\n",
            "Epoch 248/250\n",
            "234/234 [==============================] - 2s 7ms/step - loss: 2534328.2500\n",
            "Epoch 249/250\n",
            "234/234 [==============================] - 1s 6ms/step - loss: 2607496.0000\n",
            "Epoch 250/250\n",
            "234/234 [==============================] - 1s 6ms/step - loss: 2627527.7500\n"
          ]
        }
      ]
    },
    {
      "cell_type": "code",
      "source": [
        "hist = pd.DataFrame(history.history)\n",
        "hist['epoch'] = history.epoch\n",
        "hist.tail()"
      ],
      "metadata": {
        "colab": {
          "base_uri": "https://localhost:8080/",
          "height": 206
        },
        "id": "VIIaaYRnV9aD",
        "outputId": "9ec56a52-995b-4666-c03b-0de3d9148105"
      },
      "execution_count": null,
      "outputs": [
        {
          "output_type": "execute_result",
          "data": {
            "text/plain": [
              "           loss  epoch\n",
              "245  2785176.00    245\n",
              "246  2530782.00    246\n",
              "247  2534328.25    247\n",
              "248  2607496.00    248\n",
              "249  2627527.75    249"
            ],
            "text/html": [
              "\n",
              "  <div id=\"df-af100751-8a72-43ea-af9d-8b96532605bc\">\n",
              "    <div class=\"colab-df-container\">\n",
              "      <div>\n",
              "<style scoped>\n",
              "    .dataframe tbody tr th:only-of-type {\n",
              "        vertical-align: middle;\n",
              "    }\n",
              "\n",
              "    .dataframe tbody tr th {\n",
              "        vertical-align: top;\n",
              "    }\n",
              "\n",
              "    .dataframe thead th {\n",
              "        text-align: right;\n",
              "    }\n",
              "</style>\n",
              "<table border=\"1\" class=\"dataframe\">\n",
              "  <thead>\n",
              "    <tr style=\"text-align: right;\">\n",
              "      <th></th>\n",
              "      <th>loss</th>\n",
              "      <th>epoch</th>\n",
              "    </tr>\n",
              "  </thead>\n",
              "  <tbody>\n",
              "    <tr>\n",
              "      <th>245</th>\n",
              "      <td>2785176.00</td>\n",
              "      <td>245</td>\n",
              "    </tr>\n",
              "    <tr>\n",
              "      <th>246</th>\n",
              "      <td>2530782.00</td>\n",
              "      <td>246</td>\n",
              "    </tr>\n",
              "    <tr>\n",
              "      <th>247</th>\n",
              "      <td>2534328.25</td>\n",
              "      <td>247</td>\n",
              "    </tr>\n",
              "    <tr>\n",
              "      <th>248</th>\n",
              "      <td>2607496.00</td>\n",
              "      <td>248</td>\n",
              "    </tr>\n",
              "    <tr>\n",
              "      <th>249</th>\n",
              "      <td>2627527.75</td>\n",
              "      <td>249</td>\n",
              "    </tr>\n",
              "  </tbody>\n",
              "</table>\n",
              "</div>\n",
              "      <button class=\"colab-df-convert\" onclick=\"convertToInteractive('df-af100751-8a72-43ea-af9d-8b96532605bc')\"\n",
              "              title=\"Convert this dataframe to an interactive table.\"\n",
              "              style=\"display:none;\">\n",
              "        \n",
              "  <svg xmlns=\"http://www.w3.org/2000/svg\" height=\"24px\"viewBox=\"0 0 24 24\"\n",
              "       width=\"24px\">\n",
              "    <path d=\"M0 0h24v24H0V0z\" fill=\"none\"/>\n",
              "    <path d=\"M18.56 5.44l.94 2.06.94-2.06 2.06-.94-2.06-.94-.94-2.06-.94 2.06-2.06.94zm-11 1L8.5 8.5l.94-2.06 2.06-.94-2.06-.94L8.5 2.5l-.94 2.06-2.06.94zm10 10l.94 2.06.94-2.06 2.06-.94-2.06-.94-.94-2.06-.94 2.06-2.06.94z\"/><path d=\"M17.41 7.96l-1.37-1.37c-.4-.4-.92-.59-1.43-.59-.52 0-1.04.2-1.43.59L10.3 9.45l-7.72 7.72c-.78.78-.78 2.05 0 2.83L4 21.41c.39.39.9.59 1.41.59.51 0 1.02-.2 1.41-.59l7.78-7.78 2.81-2.81c.8-.78.8-2.07 0-2.86zM5.41 20L4 18.59l7.72-7.72 1.47 1.35L5.41 20z\"/>\n",
              "  </svg>\n",
              "      </button>\n",
              "      \n",
              "  <style>\n",
              "    .colab-df-container {\n",
              "      display:flex;\n",
              "      flex-wrap:wrap;\n",
              "      gap: 12px;\n",
              "    }\n",
              "\n",
              "    .colab-df-convert {\n",
              "      background-color: #E8F0FE;\n",
              "      border: none;\n",
              "      border-radius: 50%;\n",
              "      cursor: pointer;\n",
              "      display: none;\n",
              "      fill: #1967D2;\n",
              "      height: 32px;\n",
              "      padding: 0 0 0 0;\n",
              "      width: 32px;\n",
              "    }\n",
              "\n",
              "    .colab-df-convert:hover {\n",
              "      background-color: #E2EBFA;\n",
              "      box-shadow: 0px 1px 2px rgba(60, 64, 67, 0.3), 0px 1px 3px 1px rgba(60, 64, 67, 0.15);\n",
              "      fill: #174EA6;\n",
              "    }\n",
              "\n",
              "    [theme=dark] .colab-df-convert {\n",
              "      background-color: #3B4455;\n",
              "      fill: #D2E3FC;\n",
              "    }\n",
              "\n",
              "    [theme=dark] .colab-df-convert:hover {\n",
              "      background-color: #434B5C;\n",
              "      box-shadow: 0px 1px 3px 1px rgba(0, 0, 0, 0.15);\n",
              "      filter: drop-shadow(0px 1px 2px rgba(0, 0, 0, 0.3));\n",
              "      fill: #FFFFFF;\n",
              "    }\n",
              "  </style>\n",
              "\n",
              "      <script>\n",
              "        const buttonEl =\n",
              "          document.querySelector('#df-af100751-8a72-43ea-af9d-8b96532605bc button.colab-df-convert');\n",
              "        buttonEl.style.display =\n",
              "          google.colab.kernel.accessAllowed ? 'block' : 'none';\n",
              "\n",
              "        async function convertToInteractive(key) {\n",
              "          const element = document.querySelector('#df-af100751-8a72-43ea-af9d-8b96532605bc');\n",
              "          const dataTable =\n",
              "            await google.colab.kernel.invokeFunction('convertToInteractive',\n",
              "                                                     [key], {});\n",
              "          if (!dataTable) return;\n",
              "\n",
              "          const docLinkHtml = 'Like what you see? Visit the ' +\n",
              "            '<a target=\"_blank\" href=https://colab.research.google.com/notebooks/data_table.ipynb>data table notebook</a>'\n",
              "            + ' to learn more about interactive tables.';\n",
              "          element.innerHTML = '';\n",
              "          dataTable['output_type'] = 'display_data';\n",
              "          await google.colab.output.renderOutput(dataTable, element);\n",
              "          const docLink = document.createElement('div');\n",
              "          docLink.innerHTML = docLinkHtml;\n",
              "          element.appendChild(docLink);\n",
              "        }\n",
              "      </script>\n",
              "    </div>\n",
              "  </div>\n",
              "  "
            ]
          },
          "metadata": {},
          "execution_count": 112
        }
      ]
    },
    {
      "cell_type": "code",
      "source": [
        "plt.plot(hist['loss'])\n",
        "plt.xlabel('epochs')\n",
        "plt.ylabel('loss')\n",
        "plt.title('Loss variation with epochs')"
      ],
      "metadata": {
        "colab": {
          "base_uri": "https://localhost:8080/",
          "height": 313
        },
        "id": "vem-6ZCSWex1",
        "outputId": "8803eb15-23b2-48c3-e1d0-2129b5dadd62"
      },
      "execution_count": null,
      "outputs": [
        {
          "output_type": "execute_result",
          "data": {
            "text/plain": [
              "Text(0.5, 1.0, 'Loss variation with epochs')"
            ]
          },
          "metadata": {},
          "execution_count": 113
        },
        {
          "output_type": "display_data",
          "data": {
            "text/plain": [
              "<Figure size 432x288 with 1 Axes>"
            ],
            "image/png": "[encoded data removed]"
          },
          "metadata": {
            "needs_background": "light"
          }
        }
      ]
    },
    {
      "cell_type": "code",
      "source": [
        "y_pred_dnn=model.predict(x_test)"
      ],
      "metadata": {
        "id": "d-rLgsKRU2cH"
      },
      "execution_count": null,
      "outputs": []
    },
    {
      "cell_type": "code",
      "source": [
        "dnn_r2_score = r2_score(y_pred_dnn,y_test)\n",
        "dnn_r2_score"
      ],
      "metadata": {
        "colab": {
          "base_uri": "https://localhost:8080/"
        },
        "id": "WPiAJau6U6ao",
        "outputId": "951e3c13-399e-4ab5-99a3-c70aa6c34236"
      },
      "execution_count": null,
      "outputs": [
        {
          "output_type": "execute_result",
          "data": {
            "text/plain": [
              "0.8337371479840411"
            ]
          },
          "metadata": {},
          "execution_count": 115
        }
      ]
    },
    {
      "cell_type": "code",
      "source": [
        "dnn_mae = mean_absolute_error(y_pred_dnn,y_test)\n",
        "dnn_mae"
      ],
      "metadata": {
        "colab": {
          "base_uri": "https://localhost:8080/"
        },
        "id": "NLJnPX6PZq2T",
        "outputId": "fbfdb5e2-7c76-4336-abe1-690e2e488c08"
      },
      "execution_count": null,
      "outputs": [
        {
          "output_type": "execute_result",
          "data": {
            "text/plain": [
              "1145.4578"
            ]
          },
          "metadata": {},
          "execution_count": 116
        }
      ]
    },
    {
      "cell_type": "code",
      "source": [
        "dnn_mse = mean_squared_error(y_pred_dnn,y_test)\n",
        "dnn_mse"
      ],
      "metadata": {
        "colab": {
          "base_uri": "https://localhost:8080/"
        },
        "id": "VyOHwxuVZu1w",
        "outputId": "17f07553-8348-4a41-9ecc-6d3e60868a48"
      },
      "execution_count": null,
      "outputs": [
        {
          "output_type": "execute_result",
          "data": {
            "text/plain": [
              "3568361.0"
            ]
          },
          "metadata": {},
          "execution_count": 117
        }
      ]
    },
    {
      "cell_type": "code",
      "source": [
        "model.save(\"flightPrediction.h5\")"
      ],
      "metadata": {
        "id": "MG20JOEwxM-u"
      },
      "execution_count": null,
      "outputs": []
    },
    {
      "cell_type": "code",
      "source": [
        "!pip install tensorflowjs\n",
        "!tensorflowjs_converter --input_format keras '/content/flightPrediction.h5' '/content/flightPrediction'"
      ],
      "metadata": {
        "colab": {
          "base_uri": "https://localhost:8080/"
        },
        "id": "tY2x5kQIxTPM",
        "outputId": "4b5ab57d-9afa-4fed-ebfe-5882422acea6"
      },
      "execution_count": null,
      "outputs": [
        {
          "output_type": "stream",
          "name": "stdout",
          "text": [
            "Collecting tensorflowjs\n",
            "  Downloading tensorflowjs-3.15.0-py3-none-any.whl (77 kB)\n",
            "\u001b[?25l\r\u001b[K     |████▎                           | 10 kB 25.8 MB/s eta 0:00:01\r\u001b[K     |████████▌                       | 20 kB 25.8 MB/s eta 0:00:01\r\u001b[K     |████████████▊                   | 30 kB 29.9 MB/s eta 0:00:01\r\u001b[K     |█████████████████               | 40 kB 33.3 MB/s eta 0:00:01\r\u001b[K     |█████████████████████▏          | 51 kB 25.5 MB/s eta 0:00:01\r\u001b[K     |█████████████████████████▍      | 61 kB 27.4 MB/s eta 0:00:01\r\u001b[K     |█████████████████████████████▋  | 71 kB 29.2 MB/s eta 0:00:01\r\u001b[K     |████████████████████████████████| 77 kB 5.2 MB/s \n",
            "\u001b[?25hRequirement already satisfied: tensorflow-hub<0.13,>=0.7.0 in /usr/local/lib/python3.7/dist-packages (from tensorflowjs) (0.12.0)\n",
            "Requirement already satisfied: tensorflow<3,>=2.1.0 in /usr/local/lib/python3.7/dist-packages (from tensorflowjs) (2.8.0)\n",
            "Requirement already satisfied: six<2,>=1.12.0 in /usr/local/lib/python3.7/dist-packages (from tensorflowjs) (1.15.0)\n",
            "Requirement already satisfied: flatbuffers>=1.12 in /usr/local/lib/python3.7/dist-packages (from tensorflow<3,>=2.1.0->tensorflowjs) (2.0)\n",
            "Requirement already satisfied: wrapt>=1.11.0 in /usr/local/lib/python3.7/dist-packages (from tensorflow<3,>=2.1.0->tensorflowjs) (1.14.0)\n",
            "Requirement already satisfied: termcolor>=1.1.0 in /usr/local/lib/python3.7/dist-packages (from tensorflow<3,>=2.1.0->tensorflowjs) (1.1.0)\n",
            "Requirement already satisfied: astunparse>=1.6.0 in /usr/local/lib/python3.7/dist-packages (from tensorflow<3,>=2.1.0->tensorflowjs) (1.6.3)\n",
            "Requirement already satisfied: tensorboard<2.9,>=2.8 in /usr/local/lib/python3.7/dist-packages (from tensorflow<3,>=2.1.0->tensorflowjs) (2.8.0)\n",
            "Requirement already satisfied: gast>=0.2.1 in /usr/local/lib/python3.7/dist-packages (from tensorflow<3,>=2.1.0->tensorflowjs) (0.5.3)\n",
            "Requirement already satisfied: keras<2.9,>=2.8.0rc0 in /usr/local/lib/python3.7/dist-packages (from tensorflow<3,>=2.1.0->tensorflowjs) (2.8.0)\n",
            "Requirement already satisfied: absl-py>=0.4.0 in /usr/local/lib/python3.7/dist-packages (from tensorflow<3,>=2.1.0->tensorflowjs) (1.0.0)\n",
            "Requirement already satisfied: protobuf>=3.9.2 in /usr/local/lib/python3.7/dist-packages (from tensorflow<3,>=2.1.0->tensorflowjs) (3.17.3)\n",
            "Collecting tf-estimator-nightly==2.8.0.dev2021122109\n",
            "  Downloading tf_estimator_nightly-2.8.0.dev2021122109-py2.py3-none-any.whl (462 kB)\n",
            "\u001b[K     |████████████████████████████████| 462 kB 30.5 MB/s \n",
            "\u001b[?25hRequirement already satisfied: tensorflow-io-gcs-filesystem>=0.23.1 in /usr/local/lib/python3.7/dist-packages (from tensorflow<3,>=2.1.0->tensorflowjs) (0.24.0)\n",
            "Requirement already satisfied: opt-einsum>=2.3.2 in /usr/local/lib/python3.7/dist-packages (from tensorflow<3,>=2.1.0->tensorflowjs) (3.3.0)\n",
            "Requirement already satisfied: google-pasta>=0.1.1 in /usr/local/lib/python3.7/dist-packages (from tensorflow<3,>=2.1.0->tensorflowjs) (0.2.0)\n",
            "Requirement already satisfied: setuptools in /usr/local/lib/python3.7/dist-packages (from tensorflow<3,>=2.1.0->tensorflowjs) (57.4.0)\n",
            "Requirement already satisfied: keras-preprocessing>=1.1.1 in /usr/local/lib/python3.7/dist-packages (from tensorflow<3,>=2.1.0->tensorflowjs) (1.1.2)\n",
            "Requirement already satisfied: libclang>=9.0.1 in /usr/local/lib/python3.7/dist-packages (from tensorflow<3,>=2.1.0->tensorflowjs) (13.0.0)\n",
            "Requirement already satisfied: grpcio<2.0,>=1.24.3 in /usr/local/lib/python3.7/dist-packages (from tensorflow<3,>=2.1.0->tensorflowjs) (1.44.0)\n",
            "Requirement already satisfied: numpy>=1.20 in /usr/local/lib/python3.7/dist-packages (from tensorflow<3,>=2.1.0->tensorflowjs) (1.21.6)\n",
            "Requirement already satisfied: typing-extensions>=3.6.6 in /usr/local/lib/python3.7/dist-packages (from tensorflow<3,>=2.1.0->tensorflowjs) (4.2.0)\n",
            "Requirement already satisfied: h5py>=2.9.0 in /usr/local/lib/python3.7/dist-packages (from tensorflow<3,>=2.1.0->tensorflowjs) (3.1.0)\n",
            "Requirement already satisfied: wheel<1.0,>=0.23.0 in /usr/local/lib/python3.7/dist-packages (from astunparse>=1.6.0->tensorflow<3,>=2.1.0->tensorflowjs) (0.37.1)\n",
            "Requirement already satisfied: cached-property in /usr/local/lib/python3.7/dist-packages (from h5py>=2.9.0->tensorflow<3,>=2.1.0->tensorflowjs) (1.5.2)\n",
            "Requirement already satisfied: werkzeug>=0.11.15 in /usr/local/lib/python3.7/dist-packages (from tensorboard<2.9,>=2.8->tensorflow<3,>=2.1.0->tensorflowjs) (1.0.1)\n",
            "Requirement already satisfied: google-auth<3,>=1.6.3 in /usr/local/lib/python3.7/dist-packages (from tensorboard<2.9,>=2.8->tensorflow<3,>=2.1.0->tensorflowjs) (1.35.0)\n",
            "Requirement already satisfied: tensorboard-data-server<0.7.0,>=0.6.0 in /usr/local/lib/python3.7/dist-packages (from tensorboard<2.9,>=2.8->tensorflow<3,>=2.1.0->tensorflowjs) (0.6.1)\n",
            "Requirement already satisfied: requests<3,>=2.21.0 in /usr/local/lib/python3.7/dist-packages (from tensorboard<2.9,>=2.8->tensorflow<3,>=2.1.0->tensorflowjs) (2.23.0)\n",
            "Requirement already satisfied: markdown>=2.6.8 in /usr/local/lib/python3.7/dist-packages (from tensorboard<2.9,>=2.8->tensorflow<3,>=2.1.0->tensorflowjs) (3.3.6)\n",
            "Requirement already satisfied: google-auth-oauthlib<0.5,>=0.4.1 in /usr/local/lib/python3.7/dist-packages (from tensorboard<2.9,>=2.8->tensorflow<3,>=2.1.0->tensorflowjs) (0.4.6)\n",
            "Requirement already satisfied: tensorboard-plugin-wit>=1.6.0 in /usr/local/lib/python3.7/dist-packages (from tensorboard<2.9,>=2.8->tensorflow<3,>=2.1.0->tensorflowjs) (1.8.1)\n",
            "Requirement already satisfied: cachetools<5.0,>=2.0.0 in /usr/local/lib/python3.7/dist-packages (from google-auth<3,>=1.6.3->tensorboard<2.9,>=2.8->tensorflow<3,>=2.1.0->tensorflowjs) (4.2.4)\n",
            "Requirement already satisfied: rsa<5,>=3.1.4 in /usr/local/lib/python3.7/dist-packages (from google-auth<3,>=1.6.3->tensorboard<2.9,>=2.8->tensorflow<3,>=2.1.0->tensorflowjs) (4.8)\n",
            "Requirement already satisfied: pyasn1-modules>=0.2.1 in /usr/local/lib/python3.7/dist-packages (from google-auth<3,>=1.6.3->tensorboard<2.9,>=2.8->tensorflow<3,>=2.1.0->tensorflowjs) (0.2.8)\n",
            "Requirement already satisfied: requests-oauthlib>=0.7.0 in /usr/local/lib/python3.7/dist-packages (from google-auth-oauthlib<0.5,>=0.4.1->tensorboard<2.9,>=2.8->tensorflow<3,>=2.1.0->tensorflowjs) (1.3.1)\n",
            "Requirement already satisfied: importlib-metadata>=4.4 in /usr/local/lib/python3.7/dist-packages (from markdown>=2.6.8->tensorboard<2.9,>=2.8->tensorflow<3,>=2.1.0->tensorflowjs) (4.11.3)\n",
            "Requirement already satisfied: zipp>=0.5 in /usr/local/lib/python3.7/dist-packages (from importlib-metadata>=4.4->markdown>=2.6.8->tensorboard<2.9,>=2.8->tensorflow<3,>=2.1.0->tensorflowjs) (3.8.0)\n",
            "Requirement already satisfied: pyasn1<0.5.0,>=0.4.6 in /usr/local/lib/python3.7/dist-packages (from pyasn1-modules>=0.2.1->google-auth<3,>=1.6.3->tensorboard<2.9,>=2.8->tensorflow<3,>=2.1.0->tensorflowjs) (0.4.8)\n",
            "Requirement already satisfied: urllib3!=1.25.0,!=1.25.1,<1.26,>=1.21.1 in /usr/local/lib/python3.7/dist-packages (from requests<3,>=2.21.0->tensorboard<2.9,>=2.8->tensorflow<3,>=2.1.0->tensorflowjs) (1.24.3)\n",
            "Requirement already satisfied: idna<3,>=2.5 in /usr/local/lib/python3.7/dist-packages (from requests<3,>=2.21.0->tensorboard<2.9,>=2.8->tensorflow<3,>=2.1.0->tensorflowjs) (2.10)\n",
            "Requirement already satisfied: chardet<4,>=3.0.2 in /usr/local/lib/python3.7/dist-packages (from requests<3,>=2.21.0->tensorboard<2.9,>=2.8->tensorflow<3,>=2.1.0->tensorflowjs) (3.0.4)\n",
            "Requirement already satisfied: certifi>=2017.4.17 in /usr/local/lib/python3.7/dist-packages (from requests<3,>=2.21.0->tensorboard<2.9,>=2.8->tensorflow<3,>=2.1.0->tensorflowjs) (2021.10.8)\n",
            "Requirement already satisfied: oauthlib>=3.0.0 in /usr/local/lib/python3.7/dist-packages (from requests-oauthlib>=0.7.0->google-auth-oauthlib<0.5,>=0.4.1->tensorboard<2.9,>=2.8->tensorflow<3,>=2.1.0->tensorflowjs) (3.2.0)\n",
            "Installing collected packages: tf-estimator-nightly, tensorflowjs\n",
            "Successfully installed tensorflowjs-3.15.0 tf-estimator-nightly-2.8.0.dev2021122109\n"
          ]
        }
      ]
    },
    {
      "cell_type": "markdown",
      "source": [
        "## Comparitive Analysis"
      ],
      "metadata": {
        "id": "KHw7mKajKQ0V"
      }
    },
    {
      "cell_type": "code",
      "source": [
        "plt.plot(['DTC','RFC','XG BOOST','LIGHT GBM','DNN'],[dtc_r2_score,rfc_r2_score,xgbr_r2_score,lgbm_r2_score,dnn_r2_score],marker='x',color='orange')\n",
        "plt.xlabel('model')\n",
        "plt.ylabel('r2_score')\n",
        "plt.title('Comparision of r2_score for different models')"
      ],
      "metadata": {
        "id": "UeovuETHKTeE",
        "colab": {
          "base_uri": "https://localhost:8080/",
          "height": 313
        },
        "outputId": "12f37cff-f410-4d94-f59d-c2f9b71c1b07"
      },
      "execution_count": null,
      "outputs": [
        {
          "output_type": "execute_result",
          "data": {
            "text/plain": [
              "Text(0.5, 1.0, 'Comparision of r2_score for different models')"
            ]
          },
          "metadata": {},
          "execution_count": 120
        },
        {
          "output_type": "display_data",
          "data": {
            "text/plain": [
              "<Figure size 432x288 with 1 Axes>"
            ],
            "image/png": "[encoded data removed]"
          },
          "metadata": {
            "needs_background": "light"
          }
        }
      ]
    },
    {
      "cell_type": "code",
      "source": [
        "plt.plot(['DTC','RFC','XG BOOST','LIGHT GBM','DNN'],[dtc_mae,rfc_mae,xgbr_mae,lgbm_mae,dnn_mae],marker='x',color='blue')\n",
        "plt.xlabel('model')\n",
        "plt.ylabel('Mean Absolute Error')\n",
        "plt.title('Comparision of Mean Absolute Error for different models')"
      ],
      "metadata": {
        "colab": {
          "base_uri": "https://localhost:8080/",
          "height": 313
        },
        "id": "MI2tFbcSaeOJ",
        "outputId": "7a048cd1-3e00-41b1-f4b9-2d390899b3ee"
      },
      "execution_count": null,
      "outputs": [
        {
          "output_type": "execute_result",
          "data": {
            "text/plain": [
              "Text(0.5, 1.0, 'Comparision of Mean Absolute Error for different models')"
            ]
          },
          "metadata": {},
          "execution_count": 123
        },
        {
          "output_type": "display_data",
          "data": {
            "text/plain": [
              "<Figure size 432x288 with 1 Axes>"
            ],
            "image/png": "[encoded data removed]"
          },
          "metadata": {
            "needs_background": "light"
          }
        }
      ]
    },
    {
      "cell_type": "code",
      "source": [
        "plt.plot(['DTC','RFC','XG BOOST','LIGHT GBM','DNN'],[dtc_mse,rfc_mse,xgbr_mse,lgbm_mse,dnn_mse],marker='x',color='red')\n",
        "plt.xlabel('model')\n",
        "plt.ylabel('Mean Squared Error')\n",
        "plt.title('Comparision of Mean Squared Error for different models')"
      ],
      "metadata": {
        "colab": {
          "base_uri": "https://localhost:8080/",
          "height": 313
        },
        "id": "zgyQ_LKrakvK",
        "outputId": "8b6855fa-72e6-4d90-ba90-66ba30d2377e"
      },
      "execution_count": null,
      "outputs": [
        {
          "output_type": "execute_result",
          "data": {
            "text/plain": [
              "Text(0.5, 1.0, 'Comparision of Mean Squared Error for different models')"
            ]
          },
          "metadata": {},
          "execution_count": 125
        },
        {
          "output_type": "display_data",
          "data": {
            "text/plain": [
              "<Figure size 432x288 with 1 Axes>"
            ],
            "image/png": "[encoded data removed]"
          },
          "metadata": {
            "needs_background": "light"
          }
        }
      ]
    }
  ]
}